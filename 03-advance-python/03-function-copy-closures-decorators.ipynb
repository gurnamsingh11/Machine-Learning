{
 "cells": [
  {
   "cell_type": "markdown",
   "id": "e602f490-c49b-4e61-ab0a-75b46fbc2271",
   "metadata": {},
   "source": [
    "## Decorators"
   ]
  },
  {
   "cell_type": "markdown",
   "id": "d0e4f31f-2602-42b3-be9e-7b0e50bacf49",
   "metadata": {},
   "source": [
    "### Decorators are a powerful and flexible feature in Python that allows you to modify the behaviour of a function or class method. They are commonly used to ad functionality to functions or methods without modifying their actual code."
   ]
  },
  {
   "cell_type": "markdown",
   "id": "89df009d-26bc-4a22-b8f9-96dd834b108b",
   "metadata": {},
   "source": [
    "#### function copy"
   ]
  },
  {
   "cell_type": "code",
   "execution_count": 1,
   "id": "1aaf4eb7-7036-4fcf-8e6e-2393f5d0bf6a",
   "metadata": {},
   "outputs": [
    {
     "data": {
      "text/plain": [
       "'welcome to the advanced python course'"
      ]
     },
     "execution_count": 1,
     "metadata": {},
     "output_type": "execute_result"
    }
   ],
   "source": [
    "def welcome():\n",
    "    return \"welcome to the advanced python course\"\n",
    "\n",
    "welcome()"
   ]
  },
  {
   "cell_type": "code",
   "execution_count": 4,
   "id": "51c1119c-3312-471e-8c9b-a416bc3c920e",
   "metadata": {},
   "outputs": [
    {
     "data": {
      "text/plain": [
       "'welcome to the advanced python course'"
      ]
     },
     "execution_count": 4,
     "metadata": {},
     "output_type": "execute_result"
    }
   ],
   "source": [
    "wel = welcome\n",
    "wel()"
   ]
  },
  {
   "cell_type": "code",
   "execution_count": 6,
   "id": "9befc2e9-4de2-4574-b972-13d81a1eda6a",
   "metadata": {},
   "outputs": [],
   "source": [
    "del welcome"
   ]
  },
  {
   "cell_type": "code",
   "execution_count": 8,
   "id": "fd2d97d1-c0a9-4336-aa18-e05cdf9c0005",
   "metadata": {},
   "outputs": [
    {
     "data": {
      "text/plain": [
       "'welcome to the advanced python course'"
      ]
     },
     "execution_count": 8,
     "metadata": {},
     "output_type": "execute_result"
    }
   ],
   "source": [
    "wel()"
   ]
  },
  {
   "cell_type": "markdown",
   "id": "9da1b61a-9f94-486a-8514-4ddc45227d9e",
   "metadata": {},
   "source": [
    "#### closures"
   ]
  },
  {
   "cell_type": "code",
   "execution_count": 14,
   "id": "9d67cd87-d104-44e0-908b-7413018a79c9",
   "metadata": {},
   "outputs": [],
   "source": [
    "def main_welcome(msg):\n",
    "    def sub_welcome_method():\n",
    "        print(\"Welcome to the advanced python course\")\n",
    "        print(msg)\n",
    "        print(\"Please learn these concepts properly\")\n",
    "\n",
    "    return sub_welcome_method()"
   ]
  },
  {
   "cell_type": "code",
   "execution_count": 15,
   "id": "0338c23e-e3ae-42a6-a727-07eef1e7a1e5",
   "metadata": {},
   "outputs": [
    {
     "name": "stdout",
     "output_type": "stream",
     "text": [
      "Welcome to the advanced python course\n",
      "welcome everyone\n",
      "Please learn these concepts properly\n"
     ]
    }
   ],
   "source": [
    "main_welcome(\"welcome everyone\")"
   ]
  },
  {
   "cell_type": "code",
   "execution_count": 20,
   "id": "52886e36-5239-43bc-8015-a51a161cff1c",
   "metadata": {},
   "outputs": [],
   "source": [
    "def main_welcome(func):\n",
    "    def sub_welcome_method():\n",
    "        print(\"Welcome to the advanced python course\")\n",
    "        func(\"Welcome everyone to this tutorial\")\n",
    "        print(\"Please learn these concepts properly\")\n",
    "\n",
    "    return sub_welcome_method()"
   ]
  },
  {
   "cell_type": "code",
   "execution_count": 21,
   "id": "01268838-658e-47bd-9943-d1d495d44651",
   "metadata": {},
   "outputs": [
    {
     "name": "stdout",
     "output_type": "stream",
     "text": [
      "Welcome to the advanced python course\n",
      "Welcome everyone to this tutorial\n",
      "Please learn these concepts properly\n"
     ]
    }
   ],
   "source": [
    "main_welcome(print)"
   ]
  },
  {
   "cell_type": "code",
   "execution_count": 25,
   "id": "ba0287f7-b1b9-4b0a-8ffa-3e0f670953d8",
   "metadata": {},
   "outputs": [],
   "source": [
    "def main_welcome(func, lst):\n",
    "    def sub_welcome_method():\n",
    "        print(\"Welcome to the advanced python course\")\n",
    "        print(func(lst))\n",
    "        print(\"Please learn these concepts properly\")\n",
    "\n",
    "    return sub_welcome_method()"
   ]
  },
  {
   "cell_type": "code",
   "execution_count": 26,
   "id": "9e6b9be7-b616-4dfd-bbf8-0b1cee3b6dac",
   "metadata": {},
   "outputs": [
    {
     "name": "stdout",
     "output_type": "stream",
     "text": [
      "Welcome to the advanced python course\n",
      "3\n",
      "Please learn these concepts properly\n"
     ]
    }
   ],
   "source": [
    "main_welcome(len, [1,2,3])"
   ]
  },
  {
   "cell_type": "markdown",
   "id": "91c8b987-03a5-421b-ab2f-6e0ecc827355",
   "metadata": {},
   "source": [
    "#### Decorators"
   ]
  },
  {
   "cell_type": "code",
   "execution_count": 27,
   "id": "d7b7dbf3-6448-4b48-a6c8-f2f03895285a",
   "metadata": {},
   "outputs": [],
   "source": [
    "def main_welcome(func):\n",
    "    \n",
    "    def sub_welcome_method():\n",
    "        print(\"Welcome to the advanced python course\")\n",
    "        func()\n",
    "        print(\"Please learn these concepts properly\")\n",
    "\n",
    "    return sub_welcome_method()"
   ]
  },
  {
   "cell_type": "code",
   "execution_count": 28,
   "id": "278d4420-3aa5-4b7a-83c5-da9caab3b5f7",
   "metadata": {},
   "outputs": [
    {
     "name": "stdout",
     "output_type": "stream",
     "text": [
      "This is an advanced python course\n"
     ]
    }
   ],
   "source": [
    "def course_introduction():\n",
    "    print(\"This is an advanced python course\")\n",
    "\n",
    "course_introduction()"
   ]
  },
  {
   "cell_type": "code",
   "execution_count": 29,
   "id": "9b31b2c0-e8fa-4376-9514-5244c918125d",
   "metadata": {},
   "outputs": [
    {
     "name": "stdout",
     "output_type": "stream",
     "text": [
      "Welcome to the advanced python course\n",
      "This is an advanced python course\n",
      "Please learn these concepts properly\n"
     ]
    }
   ],
   "source": [
    "main_welcome(course_introduction)"
   ]
  },
  {
   "cell_type": "code",
   "execution_count": 30,
   "id": "0a4467a1-bebb-4741-8874-2cde12d631e3",
   "metadata": {},
   "outputs": [],
   "source": [
    "# main welcome --> separate method taking a function"
   ]
  },
  {
   "cell_type": "code",
   "execution_count": 32,
   "id": "f8d623c3-dda0-47c4-8ae3-0be80f0e5ecd",
   "metadata": {},
   "outputs": [
    {
     "name": "stdout",
     "output_type": "stream",
     "text": [
      "Welcome to the advanced python course\n",
      "This is an advanced python course\n",
      "Please learn these concepts properly\n"
     ]
    }
   ],
   "source": [
    "@main_welcome\n",
    "def course_introduction(): # this method is going in decorator as parameter\n",
    "    print(\"This is an advanced python course\")"
   ]
  },
  {
   "cell_type": "code",
   "execution_count": 37,
   "id": "b3891293-681d-471d-ae50-c0c9a21eafe7",
   "metadata": {},
   "outputs": [],
   "source": [
    "def my_decorator(func):\n",
    "    \n",
    "    def wrapper():\n",
    "        print(\"Something is happening before the function called.\")\n",
    "        func()\n",
    "        print(\"Something is happening after the function called.\")\n",
    "\n",
    "    return wrapper"
   ]
  },
  {
   "cell_type": "code",
   "execution_count": 38,
   "id": "6c77d02d-4226-42de-8af9-50159bba4231",
   "metadata": {},
   "outputs": [],
   "source": [
    "@my_decorator\n",
    "def say_hello():\n",
    "    print(\"Hello\")"
   ]
  },
  {
   "cell_type": "code",
   "execution_count": 39,
   "id": "a589dd5b-a8bd-4a0a-8a9a-569493942245",
   "metadata": {},
   "outputs": [
    {
     "name": "stdout",
     "output_type": "stream",
     "text": [
      "Something is happening before the function called.\n",
      "Hello\n",
      "Something is happening after the function called.\n"
     ]
    }
   ],
   "source": [
    "say_hello()"
   ]
  },
  {
   "cell_type": "markdown",
   "id": "3ffd127a-c7ff-42ac-ab2a-4dbaaef37113",
   "metadata": {},
   "source": [
    "#### Decorators with arguments"
   ]
  },
  {
   "cell_type": "code",
   "execution_count": 40,
   "id": "a27cc972-5e7a-48ef-bfeb-580a70698916",
   "metadata": {},
   "outputs": [],
   "source": [
    "def repeat(n):\n",
    "    def decorator(func):\n",
    "        def wrapper(*args, **kwargs):\n",
    "            for _ in range(n):\n",
    "                func(*args, **kwargs)\n",
    "        return wrapper\n",
    "    return decorator"
   ]
  },
  {
   "cell_type": "code",
   "execution_count": 41,
   "id": "0117f9e2-5fa1-4487-8139-27e875dd0f33",
   "metadata": {},
   "outputs": [],
   "source": [
    "@repeat(3)\n",
    "def say_hello():\n",
    "    print(\"Hello\")"
   ]
  },
  {
   "cell_type": "code",
   "execution_count": 43,
   "id": "c0cf9476-0194-419a-be56-14500ca879e5",
   "metadata": {},
   "outputs": [
    {
     "name": "stdout",
     "output_type": "stream",
     "text": [
      "Hello\n",
      "Hello\n",
      "Hello\n"
     ]
    }
   ],
   "source": [
    "say_hello()"
   ]
  }
 ],
 "metadata": {
  "kernelspec": {
   "display_name": "Machine Learning",
   "language": "python",
   "name": "ml"
  },
  "language_info": {
   "codemirror_mode": {
    "name": "ipython",
    "version": 3
   },
   "file_extension": ".py",
   "mimetype": "text/x-python",
   "name": "python",
   "nbconvert_exporter": "python",
   "pygments_lexer": "ipython3",
   "version": "3.12.6"
  }
 },
 "nbformat": 4,
 "nbformat_minor": 5
}
