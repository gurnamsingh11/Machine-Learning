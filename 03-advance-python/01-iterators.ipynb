{
 "cells": [
  {
   "cell_type": "markdown",
   "id": "07d2d0c2-b84b-441c-a068-f0ce1e7c9a79",
   "metadata": {},
   "source": [
    "## Iterators"
   ]
  },
  {
   "cell_type": "code",
   "execution_count": 13,
   "id": "e4272f5d-70cb-4e17-8dba-4bd76bef8433",
   "metadata": {},
   "outputs": [],
   "source": [
    "my_list = [1,2,3,4,5,6]"
   ]
  },
  {
   "cell_type": "code",
   "execution_count": 14,
   "id": "5e769f62-0cbf-4cba-b1c7-b185a5d1312c",
   "metadata": {},
   "outputs": [
    {
     "name": "stdout",
     "output_type": "stream",
     "text": [
      "<class 'list_iterator'>\n"
     ]
    }
   ],
   "source": [
    "iterator = iter(my_list)\n",
    "print(type(iterator))"
   ]
  },
  {
   "cell_type": "code",
   "execution_count": 15,
   "id": "7a937563-1b7b-414c-9d86-3740719d4736",
   "metadata": {},
   "outputs": [
    {
     "data": {
      "text/plain": [
       "<list_iterator at 0x24f9bceb9d0>"
      ]
     },
     "execution_count": 15,
     "metadata": {},
     "output_type": "execute_result"
    }
   ],
   "source": [
    "iterator"
   ]
  },
  {
   "cell_type": "code",
   "execution_count": 45,
   "id": "a8efd65b-a268-4cbb-9801-b4603be82d4b",
   "metadata": {},
   "outputs": [
    {
     "data": {
      "text/plain": [
       "2"
      ]
     },
     "execution_count": 45,
     "metadata": {},
     "output_type": "execute_result"
    }
   ],
   "source": [
    "# iterate through all the elements\n",
    "\n",
    "next(iterator)"
   ]
  },
  {
   "cell_type": "code",
   "execution_count": 66,
   "id": "80bdf9ed-29cd-4d46-b537-38fc6e0ec49e",
   "metadata": {},
   "outputs": [],
   "source": [
    "iterator = iter(my_list)\n",
    "\n",
    "try:\n",
    "    next(iterator)\n",
    "except StopIteration:\n",
    "    print(\"There are no elements in the iterator\")"
   ]
  },
  {
   "cell_type": "code",
   "execution_count": null,
   "id": "9f37f4cf-56f8-42d5-acdb-771ea141fdac",
   "metadata": {},
   "outputs": [],
   "source": []
  }
 ],
 "metadata": {
  "kernelspec": {
   "display_name": "Machine Learning",
   "language": "python",
   "name": "ml"
  },
  "language_info": {
   "codemirror_mode": {
    "name": "ipython",
    "version": 3
   },
   "file_extension": ".py",
   "mimetype": "text/x-python",
   "name": "python",
   "nbconvert_exporter": "python",
   "pygments_lexer": "ipython3",
   "version": "3.12.6"
  }
 },
 "nbformat": 4,
 "nbformat_minor": 5
}
