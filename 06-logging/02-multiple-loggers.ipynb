{
 "cells": [
  {
   "cell_type": "markdown",
   "id": "0a5d65a9-0a7b-469a-9f67-c915610a8be9",
   "metadata": {},
   "source": [
    "## Multiple Loggers"
   ]
  },
  {
   "cell_type": "code",
   "execution_count": 1,
   "id": "896391ae-4720-41e1-ad36-59ff5234001a",
   "metadata": {},
   "outputs": [],
   "source": [
    "import logging"
   ]
  },
  {
   "cell_type": "markdown",
   "id": "3f563f4d-3c5b-4de2-8aac-490671410e50",
   "metadata": {},
   "source": [
    "#### Create a logger for module1"
   ]
  },
  {
   "cell_type": "code",
   "execution_count": 2,
   "id": "d5906684-23fd-4121-a6fb-b6d8c955e77e",
   "metadata": {},
   "outputs": [],
   "source": [
    "logger1 = logging.getLogger(\"module1\")\n",
    "logger1.setLevel(logging.DEBUG)"
   ]
  },
  {
   "cell_type": "markdown",
   "id": "c04475f6-3859-4dce-8955-604563a35af7",
   "metadata": {},
   "source": [
    "#### Create a logger for module2"
   ]
  },
  {
   "cell_type": "code",
   "execution_count": 4,
   "id": "36dc224a-2d8c-4eb7-9daa-67d0839351f2",
   "metadata": {},
   "outputs": [],
   "source": [
    "logger2 = logging.getLogger(\"module2\")\n",
    "logger2.setLevel(logging.WARNING)"
   ]
  },
  {
   "cell_type": "code",
   "execution_count": 5,
   "id": "b6c3441d-9242-4aae-9f88-a2dacfc839ca",
   "metadata": {},
   "outputs": [],
   "source": [
    "#### log message with different loggers"
   ]
  },
  {
   "cell_type": "code",
   "execution_count": 7,
   "id": "0b8b1c42-1d8b-472f-9a4b-2c0c1b592f88",
   "metadata": {},
   "outputs": [
    {
     "name": "stderr",
     "output_type": "stream",
     "text": [
      "This is a warning message for module 2\n",
      "This is an error message for module 2\n"
     ]
    }
   ],
   "source": [
    "logger1.debug(\"This is a debug message for module 1\")\n",
    "logger2.warning(\"This is a warning message for module 2\")\n",
    "logger2.error(\"This is an error message for module 2\")"
   ]
  },
  {
   "cell_type": "code",
   "execution_count": null,
   "id": "bee213fa-04aa-4050-b778-710f67b77e08",
   "metadata": {},
   "outputs": [],
   "source": []
  }
 ],
 "metadata": {
  "kernelspec": {
   "display_name": "Machine Learning",
   "language": "python",
   "name": "ml"
  },
  "language_info": {
   "codemirror_mode": {
    "name": "ipython",
    "version": 3
   },
   "file_extension": ".py",
   "mimetype": "text/x-python",
   "name": "python",
   "nbconvert_exporter": "python",
   "pygments_lexer": "ipython3",
   "version": "3.12.6"
  }
 },
 "nbformat": 4,
 "nbformat_minor": 5
}
