{
 "cells": [
  {
   "cell_type": "markdown",
   "id": "2718d80b-ca31-4bb4-b9af-f1120906afec",
   "metadata": {},
   "source": [
    "## Logging"
   ]
  },
  {
   "cell_type": "code",
   "execution_count": 1,
   "id": "77fe4f9f-2ac5-46b8-8248-9421167900fd",
   "metadata": {},
   "outputs": [],
   "source": [
    "import logging"
   ]
  },
  {
   "cell_type": "markdown",
   "id": "85663ee9-7611-47fc-bb82-fa930433dbb6",
   "metadata": {},
   "source": [
    "### Configure the basic logging settings"
   ]
  },
  {
   "cell_type": "code",
   "execution_count": 3,
   "id": "792fd4b1-fc60-44a6-8df9-024de3c02c2a",
   "metadata": {},
   "outputs": [],
   "source": [
    "logging.basicConfig(level=logging.DEBUG) # debug when developing the application"
   ]
  },
  {
   "cell_type": "markdown",
   "id": "1f9bc25a-494f-48a1-82b8-2fd765854712",
   "metadata": {},
   "source": [
    "### Log Messages with different severity"
   ]
  },
  {
   "cell_type": "code",
   "execution_count": 6,
   "id": "95edafc8-2a7b-456c-b97a-38b0b28c6886",
   "metadata": {},
   "outputs": [
    {
     "name": "stderr",
     "output_type": "stream",
     "text": [
      "DEBUG:root:This is a debug message\n",
      "INFO:root:This is an info message\n",
      "WARNING:root:This is a warning message\n",
      "ERROR:root:This is an error message\n",
      "CRITICAL:root:This is a critical message\n"
     ]
    }
   ],
   "source": [
    "logging.debug(\"This is a debug message\")\n",
    "logging.info(\"This is an info message\")\n",
    "logging.warning(\"This is a warning message\")\n",
    "logging.error(\"This is an error message\")\n",
    "logging.critical(\"This is a critical message\")"
   ]
  },
  {
   "cell_type": "markdown",
   "id": "a55bd1c1-50a6-48d0-b6a7-e72f905d575f",
   "metadata": {},
   "source": [
    "### Configure"
   ]
  },
  {
   "cell_type": "code",
   "execution_count": 2,
   "id": "ec6a9b45-7440-4860-a43e-a29683e7c518",
   "metadata": {},
   "outputs": [],
   "source": [
    "# restart kernel after changing config\n",
    "logging.basicConfig(\n",
    "    filename = 'app.log',\n",
    "    filemode = 'w',\n",
    "    level = logging.DEBUG,\n",
    "    format = '%(asctime)s-%(name)s-%(levelname)s-%(message)s',\n",
    "    datefmt = '%Y-%m-%d %H:%M:%S'\n",
    ")"
   ]
  },
  {
   "cell_type": "code",
   "execution_count": 3,
   "id": "734d2882-624b-4177-8e04-37db954226b9",
   "metadata": {},
   "outputs": [],
   "source": [
    "logging.debug(\"This is a debug message\")\n",
    "logging.info(\"This is an info message\")\n",
    "logging.warning(\"This is a warning message\")\n",
    "logging.error(\"This is an error message\")\n",
    "logging.critical(\"This is a critical message\")"
   ]
  },
  {
   "cell_type": "code",
   "execution_count": null,
   "id": "fe094daa-be18-4e9b-b59a-78af1f54278c",
   "metadata": {},
   "outputs": [],
   "source": []
  }
 ],
 "metadata": {
  "kernelspec": {
   "display_name": "Machine Learning",
   "language": "python",
   "name": "ml"
  },
  "language_info": {
   "codemirror_mode": {
    "name": "ipython",
    "version": 3
   },
   "file_extension": ".py",
   "mimetype": "text/x-python",
   "name": "python",
   "nbconvert_exporter": "python",
   "pygments_lexer": "ipython3",
   "version": "3.12.6"
  }
 },
 "nbformat": 4,
 "nbformat_minor": 5
}
