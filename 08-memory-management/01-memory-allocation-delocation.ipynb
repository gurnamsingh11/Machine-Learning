{
 "cells": [
  {
   "cell_type": "markdown",
   "id": "ad91db59-6ec8-4182-a00f-7091514665b0",
   "metadata": {},
   "source": [
    "### Reference Counting"
   ]
  },
  {
   "cell_type": "markdown",
   "id": "ce9678be-de35-4048-ad61-7d7afed1e2e7",
   "metadata": {},
   "source": [
    "#### method python uses to manage memory. Each object in python maintains a count of references pointing to it. when the reference count drops to zero, memory occupied by the object is deallocated"
   ]
  },
  {
   "cell_type": "code",
   "execution_count": 2,
   "id": "3b37fadc-1bb5-4aad-8e0f-aaea018dec2f",
   "metadata": {},
   "outputs": [
    {
     "name": "stdout",
     "output_type": "stream",
     "text": [
      "2\n"
     ]
    }
   ],
   "source": [
    "import sys\n",
    "\n",
    "a = []\n",
    "\n",
    "# 2 ( one from 'a' and one from getrefcount() )\n",
    "print(sys.getrefcount(a))"
   ]
  },
  {
   "cell_type": "code",
   "execution_count": 4,
   "id": "d8fde3b2-a3db-4558-9856-a81214503c53",
   "metadata": {},
   "outputs": [
    {
     "name": "stdout",
     "output_type": "stream",
     "text": [
      "3\n"
     ]
    }
   ],
   "source": [
    "b = a\n",
    "print(sys.getrefcount(a))"
   ]
  },
  {
   "cell_type": "code",
   "execution_count": 5,
   "id": "3a5b6d2d-6164-4fb0-ba61-edb506cd12f1",
   "metadata": {},
   "outputs": [
    {
     "name": "stdout",
     "output_type": "stream",
     "text": [
      "2\n"
     ]
    }
   ],
   "source": [
    "del b\n",
    "print(sys.getrefcount(a))"
   ]
  },
  {
   "cell_type": "markdown",
   "id": "2804598a-54eb-417a-aaa5-1116435ad96c",
   "metadata": {},
   "source": [
    "### Garbage Collection"
   ]
  },
  {
   "cell_type": "markdown",
   "id": "e1bed966-1daf-48a8-bde4-93ff4ab0a135",
   "metadata": {},
   "source": [
    "#### Python includes a cyclic garbage collection to handle references cycles. Reference cycles occur when objects reference each other, preventing their reference counts from reaching zero."
   ]
  },
  {
   "cell_type": "code",
   "execution_count": 8,
   "id": "c04a7703-00e8-4be4-85cd-0e489c9b74b2",
   "metadata": {},
   "outputs": [],
   "source": [
    "import gc\n",
    "\n",
    "# enable garbage collection\n",
    "gc.enable()"
   ]
  },
  {
   "cell_type": "code",
   "execution_count": 9,
   "id": "579b1eb5-e7bb-4927-a3c8-afae9d8cc5ae",
   "metadata": {},
   "outputs": [],
   "source": [
    "gc.disable()"
   ]
  },
  {
   "cell_type": "code",
   "execution_count": 10,
   "id": "9b7bdd81-cde4-4ddf-8db5-058b93fc3163",
   "metadata": {},
   "outputs": [
    {
     "data": {
      "text/plain": [
       "1756"
      ]
     },
     "execution_count": 10,
     "metadata": {},
     "output_type": "execute_result"
    }
   ],
   "source": [
    "# manually trigger\n",
    "gc.collect()"
   ]
  },
  {
   "cell_type": "code",
   "execution_count": 12,
   "id": "00568a4f-c8c7-4928-85bb-f9385a917866",
   "metadata": {},
   "outputs": [
    {
     "name": "stdout",
     "output_type": "stream",
     "text": [
      "[{'collections': 215, 'collected': 7306, 'uncollectable': 0}, {'collections': 19, 'collected': 1180, 'uncollectable': 0}, {'collections': 2, 'collected': 1756, 'uncollectable': 0}]\n"
     ]
    }
   ],
   "source": [
    "# get garbage collection stats\n",
    "print(gc.get_stats())"
   ]
  },
  {
   "cell_type": "code",
   "execution_count": 14,
   "id": "71fd7106-3044-4386-8b70-c600a746a6e4",
   "metadata": {},
   "outputs": [
    {
     "name": "stdout",
     "output_type": "stream",
     "text": [
      "[]\n"
     ]
    }
   ],
   "source": [
    "# get unreachable objects\n",
    "print(gc.garbage)"
   ]
  },
  {
   "cell_type": "markdown",
   "id": "01c537bc-2935-4b9e-8837-67f5eda13ebd",
   "metadata": {},
   "source": [
    "### Memory Management Best Practics\n",
    "1. <h5>Use Local variables</h5>Local variables have shorter lifespan and are freed sooner than glombal variables\n",
    "2. <h5>Avoid Circular References</h5>Circular references can lead to memory leaks if not properly managed.m\n",
    "3. <h5>Use Generators</h5>Generators produce items one at a time and only keep one item in memory at a timem making them memory efficient.\n",
    "4. <h5>Explicitly Delete Objects</h5>Use the <b>del</b> statement to delete variables and objects explicity.\n",
    "5. <h5>Profile Memory Usage</h5>Use memory profiling tools like <b>tracemalloc</b> and <b>memory_profiler</b> to identify memory leaks and optimize memory usage."
   ]
  },
  {
   "cell_type": "markdown",
   "id": "3fd70187-49d5-4b73-9db9-79e18d20d6a6",
   "metadata": {},
   "source": [
    "#### Handling circular references "
   ]
  },
  {
   "cell_type": "code",
   "execution_count": 18,
   "id": "f4c978c1-ce2d-41e5-86ec-3ee174e4b4a5",
   "metadata": {},
   "outputs": [
    {
     "name": "stdout",
     "output_type": "stream",
     "text": [
      "Object: obj1 created\n",
      "Object: obj2 created\n"
     ]
    }
   ],
   "source": [
    "import gc\n",
    "\n",
    "class MyObject:\n",
    "    def __init__(self, name):\n",
    "        self.name = name\n",
    "        print(f\"Object: {self.name} created\")\n",
    "\n",
    "    def __del__(self):\n",
    "        print(f\"Object: {self.name} delete\")\n",
    "\n",
    "\n",
    "## create circular reference\n",
    "\n",
    "obj1 = MyObject(\"obj1\")\n",
    "obj2 = MyObject(\"obj2\")\n",
    "obj1.ref = obj2\n",
    "obj2.ref = obj1\n",
    "\n",
    "# because of circular reference below two lines wont be executed\n",
    "del obj1\n",
    "del obj2"
   ]
  },
  {
   "cell_type": "code",
   "execution_count": 19,
   "id": "a989525c-dc22-4da4-b907-466468855695",
   "metadata": {},
   "outputs": [
    {
     "name": "stdout",
     "output_type": "stream",
     "text": [
      "Object: obj1 delete\n",
      "Object: obj2 delete\n",
      "Object: obj1 delete\n",
      "Object: obj2 delete\n"
     ]
    },
    {
     "data": {
      "text/plain": [
       "1082"
      ]
     },
     "execution_count": 19,
     "metadata": {},
     "output_type": "execute_result"
    }
   ],
   "source": [
    "## Manually trigger garbage collection to delete\n",
    "gc.collect() \n",
    "\n",
    "# 4 times because above 2 times"
   ]
  },
  {
   "cell_type": "markdown",
   "id": "b6106311-4b36-456b-9dd4-0935dabd53a8",
   "metadata": {},
   "source": [
    "#### Generators\n",
    "- allows you to produce items one at a time, using memory efficiently by only keeping one item in memory at a time"
   ]
  },
  {
   "cell_type": "code",
   "execution_count": 20,
   "id": "267e673c-6788-4a2d-9dcb-c72261f4b3bc",
   "metadata": {},
   "outputs": [],
   "source": [
    "def generate_number(n):\n",
    "    for i in range(n):\n",
    "        yield i"
   ]
  },
  {
   "cell_type": "code",
   "execution_count": 22,
   "id": "a3cd1bac-cfbe-4661-9af3-9d39b81fbe52",
   "metadata": {},
   "outputs": [
    {
     "name": "stdout",
     "output_type": "stream",
     "text": [
      "0\n",
      "1\n",
      "2\n",
      "3\n",
      "4\n",
      "5\n",
      "6\n",
      "7\n",
      "8\n",
      "9\n",
      "10\n",
      "11\n"
     ]
    }
   ],
   "source": [
    "for num in generate_number(10000):\n",
    "    print(num)\n",
    "    if num > 10:\n",
    "        break"
   ]
  },
  {
   "cell_type": "markdown",
   "id": "691c3a78-7a2f-493e-9b46-1bb3d157738c",
   "metadata": {},
   "source": [
    "### Profiling Memory Usage with tracemalloc"
   ]
  },
  {
   "cell_type": "code",
   "execution_count": 25,
   "id": "5359de8d-916a-40e8-a522-96dde77d12cc",
   "metadata": {},
   "outputs": [],
   "source": [
    "import tracemalloc \n",
    "\n",
    "def create_list():\n",
    "    return [i for i in range(10000)]\n",
    "\n",
    "\n",
    "def main():\n",
    "    tracemalloc.start()\n",
    "\n",
    "    create_list()\n",
    "\n",
    "    snapshot = tracemalloc.take_snapshot()\n",
    "    top_stats = snapshot.statistics('lineno')\n",
    "\n",
    "    print(\"[ Top 10 ]\")\n",
    "    for stat in top_stats[::]:\n",
    "        print(stat)"
   ]
  },
  {
   "cell_type": "code",
   "execution_count": 26,
   "id": "6a8ca445-fa88-467d-85c7-2bf3f6b46914",
   "metadata": {},
   "outputs": [
    {
     "name": "stdout",
     "output_type": "stream",
     "text": [
      "[ Top 10 ]\n",
      "C:\\Users\\gurunaml\\AppData\\Local\\Programs\\Python\\Python312\\Lib\\json\\decoder.py:353: size=2403 B, count=36, average=67 B\n",
      "C:\\Users\\gurunaml\\OneDrive - Firstsource Solutions Ltd\\Desktop\\ML\\ML\\Lib\\site-packages\\zmq\\sugar\\attrsettr.py:45: size=1410 B, count=30, average=47 B\n",
      "C:\\Users\\gurunaml\\AppData\\Local\\Programs\\Python\\Python312\\Lib\\codeop.py:126: size=1316 B, count=11, average=120 B\n",
      "C:\\Users\\gurunaml\\OneDrive - Firstsource Solutions Ltd\\Desktop\\ML\\ML\\Lib\\site-packages\\traitlets\\traitlets.py:731: size=1279 B, count=20, average=64 B\n",
      "C:\\Users\\gurunaml\\OneDrive - Firstsource Solutions Ltd\\Desktop\\ML\\ML\\Lib\\site-packages\\traitlets\\traitlets.py:1514: size=1080 B, count=9, average=120 B\n",
      "C:\\Users\\gurunaml\\OneDrive - Firstsource Solutions Ltd\\Desktop\\ML\\ML\\Lib\\site-packages\\zmq\\sugar\\socket.py:811: size=1056 B, count=6, average=176 B\n",
      "C:\\Users\\gurunaml\\OneDrive - Firstsource Solutions Ltd\\Desktop\\ML\\ML\\Lib\\site-packages\\IPython\\core\\compilerop.py:174: size=1017 B, count=14, average=73 B\n",
      "C:\\Users\\gurunaml\\OneDrive - Firstsource Solutions Ltd\\Desktop\\ML\\ML\\Lib\\site-packages\\traitlets\\traitlets.py:1543: size=864 B, count=14, average=62 B\n",
      "C:\\Users\\gurunaml\\OneDrive - Firstsource Solutions Ltd\\Desktop\\ML\\ML\\Lib\\site-packages\\IPython\\core\\compilerop.py:86: size=795 B, count=10, average=80 B\n",
      "C:\\Users\\gurunaml\\AppData\\Local\\Programs\\Python\\Python312\\Lib\\threading.py:293: size=760 B, count=2, average=380 B\n",
      "C:\\Users\\gurunaml\\OneDrive - Firstsource Solutions Ltd\\Desktop\\ML\\ML\\Lib\\site-packages\\jupyter_client\\jsonutil.py:111: size=750 B, count=15, average=50 B\n",
      "C:\\Users\\gurunaml\\OneDrive - Firstsource Solutions Ltd\\Desktop\\ML\\ML\\Lib\\site-packages\\jupyter_client\\session.py:1057: size=737 B, count=6, average=123 B\n",
      "C:\\Users\\gurunaml\\OneDrive - Firstsource Solutions Ltd\\Desktop\\ML\\ML\\Lib\\site-packages\\IPython\\core\\history.py:836: size=616 B, count=6, average=103 B\n",
      "C:\\Users\\gurunaml\\OneDrive - Firstsource Solutions Ltd\\Desktop\\ML\\ML\\Lib\\site-packages\\jupyter_client\\session.py:100: size=594 B, count=4, average=148 B\n",
      "C:\\Users\\gurunaml\\AppData\\Local\\Programs\\Python\\Python312\\Lib\\asyncio\\events.py:88: size=576 B, count=5, average=115 B\n",
      "C:\\Users\\gurunaml\\OneDrive - Firstsource Solutions Ltd\\Desktop\\ML\\ML\\Lib\\site-packages\\IPython\\core\\interactiveshell.py:3106: size=520 B, count=4, average=130 B\n",
      "C:\\Users\\gurunaml\\OneDrive - Firstsource Solutions Ltd\\Desktop\\ML\\ML\\Lib\\site-packages\\ipykernel\\kernelbase.py:775: size=424 B, count=2, average=212 B\n",
      "C:\\Users\\gurunaml\\AppData\\Local\\Programs\\Python\\Python312\\Lib\\asyncio\\base_events.py:815: size=416 B, count=4, average=104 B\n",
      "C:\\Users\\gurunaml\\OneDrive - Firstsource Solutions Ltd\\Desktop\\ML\\ML\\Lib\\site-packages\\jupyter_client\\jsonutil.py:75: size=416 B, count=2, average=208 B\n",
      "C:\\Users\\gurunaml\\OneDrive - Firstsource Solutions Ltd\\Desktop\\ML\\ML\\Lib\\site-packages\\IPython\\core\\history.py:782: size=387 B, count=2, average=194 B\n",
      "C:\\Users\\gurunaml\\OneDrive - Firstsource Solutions Ltd\\Desktop\\ML\\ML\\Lib\\site-packages\\IPython\\core\\interactiveshell.py:3336: size=376 B, count=1, average=376 B\n",
      "C:\\Users\\gurunaml\\OneDrive - Firstsource Solutions Ltd\\Desktop\\ML\\ML\\Lib\\site-packages\\ipykernel\\iostream.py:346: size=360 B, count=5, average=72 B\n",
      "C:\\Users\\gurunaml\\OneDrive - Firstsource Solutions Ltd\\Desktop\\ML\\ML\\Lib\\site-packages\\ipykernel\\ipkernel.py:362: size=360 B, count=1, average=360 B\n",
      "C:\\Users\\gurunaml\\OneDrive - Firstsource Solutions Ltd\\Desktop\\ML\\ML\\Lib\\site-packages\\tornado\\platform\\asyncio.py:235: size=352 B, count=5, average=70 B\n",
      "C:\\Users\\gurunaml\\OneDrive - Firstsource Solutions Ltd\\Desktop\\ML\\ML\\Lib\\site-packages\\IPython\\core\\interactiveshell.py:3519: size=296 B, count=1, average=296 B\n",
      "C:\\Users\\gurunaml\\OneDrive - Firstsource Solutions Ltd\\Desktop\\ML\\ML\\Lib\\site-packages\\ipykernel\\zmqshell.py:549: size=288 B, count=4, average=72 B\n",
      "C:\\Users\\gurunaml\\OneDrive - Firstsource Solutions Ltd\\Desktop\\ML\\ML\\Lib\\site-packages\\tornado\\queues.py:248: size=288 B, count=2, average=144 B\n",
      "C:\\Users\\gurunaml\\AppData\\Local\\Programs\\Python\\Python312\\Lib\\asyncio\\base_events.py:449: size=288 B, count=2, average=144 B\n",
      "C:\\Users\\gurunaml\\OneDrive - Firstsource Solutions Ltd\\Desktop\\ML\\ML\\Lib\\site-packages\\ipykernel\\iostream.py:276: size=280 B, count=2, average=140 B\n",
      "C:\\Users\\gurunaml\\AppData\\Local\\Programs\\Python\\Python312\\Lib\\threading.py:290: size=280 B, count=2, average=140 B\n",
      "C:\\Users\\gurunaml\\OneDrive - Firstsource Solutions Ltd\\Desktop\\ML\\ML\\Lib\\site-packages\\ipykernel\\iostream.py:527: size=272 B, count=4, average=68 B\n",
      "C:\\Users\\gurunaml\\OneDrive - Firstsource Solutions Ltd\\Desktop\\ML\\ML\\Lib\\site-packages\\ipykernel\\kernelbase.py:534: size=264 B, count=1, average=264 B\n",
      "C:\\Users\\gurunaml\\OneDrive - Firstsource Solutions Ltd\\Desktop\\ML\\ML\\Lib\\site-packages\\ipykernel\\kernelbase.py:435: size=248 B, count=1, average=248 B\n",
      "C:\\Users\\gurunaml\\OneDrive - Firstsource Solutions Ltd\\Desktop\\ML\\ML\\Lib\\site-packages\\ipykernel\\iostream.py:121: size=248 B, count=1, average=248 B\n",
      "C:\\Users\\gurunaml\\OneDrive - Firstsource Solutions Ltd\\Desktop\\ML\\ML\\Lib\\site-packages\\ipykernel\\iostream.py:287: size=240 B, count=2, average=120 B\n",
      "C:\\Users\\gurunaml\\AppData\\Local\\Programs\\Python\\Python312\\Lib\\inspect.py:266: size=240 B, count=2, average=120 B\n",
      "C:\\Users\\gurunaml\\AppData\\Local\\Programs\\Python\\Python312\\Lib\\logging\\__init__.py:1622: size=240 B, count=1, average=240 B\n",
      "C:\\Users\\gurunaml\\OneDrive - Firstsource Solutions Ltd\\Desktop\\ML\\ML\\Lib\\site-packages\\ipykernel\\kernelbase.py:545: size=232 B, count=1, average=232 B\n",
      "C:\\Users\\gurunaml\\OneDrive - Firstsource Solutions Ltd\\Desktop\\ML\\ML\\Lib\\site-packages\\ipykernel\\compiler.py:91: size=211 B, count=2, average=106 B\n",
      "C:\\Users\\gurunaml\\OneDrive - Firstsource Solutions Ltd\\Desktop\\ML\\ML\\Lib\\site-packages\\IPython\\core\\interactiveshell.py:3226: size=208 B, count=4, average=52 B\n",
      "C:\\Users\\gurunaml\\OneDrive - Firstsource Solutions Ltd\\Desktop\\ML\\ML\\Lib\\site-packages\\IPython\\core\\interactiveshell.py:3225: size=208 B, count=4, average=52 B\n",
      "C:\\Users\\gurunaml\\OneDrive - Firstsource Solutions Ltd\\Desktop\\ML\\ML\\Lib\\site-packages\\jupyter_client\\session.py:1085: size=208 B, count=1, average=208 B\n",
      "C:\\Users\\gurunaml\\OneDrive - Firstsource Solutions Ltd\\Desktop\\ML\\ML\\Lib\\site-packages\\ipykernel\\kernelbase.py:770: size=208 B, count=1, average=208 B\n",
      "C:\\Users\\gurunaml\\AppData\\Local\\Programs\\Python\\Python312\\Lib\\asyncio\\futures.py:422: size=200 B, count=5, average=40 B\n",
      "C:\\Users\\gurunaml\\OneDrive - Firstsource Solutions Ltd\\Desktop\\ML\\ML\\Lib\\site-packages\\zmq\\sugar\\socket.py:808: size=176 B, count=1, average=176 B\n",
      "C:\\Users\\gurunaml\\OneDrive - Firstsource Solutions Ltd\\Desktop\\ML\\ML\\Lib\\site-packages\\zmq\\eventloop\\zmqstream.py:685: size=160 B, count=1, average=160 B\n",
      "C:\\Users\\gurunaml\\OneDrive - Firstsource Solutions Ltd\\Desktop\\ML\\ML\\Lib\\site-packages\\ipykernel\\kernelbase.py:570: size=160 B, count=1, average=160 B\n",
      "C:\\Users\\gurunaml\\OneDrive - Firstsource Solutions Ltd\\Desktop\\ML\\ML\\Lib\\site-packages\\IPython\\core\\interactiveshell.py:3579: size=160 B, count=1, average=160 B\n",
      "C:\\Users\\gurunaml\\OneDrive - Firstsource Solutions Ltd\\Desktop\\ML\\ML\\Lib\\site-packages\\IPython\\core\\interactiveshell.py:3495: size=160 B, count=1, average=160 B\n",
      "C:\\Users\\gurunaml\\OneDrive - Firstsource Solutions Ltd\\Desktop\\ML\\ML\\Lib\\site-packages\\IPython\\core\\interactiveshell.py:3239: size=160 B, count=1, average=160 B\n",
      "C:\\Users\\gurunaml\\AppData\\Local\\Temp\\ipykernel_2608\\1654756982.py:7: size=160 B, count=1, average=160 B\n",
      "C:\\Users\\gurunaml\\AppData\\Local\\Temp\\ipykernel_2608\\1654756982.py:3: size=160 B, count=1, average=160 B\n",
      "C:\\Users\\gurunaml\\AppData\\Local\\Programs\\Python\\Python312\\Lib\\asyncio\\futures.py:398: size=160 B, count=1, average=160 B\n",
      "C:\\Users\\gurunaml\\AppData\\Local\\Programs\\Python\\Python312\\Lib\\asyncio\\futures.py:391: size=160 B, count=1, average=160 B\n",
      "C:\\Users\\gurunaml\\AppData\\Local\\Programs\\Python\\Python312\\Lib\\asyncio\\futures.py:385: size=160 B, count=1, average=160 B\n",
      "C:\\Users\\gurunaml\\OneDrive - Firstsource Solutions Ltd\\Desktop\\ML\\ML\\Lib\\site-packages\\ipykernel\\iostream.py:722: size=144 B, count=2, average=72 B\n",
      "C:\\Users\\gurunaml\\OneDrive - Firstsource Solutions Ltd\\Desktop\\ML\\ML\\Lib\\site-packages\\ipykernel\\kernelbase.py:318: size=120 B, count=2, average=60 B\n",
      "C:\\Users\\gurunaml\\AppData\\Local\\Programs\\Python\\Python312\\Lib\\threading.py:135: size=120 B, count=2, average=60 B\n",
      "C:\\Users\\gurunaml\\AppData\\Local\\Programs\\Python\\Python312\\Lib\\asyncio\\base_events.py:778: size=120 B, count=1, average=120 B\n",
      "C:\\Users\\gurunaml\\OneDrive - Firstsource Solutions Ltd\\Desktop\\ML\\ML\\Lib\\site-packages\\jupyter_client\\session.py:989: size=111 B, count=2, average=56 B\n",
      "C:\\Users\\gurunaml\\OneDrive - Firstsource Solutions Ltd\\Desktop\\ML\\ML\\Lib\\site-packages\\jupyter_client\\session.py:688: size=97 B, count=1, average=97 B\n",
      "C:\\Users\\gurunaml\\OneDrive - Firstsource Solutions Ltd\\Desktop\\ML\\ML\\Lib\\site-packages\\dateutil\\parser\\isoparser.py:146: size=96 B, count=2, average=48 B\n",
      "C:\\Users\\gurunaml\\OneDrive - Firstsource Solutions Ltd\\Desktop\\ML\\ML\\Lib\\site-packages\\IPython\\core\\interactiveshell.py:3377: size=96 B, count=2, average=48 B\n",
      "C:\\Users\\gurunaml\\OneDrive - Firstsource Solutions Ltd\\Desktop\\ML\\ML\\Lib\\site-packages\\jupyter_client\\session.py:750: size=96 B, count=1, average=96 B\n",
      "C:\\Users\\gurunaml\\OneDrive - Firstsource Solutions Ltd\\Desktop\\ML\\ML\\Lib\\site-packages\\IPython\\core\\history.py:805: size=90 B, count=2, average=45 B\n",
      "C:\\Users\\gurunaml\\OneDrive - Firstsource Solutions Ltd\\Desktop\\ML\\ML\\Lib\\site-packages\\ipykernel\\kernelbase.py:1182: size=90 B, count=1, average=90 B\n",
      "C:\\Users\\gurunaml\\OneDrive - Firstsource Solutions Ltd\\Desktop\\ML\\ML\\Lib\\site-packages\\IPython\\core\\history.py:851: size=72 B, count=1, average=72 B\n",
      "C:\\Users\\gurunaml\\OneDrive - Firstsource Solutions Ltd\\Desktop\\ML\\ML\\Lib\\site-packages\\IPython\\core\\history.py:834: size=72 B, count=1, average=72 B\n",
      "C:\\Users\\gurunaml\\AppData\\Local\\Programs\\Python\\Python312\\Lib\\threading.py:292: size=72 B, count=1, average=72 B\n",
      "C:\\Users\\gurunaml\\AppData\\Local\\Programs\\Python\\Python312\\Lib\\threading.py:288: size=72 B, count=1, average=72 B\n",
      "C:\\Users\\gurunaml\\AppData\\Local\\Programs\\Python\\Python312\\Lib\\threading.py:283: size=72 B, count=1, average=72 B\n",
      "C:\\Users\\gurunaml\\AppData\\Local\\Programs\\Python\\Python312\\Lib\\threading.py:282: size=72 B, count=1, average=72 B\n",
      "C:\\Users\\gurunaml\\OneDrive - Firstsource Solutions Ltd\\Desktop\\ML\\ML\\Lib\\site-packages\\IPython\\core\\interactiveshell.py:3511: size=64 B, count=2, average=32 B\n",
      "C:\\Users\\gurunaml\\OneDrive - Firstsource Solutions Ltd\\Desktop\\ML\\ML\\Lib\\site-packages\\zmq\\sugar\\socket.py:812: size=64 B, count=1, average=64 B\n",
      "C:\\Users\\gurunaml\\OneDrive - Firstsource Solutions Ltd\\Desktop\\ML\\ML\\Lib\\site-packages\\ipykernel\\ipkernel.py:384: size=64 B, count=1, average=64 B\n",
      "C:\\Users\\gurunaml\\OneDrive - Firstsource Solutions Ltd\\Desktop\\ML\\ML\\Lib\\site-packages\\ipykernel\\ipkernel.py:383: size=64 B, count=1, average=64 B\n",
      "C:\\Users\\gurunaml\\OneDrive - Firstsource Solutions Ltd\\Desktop\\ML\\ML\\Lib\\site-packages\\ipykernel\\ipkernel.py:294: size=64 B, count=1, average=64 B\n",
      "C:\\Users\\gurunaml\\OneDrive - Firstsource Solutions Ltd\\Desktop\\ML\\ML\\Lib\\site-packages\\ipykernel\\ipkernel.py:291: size=64 B, count=1, average=64 B\n",
      "C:\\Users\\gurunaml\\OneDrive - Firstsource Solutions Ltd\\Desktop\\ML\\ML\\Lib\\site-packages\\decorator.py:232: size=64 B, count=1, average=64 B\n",
      "C:\\Users\\gurunaml\\OneDrive - Firstsource Solutions Ltd\\Desktop\\ML\\ML\\Lib\\site-packages\\IPython\\core\\interactiveshell.py:3568: size=64 B, count=1, average=64 B\n",
      "C:\\Users\\gurunaml\\OneDrive - Firstsource Solutions Ltd\\Desktop\\ML\\ML\\Lib\\site-packages\\IPython\\core\\interactiveshell.py:3305: size=64 B, count=1, average=64 B\n",
      "C:\\Users\\gurunaml\\OneDrive - Firstsource Solutions Ltd\\Desktop\\ML\\ML\\Lib\\site-packages\\IPython\\core\\interactiveshell.py:3302: size=64 B, count=1, average=64 B\n",
      "C:\\Users\\gurunaml\\AppData\\Local\\Programs\\Python\\Python312\\Lib\\selectors.py:323: size=56 B, count=1, average=56 B\n",
      "C:\\Users\\gurunaml\\AppData\\Local\\Programs\\Python\\Python312\\Lib\\selectors.py:321: size=56 B, count=1, average=56 B\n",
      "C:\\Users\\gurunaml\\OneDrive - Firstsource Solutions Ltd\\Desktop\\ML\\ML\\Lib\\site-packages\\ipykernel\\iostream.py:684: size=50 B, count=1, average=50 B\n",
      "C:\\Users\\gurunaml\\OneDrive - Firstsource Solutions Ltd\\Desktop\\ML\\ML\\Lib\\site-packages\\jupyter_client\\session.py:200: size=48 B, count=1, average=48 B\n",
      "C:\\Users\\gurunaml\\OneDrive - Firstsource Solutions Ltd\\Desktop\\ML\\ML\\Lib\\site-packages\\IPython\\core\\interactiveshell.py:3507: size=48 B, count=1, average=48 B\n",
      "C:\\Users\\gurunaml\\OneDrive - Firstsource Solutions Ltd\\Desktop\\ML\\ML\\Lib\\site-packages\\IPython\\core\\history.py:835: size=48 B, count=1, average=48 B\n",
      "C:\\Users\\gurunaml\\AppData\\Local\\Programs\\Python\\Python312\\Lib\\concurrent\\futures\\_base.py:330: size=48 B, count=1, average=48 B\n",
      "C:\\Users\\gurunaml\\OneDrive - Firstsource Solutions Ltd\\Desktop\\ML\\ML\\Lib\\site-packages\\IPython\\core\\prefilter.py:317: size=47 B, count=1, average=47 B\n",
      "C:\\Users\\gurunaml\\OneDrive - Firstsource Solutions Ltd\\Desktop\\ML\\ML\\Lib\\site-packages\\zmq\\eventloop\\zmqstream.py:665: size=40 B, count=1, average=40 B\n",
      "C:\\Users\\gurunaml\\OneDrive - Firstsource Solutions Ltd\\Desktop\\ML\\ML\\Lib\\site-packages\\jupyter_client\\session.py:996: size=32 B, count=1, average=32 B\n",
      "C:\\Users\\gurunaml\\OneDrive - Firstsource Solutions Ltd\\Desktop\\ML\\ML\\Lib\\site-packages\\jupyter_client\\session.py:603: size=32 B, count=1, average=32 B\n",
      "C:\\Users\\gurunaml\\OneDrive - Firstsource Solutions Ltd\\Desktop\\ML\\ML\\Lib\\site-packages\\ipykernel\\iostream.py:637: size=32 B, count=1, average=32 B\n",
      "C:\\Users\\gurunaml\\OneDrive - Firstsource Solutions Ltd\\Desktop\\ML\\ML\\Lib\\site-packages\\IPython\\core\\interactiveshell.py:3505: size=32 B, count=1, average=32 B\n",
      "C:\\Users\\gurunaml\\OneDrive - Firstsource Solutions Ltd\\Desktop\\ML\\ML\\Lib\\site-packages\\IPython\\core\\history.py:793: size=32 B, count=1, average=32 B\n",
      "C:\\Users\\gurunaml\\OneDrive - Firstsource Solutions Ltd\\Desktop\\ML\\ML\\Lib\\site-packages\\IPython\\core\\compilerop.py:192: size=32 B, count=1, average=32 B\n",
      "C:\\Users\\gurunaml\\AppData\\Local\\Programs\\Python\\Python312\\Lib\\concurrent\\futures\\_base.py:421: size=32 B, count=1, average=32 B\n",
      "C:\\Users\\gurunaml\\AppData\\Local\\Programs\\Python\\Python312\\Lib\\asyncio\\base_events.py:1970: size=32 B, count=1, average=32 B\n",
      "C:\\Users\\gurunaml\\AppData\\Local\\Programs\\Python\\Python312\\Lib\\asyncio\\base_events.py:781: size=32 B, count=1, average=32 B\n",
      "C:\\Users\\gurunaml\\OneDrive - Firstsource Solutions Ltd\\Desktop\\ML\\ML\\Lib\\site-packages\\IPython\\core\\compilerop.py:172: size=28 B, count=1, average=28 B\n",
      "C:\\Users\\gurunaml\\OneDrive - Firstsource Solutions Ltd\\Desktop\\ML\\ML\\Lib\\site-packages\\IPython\\core\\interactiveshell.py:3487: size=8 B, count=1, average=8 B\n"
     ]
    }
   ],
   "source": [
    "main()"
   ]
  },
  {
   "cell_type": "code",
   "execution_count": null,
   "id": "a14241c0-2dc8-43b1-a785-bb9256e587ed",
   "metadata": {},
   "outputs": [],
   "source": [
    "top_stats"
   ]
  }
 ],
 "metadata": {
  "kernelspec": {
   "display_name": "Machine Learning",
   "language": "python",
   "name": "ml"
  },
  "language_info": {
   "codemirror_mode": {
    "name": "ipython",
    "version": 3
   },
   "file_extension": ".py",
   "mimetype": "text/x-python",
   "name": "python",
   "nbconvert_exporter": "python",
   "pygments_lexer": "ipython3",
   "version": "3.12.6"
  }
 },
 "nbformat": 4,
 "nbformat_minor": 5
}
