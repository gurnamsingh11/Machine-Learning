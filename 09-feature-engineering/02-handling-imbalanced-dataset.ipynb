{
 "cells": [
  {
   "cell_type": "markdown",
   "id": "b0ac823e-b260-4d5f-8451-30f7e358b9c1",
   "metadata": {},
   "source": [
    "## Handling Imabalanced Dataset"
   ]
  },
  {
   "cell_type": "markdown",
   "id": "f8a99402-2218-4add-8f2d-a5d9d2486863",
   "metadata": {},
   "source": [
    "### Binary Classification Problem\n",
    "\n",
    "Suppose we have a classification problem with a column containing values **Yes** or **No**. This is known as **Binary Classification** (two possible values).\n",
    "\n",
    "#### Example:\n",
    "- We have 1000 data points.\n",
    "  - 900 are **Yes**.\n",
    "  - 100 are **No**.\n",
    "\n",
    "The **ratio** is **9:1**, which makes the model biased towards **Yes**.\n",
    "\n",
    "#### Sampling Techniques:\n",
    "To address this bias, we can use two types of sampling techniques:\n",
    "\n",
    "1. **Up Sampling**:  \n",
    "   This technique **increases** the data points for the **No** class to balance the distribution.\n",
    "\n",
    "2. **Down Sampling**:  \n",
    "   This technique **reduces** the data points for the **Yes** class to balance the distribution.\n"
   ]
  },
  {
   "cell_type": "code",
   "execution_count": 4,
   "id": "7acce5e8-dbad-4850-b919-fb0c87c2d4a5",
   "metadata": {},
   "outputs": [],
   "source": [
    "import numpy as np\n",
    "import pandas as pd\n",
    "\n",
    "# set the random seed\n",
    "np.random.seed(123)\n",
    "\n",
    "# create a df with two classes\n",
    "n_samples = 1000\n",
    "class_0_ratio = 0.9\n",
    "n_class_0 = int(n_samples * class_0_ratio)  # 900\n",
    "n_class_1 = n_samples - n_class_0"
   ]
  },
  {
   "cell_type": "code",
   "execution_count": 6,
   "id": "54ca6fe3-1f0d-4381-9044-d9a324d66a26",
   "metadata": {},
   "outputs": [
    {
     "data": {
      "text/plain": [
       "(900, 100)"
      ]
     },
     "execution_count": 6,
     "metadata": {},
     "output_type": "execute_result"
    }
   ],
   "source": [
    "n_class_0, n_class_1"
   ]
  },
  {
   "cell_type": "code",
   "execution_count": 13,
   "id": "3a1145c2-2416-41e0-b4f3-6ab2e649adfa",
   "metadata": {},
   "outputs": [],
   "source": [
    "# create df with imbalanced dataset\n",
    "\n",
    "# loc: mean, scale: standard deviation\n",
    "\n",
    "# 900 data points\n",
    "class_0 = pd.DataFrame({\n",
    "    'feature_1': np.random.normal(loc=0, scale=1, size=n_class_0),\n",
    "    'feature_2': np.random.normal(loc=0, scale=1, size=n_class_0),\n",
    "    'target': [0] * n_class_0\n",
    "})\n",
    "\n",
    "# 100 data points\n",
    "class_1 = pd.DataFrame({\n",
    "    'feature_1': np.random.normal(loc=0, scale=1, size=n_class_1),\n",
    "    'feature_2': np.random.normal(loc=0, scale=1, size=n_class_1),\n",
    "    'target': [1] * n_class_1\n",
    "})"
   ]
  },
  {
   "cell_type": "code",
   "execution_count": 14,
   "id": "64e4e01d-7463-4636-82fb-b2e40e32d6f6",
   "metadata": {},
   "outputs": [],
   "source": [
    "df = pd.concat([class_0, class_1]).reset_index(drop=True)"
   ]
  },
  {
   "cell_type": "code",
   "execution_count": 15,
   "id": "c954a639-c7bb-4f33-b9cb-b85027bed631",
   "metadata": {},
   "outputs": [
    {
     "data": {
      "text/html": [
       "<div>\n",
       "<style scoped>\n",
       "    .dataframe tbody tr th:only-of-type {\n",
       "        vertical-align: middle;\n",
       "    }\n",
       "\n",
       "    .dataframe tbody tr th {\n",
       "        vertical-align: top;\n",
       "    }\n",
       "\n",
       "    .dataframe thead th {\n",
       "        text-align: right;\n",
       "    }\n",
       "</style>\n",
       "<table border=\"1\" class=\"dataframe\">\n",
       "  <thead>\n",
       "    <tr style=\"text-align: right;\">\n",
       "      <th></th>\n",
       "      <th>feature_1</th>\n",
       "      <th>feature_2</th>\n",
       "      <th>target</th>\n",
       "    </tr>\n",
       "  </thead>\n",
       "  <tbody>\n",
       "    <tr>\n",
       "      <th>0</th>\n",
       "      <td>-1.774224</td>\n",
       "      <td>0.285744</td>\n",
       "      <td>0</td>\n",
       "    </tr>\n",
       "    <tr>\n",
       "      <th>1</th>\n",
       "      <td>-1.201377</td>\n",
       "      <td>0.333279</td>\n",
       "      <td>0</td>\n",
       "    </tr>\n",
       "    <tr>\n",
       "      <th>2</th>\n",
       "      <td>1.096257</td>\n",
       "      <td>0.531807</td>\n",
       "      <td>0</td>\n",
       "    </tr>\n",
       "    <tr>\n",
       "      <th>3</th>\n",
       "      <td>0.861037</td>\n",
       "      <td>-0.354766</td>\n",
       "      <td>0</td>\n",
       "    </tr>\n",
       "    <tr>\n",
       "      <th>4</th>\n",
       "      <td>-1.520367</td>\n",
       "      <td>-1.120815</td>\n",
       "      <td>0</td>\n",
       "    </tr>\n",
       "  </tbody>\n",
       "</table>\n",
       "</div>"
      ],
      "text/plain": [
       "   feature_1  feature_2  target\n",
       "0  -1.774224   0.285744       0\n",
       "1  -1.201377   0.333279       0\n",
       "2   1.096257   0.531807       0\n",
       "3   0.861037  -0.354766       0\n",
       "4  -1.520367  -1.120815       0"
      ]
     },
     "execution_count": 15,
     "metadata": {},
     "output_type": "execute_result"
    }
   ],
   "source": [
    "df.head()"
   ]
  },
  {
   "cell_type": "code",
   "execution_count": 16,
   "id": "cb083a79-fc93-406e-bcd6-56968ab789df",
   "metadata": {},
   "outputs": [
    {
     "data": {
      "text/plain": [
       "target\n",
       "0    900\n",
       "1    100\n",
       "Name: count, dtype: int64"
      ]
     },
     "execution_count": 16,
     "metadata": {},
     "output_type": "execute_result"
    }
   ],
   "source": [
    "df['target'].value_counts()"
   ]
  },
  {
   "cell_type": "markdown",
   "id": "6bee0ecc-1283-4cb9-bf88-311e9d032b7b",
   "metadata": {
    "jp-MarkdownHeadingCollapsed": true
   },
   "source": [
    "#### Up Sampling"
   ]
  },
  {
   "cell_type": "code",
   "execution_count": 24,
   "id": "5bb60287-7fa9-4000-970d-ac59d397e4dd",
   "metadata": {},
   "outputs": [],
   "source": [
    "df_minority = df[df['target'] ==1]\n",
    "df_majority = df[df['target'] ==0]"
   ]
  },
  {
   "cell_type": "code",
   "execution_count": 20,
   "id": "a69d4360-aa4b-4262-85f6-488b48483c38",
   "metadata": {},
   "outputs": [],
   "source": [
    "# 1st param: for which sample i want to perfom up sampling\n",
    "# 2nd param (replace): sample to add with replacement\n",
    "# 3rd: how many sample to increase\n",
    "# 4th: random state"
   ]
  },
  {
   "cell_type": "code",
   "execution_count": 25,
   "id": "90d63992-b5bf-4973-9eed-5bd64faa31c3",
   "metadata": {},
   "outputs": [],
   "source": [
    "from sklearn.utils import resample\n",
    "\n",
    "# there were 100 data points for minority\n",
    "\n",
    "df_minority_upsampled = resample(df_minority,\n",
    "                                 replace=True,\n",
    "                                 n_samples=len(df_majority),\n",
    "                                 random_state=42\n",
    "                                )"
   ]
  },
  {
   "cell_type": "code",
   "execution_count": 26,
   "id": "a937f3bb-8ef5-461c-b79d-2cb0cc3dd692",
   "metadata": {},
   "outputs": [
    {
     "data": {
      "text/plain": [
       "(900, 3)"
      ]
     },
     "execution_count": 26,
     "metadata": {},
     "output_type": "execute_result"
    }
   ],
   "source": [
    "df_minority_upsampled.shape"
   ]
  },
  {
   "cell_type": "code",
   "execution_count": 27,
   "id": "42109420-9cca-4b72-a706-fa83c24ba5b9",
   "metadata": {},
   "outputs": [],
   "source": [
    "df_upsampled = pd.concat([df_majority, df_minority_upsampled])"
   ]
  },
  {
   "cell_type": "code",
   "execution_count": 28,
   "id": "11569450-cdfd-4c84-914e-729be3877756",
   "metadata": {},
   "outputs": [
    {
     "data": {
      "text/plain": [
       "target\n",
       "0    900\n",
       "1    900\n",
       "Name: count, dtype: int64"
      ]
     },
     "execution_count": 28,
     "metadata": {},
     "output_type": "execute_result"
    }
   ],
   "source": [
    "df_upsampled['target'].value_counts()"
   ]
  },
  {
   "cell_type": "markdown",
   "id": "01700676-d317-45ee-b91e-d1a47e72ef99",
   "metadata": {
    "jp-MarkdownHeadingCollapsed": true
   },
   "source": [
    "#### Down Sampling"
   ]
  },
  {
   "cell_type": "code",
   "execution_count": 31,
   "id": "48b4c9cc-deb0-45f7-8246-cc5c0a523b28",
   "metadata": {},
   "outputs": [
    {
     "data": {
      "text/plain": [
       "target\n",
       "0    900\n",
       "1    100\n",
       "Name: count, dtype: int64"
      ]
     },
     "execution_count": 31,
     "metadata": {},
     "output_type": "execute_result"
    }
   ],
   "source": [
    "# 900 data points\n",
    "class_0 = pd.DataFrame({\n",
    "    'feature_1': np.random.normal(loc=0, scale=1, size=n_class_0),\n",
    "    'feature_2': np.random.normal(loc=0, scale=1, size=n_class_0),\n",
    "    'target': [0] * n_class_0\n",
    "})\n",
    "\n",
    "# 100 data points\n",
    "class_1 = pd.DataFrame({\n",
    "    'feature_1': np.random.normal(loc=0, scale=1, size=n_class_1),\n",
    "    'feature_2': np.random.normal(loc=0, scale=1, size=n_class_1),\n",
    "    'target': [1] * n_class_1\n",
    "})\n",
    "\n",
    "df = pd.concat([class_0, class_1]).reset_index(drop=True)\n",
    "\n",
    "df['target'].value_counts()"
   ]
  },
  {
   "cell_type": "code",
   "execution_count": 32,
   "id": "c71d69fd-f35f-4229-b5d8-a45a03adcee2",
   "metadata": {},
   "outputs": [],
   "source": [
    "df_minority = df[df['target'] ==1]\n",
    "df_majority = df[df['target'] ==0]"
   ]
  },
  {
   "cell_type": "code",
   "execution_count": 33,
   "id": "81d27661-5a21-4714-9ef1-3e8fc2bfeee7",
   "metadata": {},
   "outputs": [],
   "source": [
    "from sklearn.utils import resample\n",
    "\n",
    "# there were 100 data points for minority\n",
    "\n",
    "df_majority_downsampled = resample(df_majority,\n",
    "                                 replace=False, # we need to reduce the data points\n",
    "                                 n_samples=len(df_minority),\n",
    "                                 random_state=42\n",
    "                                )"
   ]
  },
  {
   "cell_type": "code",
   "execution_count": 34,
   "id": "aed254a3-8b88-4447-b784-de6ec3240eab",
   "metadata": {},
   "outputs": [
    {
     "data": {
      "text/plain": [
       "(100, 3)"
      ]
     },
     "execution_count": 34,
     "metadata": {},
     "output_type": "execute_result"
    }
   ],
   "source": [
    "df_majority_downsampled.shape"
   ]
  },
  {
   "cell_type": "code",
   "execution_count": 35,
   "id": "1f5afb7c-8e19-4bf6-8195-3ac11458d10d",
   "metadata": {},
   "outputs": [],
   "source": [
    "df_downsampled = pd.concat([df_majority_downsampled, df_minority])"
   ]
  },
  {
   "cell_type": "code",
   "execution_count": 36,
   "id": "68b3ed0b-d0c4-4fb4-bfbb-8d0bad6ba2ac",
   "metadata": {},
   "outputs": [
    {
     "data": {
      "text/plain": [
       "target\n",
       "0    100\n",
       "1    100\n",
       "Name: count, dtype: int64"
      ]
     },
     "execution_count": 36,
     "metadata": {},
     "output_type": "execute_result"
    }
   ],
   "source": [
    "df_downsampled.target.value_counts()"
   ]
  }
 ],
 "metadata": {
  "kernelspec": {
   "display_name": "Machine Learning",
   "language": "python",
   "name": "ml"
  },
  "language_info": {
   "codemirror_mode": {
    "name": "ipython",
    "version": 3
   },
   "file_extension": ".py",
   "mimetype": "text/x-python",
   "name": "python",
   "nbconvert_exporter": "python",
   "pygments_lexer": "ipython3",
   "version": "3.12.6"
  }
 },
 "nbformat": 4,
 "nbformat_minor": 5
}
