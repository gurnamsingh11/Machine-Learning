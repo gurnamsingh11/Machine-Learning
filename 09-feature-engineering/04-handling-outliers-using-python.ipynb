{
 "cells": [
  {
   "cell_type": "markdown",
   "id": "1cea1566-aeae-4f90-b3bd-afd04d3d58ed",
   "metadata": {},
   "source": [
    "## 5 number summary and Box Plot\n",
    "### Minimum, Maximum, Median, Q1, Q3, IQR"
   ]
  },
  {
   "cell_type": "code",
   "execution_count": 1,
   "id": "8045882c-d3c9-44a3-9652-787d06d6369d",
   "metadata": {},
   "outputs": [],
   "source": [
    "import numpy as np"
   ]
  },
  {
   "cell_type": "code",
   "execution_count": 2,
   "id": "f1898c69-c6cf-4601-801d-fd5a46187982",
   "metadata": {},
   "outputs": [],
   "source": [
    "marks = [45,32,56,75,89,54,32,89,90,87,67,54,45,98,99,67,74]\n",
    "minimum, Q1, median, Q3, maximum = np.quantile(marks, [0,0.25,0.50,0.75,1.0])"
   ]
  },
  {
   "cell_type": "code",
   "execution_count": 5,
   "id": "cf0a6591-a59d-4277-b757-a97b142f62f3",
   "metadata": {},
   "outputs": [
    {
     "name": "stdout",
     "output_type": "stream",
     "text": [
      "32.0 54.0 67.0 89.0 99.0\n"
     ]
    }
   ],
   "source": [
    "print(minimum, Q1, median, Q3, maximum)"
   ]
  },
  {
   "cell_type": "code",
   "execution_count": 6,
   "id": "3b8e609b-c136-42b0-b505-ed88d7833f08",
   "metadata": {},
   "outputs": [
    {
     "name": "stdout",
     "output_type": "stream",
     "text": [
      "35.0\n"
     ]
    }
   ],
   "source": [
    "IQR = Q3 - Q1\n",
    "print(IQR)"
   ]
  },
  {
   "cell_type": "code",
   "execution_count": 8,
   "id": "6b7fe46e-7f6f-4ec9-b568-c76ef8e2878f",
   "metadata": {},
   "outputs": [],
   "source": [
    "lower_fence = Q1 - 1.5 * (IQR)\n",
    "higher_fence = Q3 + 1.5 * (IQR)"
   ]
  },
  {
   "cell_type": "code",
   "execution_count": 10,
   "id": "8dd3d459-fcae-449a-9b70-250ddd0a72d0",
   "metadata": {},
   "outputs": [
    {
     "name": "stdout",
     "output_type": "stream",
     "text": [
      "1.5 141.5\n"
     ]
    }
   ],
   "source": [
    "print(lower_fence, higher_fence)"
   ]
  },
  {
   "cell_type": "markdown",
   "id": "d9988d8a-6922-4e30-b5cd-6142f8c0a31f",
   "metadata": {},
   "source": [
    "### Create Box Plot"
   ]
  },
  {
   "cell_type": "code",
   "execution_count": 11,
   "id": "4746b2f0-bb0f-41f2-ad29-31b091c46651",
   "metadata": {},
   "outputs": [],
   "source": [
    "import seaborn as sns"
   ]
  },
  {
   "cell_type": "code",
   "execution_count": 15,
   "id": "ec6cc923-ee88-46a6-ad69-748a604ee32f",
   "metadata": {},
   "outputs": [],
   "source": [
    "marks = [-100, -200, 45,32,56,75,89,54,32,89,90,87,67,54,45,98,99,67,74,150,170,180]"
   ]
  },
  {
   "cell_type": "code",
   "execution_count": 16,
   "id": "e5fc8b47-e2d9-4818-82ea-594aadfded45",
   "metadata": {},
   "outputs": [
    {
     "data": {
      "text/plain": [
       "<Axes: >"
      ]
     },
     "execution_count": 16,
     "metadata": {},
     "output_type": "execute_result"
    },
    {
     "data": {
      "image/png": "[encoded data removed]",
      "text/plain": [
       "<Figure size 640x480 with 1 Axes>"
      ]
     },
     "metadata": {},
     "output_type": "display_data"
    }
   ],
   "source": [
    "sns.boxplot(marks)"
   ]
  }
 ],
 "metadata": {
  "kernelspec": {
   "display_name": "Machine Learning",
   "language": "python",
   "name": "ml"
  },
  "language_info": {
   "codemirror_mode": {
    "name": "ipython",
    "version": 3
   },
   "file_extension": ".py",
   "mimetype": "text/x-python",
   "name": "python",
   "nbconvert_exporter": "python",
   "pygments_lexer": "ipython3",
   "version": "3.12.6"
  }
 },
 "nbformat": 4,
 "nbformat_minor": 5
}
