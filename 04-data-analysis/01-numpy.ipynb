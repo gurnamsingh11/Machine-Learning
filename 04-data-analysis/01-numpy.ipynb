{
 "cells": [
  {
   "cell_type": "markdown",
   "id": "4eb759b9-cd1d-4ab3-bf4a-8540b3ff2454",
   "metadata": {},
   "source": [
    "## Numpy"
   ]
  },
  {
   "cell_type": "code",
   "execution_count": 2,
   "id": "074a4c06-3df3-436f-9234-1b1b282f61cf",
   "metadata": {},
   "outputs": [],
   "source": [
    "import numpy as np"
   ]
  },
  {
   "cell_type": "markdown",
   "id": "2c1aa0fa-1cbb-4cc0-a841-453a4851e3be",
   "metadata": {},
   "source": [
    "### Create Arrays"
   ]
  },
  {
   "cell_type": "markdown",
   "id": "484823e9-29ab-462d-9b01-7bd404af85a9",
   "metadata": {},
   "source": [
    "#### Create 1D Array"
   ]
  },
  {
   "cell_type": "code",
   "execution_count": 8,
   "id": "3c51116f-829e-4692-a70f-447bb2b0fd17",
   "metadata": {},
   "outputs": [
    {
     "name": "stdout",
     "output_type": "stream",
     "text": [
      "[1 2 3 4 5]\n",
      "<class 'numpy.ndarray'>\n",
      "(5,)\n"
     ]
    }
   ],
   "source": [
    "arr1 = np.array([1,2,3,4,5])\n",
    "print(arr1)\n",
    "print(type(arr1))\n",
    "print(arr1.shape)"
   ]
  },
  {
   "cell_type": "code",
   "execution_count": 12,
   "id": "e46b135e-d359-4920-b386-084036e8860f",
   "metadata": {},
   "outputs": [
    {
     "data": {
      "text/plain": [
       "array([[1, 2, 3, 4, 5]])"
      ]
     },
     "execution_count": 12,
     "metadata": {},
     "output_type": "execute_result"
    }
   ],
   "source": [
    "arr2 = np.array([1,2,3,4,5])\n",
    "arr2.reshape(1,5) # 1 row, 5 columns"
   ]
  },
  {
   "cell_type": "code",
   "execution_count": 13,
   "id": "85b47fc0-b270-4526-b057-cd7d0ddce757",
   "metadata": {},
   "outputs": [
    {
     "data": {
      "text/plain": [
       "(1, 5)"
      ]
     },
     "execution_count": 13,
     "metadata": {},
     "output_type": "execute_result"
    }
   ],
   "source": [
    "arr2 = np.array([[1,2,3,4,5]])\n",
    "arr2.shape"
   ]
  },
  {
   "cell_type": "markdown",
   "id": "c30abfcc-3657-4892-b1a4-d94de854963d",
   "metadata": {},
   "source": [
    "#### 2D Array"
   ]
  },
  {
   "cell_type": "code",
   "execution_count": 14,
   "id": "c0a8b86e-ce35-4e71-bb48-0bf265837804",
   "metadata": {},
   "outputs": [
    {
     "name": "stdout",
     "output_type": "stream",
     "text": [
      "[[1 2 3 4 5]\n",
      " [2 3 4 5 6]]\n",
      "(2, 5)\n"
     ]
    }
   ],
   "source": [
    "arr2 = np.array([[1,2,3,4,5], [2,3,4,5,6]])\n",
    "print(arr2)\n",
    "print(arr2.shape)"
   ]
  },
  {
   "cell_type": "markdown",
   "id": "00f7a2ad-824e-45f5-8805-3769608f9a16",
   "metadata": {},
   "source": [
    "#### Arrays with in built functions"
   ]
  },
  {
   "cell_type": "code",
   "execution_count": 15,
   "id": "f6bab88a-558e-4791-88cc-74875b2a512c",
   "metadata": {},
   "outputs": [
    {
     "data": {
      "text/plain": [
       "array([0, 2, 4, 6, 8])"
      ]
     },
     "execution_count": 15,
     "metadata": {},
     "output_type": "execute_result"
    }
   ],
   "source": [
    "np.arange(0, 10, 2)"
   ]
  },
  {
   "cell_type": "code",
   "execution_count": 16,
   "id": "0bd7ebff-5991-4057-8f1f-01e39e027c4d",
   "metadata": {},
   "outputs": [
    {
     "data": {
      "text/plain": [
       "array([[0],\n",
       "       [2],\n",
       "       [4],\n",
       "       [6],\n",
       "       [8]])"
      ]
     },
     "execution_count": 16,
     "metadata": {},
     "output_type": "execute_result"
    }
   ],
   "source": [
    "np.arange(0, 10, 2).reshape(5,1) # 5 rows 1 column"
   ]
  },
  {
   "cell_type": "code",
   "execution_count": 21,
   "id": "e8083f63-7592-469a-80f3-c457f04ed860",
   "metadata": {},
   "outputs": [
    {
     "data": {
      "text/plain": [
       "array([[1., 1., 1., 1.],\n",
       "       [1., 1., 1., 1.],\n",
       "       [1., 1., 1., 1.]])"
      ]
     },
     "execution_count": 21,
     "metadata": {},
     "output_type": "execute_result"
    }
   ],
   "source": [
    "np.ones((3,4))"
   ]
  },
  {
   "cell_type": "code",
   "execution_count": 23,
   "id": "19701b7c-d4f6-40f8-ba0f-8e61f710bffc",
   "metadata": {},
   "outputs": [
    {
     "data": {
      "text/plain": [
       "array([[1., 0., 0.],\n",
       "       [0., 1., 0.],\n",
       "       [0., 0., 1.]])"
      ]
     },
     "execution_count": 23,
     "metadata": {},
     "output_type": "execute_result"
    }
   ],
   "source": [
    "# identity matrix\n",
    "np.eye(3) # diagonal 1"
   ]
  },
  {
   "cell_type": "code",
   "execution_count": 27,
   "id": "3fa6e3b1-64cb-4c2d-8a8a-2bd77f76ea0d",
   "metadata": {},
   "outputs": [
    {
     "name": "stdout",
     "output_type": "stream",
     "text": [
      "Array:\n",
      " [[1 2 3]\n",
      " [4 5 6]]\n",
      "\n",
      "Shape: (2, 3)\n",
      "\n",
      "Number of dimensions: 2\n",
      "\n",
      "Size (number of elements): 6\n",
      "\n",
      "Data type: int64\n",
      "\n",
      "Item size (in bytes): 8\n"
     ]
    }
   ],
   "source": [
    "arr = np.array([[1,2,3], [4,5,6]])\n",
    "\n",
    "print(\"Array:\\n\", arr)\n",
    "print(\"\\nShape:\", arr.shape)\n",
    "print(\"\\nNumber of dimensions:\", arr.ndim)\n",
    "print(\"\\nSize (number of elements):\", arr.size)\n",
    "print(\"\\nData type:\", arr.dtype)\n",
    "print(\"\\nItem size (in bytes):\", arr.itemsize) "
   ]
  },
  {
   "cell_type": "markdown",
   "id": "2450306e-db72-4ca9-b39e-5279ff570f67",
   "metadata": {},
   "source": [
    "#### Numpy Vectorized Operation"
   ]
  },
  {
   "cell_type": "code",
   "execution_count": 30,
   "id": "86364fa0-c6b8-4586-8f9a-40095e7b8166",
   "metadata": {},
   "outputs": [],
   "source": [
    "arr1 = np.arange(1,6,1)\n",
    "arr2 = np.arange(10,60,10)"
   ]
  },
  {
   "cell_type": "markdown",
   "id": "a205139e-c01a-4b17-8c53-5a0508d416fb",
   "metadata": {},
   "source": [
    "##### Element wise addition"
   ]
  },
  {
   "cell_type": "code",
   "execution_count": 31,
   "id": "a3ce8621-85d4-4782-90eb-5c9c6be643c4",
   "metadata": {},
   "outputs": [
    {
     "name": "stdout",
     "output_type": "stream",
     "text": [
      "Addition: [11 22 33 44 55]\n"
     ]
    }
   ],
   "source": [
    "print(\"Addition:\", arr1+arr2)"
   ]
  },
  {
   "cell_type": "markdown",
   "id": "e0bc9eba-da72-41aa-a31e-5ce537e835d6",
   "metadata": {},
   "source": [
    "##### Element wise substraction"
   ]
  },
  {
   "cell_type": "code",
   "execution_count": 33,
   "id": "2c6cbc3a-742f-4707-9d91-8668237fe661",
   "metadata": {},
   "outputs": [
    {
     "name": "stdout",
     "output_type": "stream",
     "text": [
      "Substraction: [ 9 18 27 36 45]\n"
     ]
    }
   ],
   "source": [
    "print(\"Substraction:\", arr2 - arr1)"
   ]
  },
  {
   "cell_type": "markdown",
   "id": "67bf0221-0f00-440e-a56d-9247491a7f3c",
   "metadata": {},
   "source": [
    "#### Univeral Function"
   ]
  },
  {
   "cell_type": "code",
   "execution_count": 36,
   "id": "e3b0b894-85f1-4276-b386-197826687974",
   "metadata": {},
   "outputs": [
    {
     "name": "stdout",
     "output_type": "stream",
     "text": [
      "[1.41421356 1.73205081 2.         2.23606798 2.44948974]\n",
      "[  7.3890561   20.08553692  54.59815003 148.4131591  403.42879349]\n",
      "[ 0.90929743  0.14112001 -0.7568025  -0.95892427 -0.2794155 ]\n",
      "[0.69314718 1.09861229 1.38629436 1.60943791 1.79175947]\n"
     ]
    }
   ],
   "source": [
    "arr = np.arange(2,7,1)\n",
    "\n",
    "## square root\n",
    "print(np.sqrt(arr))\n",
    "\n",
    "## Exponential\n",
    "print(np.exp(arr))\n",
    "\n",
    "## Sinw\n",
    "print(np.sin(arr))\n",
    "\n",
    "## natural log\n",
    "print(np.log(arr))"
   ]
  },
  {
   "cell_type": "markdown",
   "id": "839e2da9-f41c-4562-8a06-036b2ebf5680",
   "metadata": {},
   "source": [
    "#### Array Slicing and Indexing"
   ]
  },
  {
   "cell_type": "code",
   "execution_count": 37,
   "id": "530d9f36-4011-45c8-b45f-7f586cff9509",
   "metadata": {},
   "outputs": [
    {
     "name": "stdout",
     "output_type": "stream",
     "text": [
      "Array: \n",
      " [[ 1  2  3  4]\n",
      " [ 5  6  7  8]\n",
      " [ 9 10 11 12]]\n"
     ]
    }
   ],
   "source": [
    "arr = np.array([[1,2,3,4], [5,6,7,8], [9,10,11,12]])\n",
    "print(\"Array: \\n\", arr)"
   ]
  },
  {
   "cell_type": "code",
   "execution_count": 42,
   "id": "a58a08a9-7d0a-45fa-80cd-5a98894904a3",
   "metadata": {},
   "outputs": [
    {
     "name": "stdout",
     "output_type": "stream",
     "text": [
      "1\n"
     ]
    }
   ],
   "source": [
    "print(arr[0][0])"
   ]
  },
  {
   "cell_type": "code",
   "execution_count": 55,
   "id": "290de2a7-980e-4971-ad5d-95c080d5915c",
   "metadata": {},
   "outputs": [
    {
     "name": "stdout",
     "output_type": "stream",
     "text": [
      "[[ 7  8]\n",
      " [11 12]]\n"
     ]
    }
   ],
   "source": [
    "print(arr[1:,2:])"
   ]
  },
  {
   "cell_type": "code",
   "execution_count": 62,
   "id": "c2d7f1a8-aaa7-4831-8cdd-d038f9639ac8",
   "metadata": {},
   "outputs": [
    {
     "name": "stdout",
     "output_type": "stream",
     "text": [
      "[[3 4]\n",
      " [7 8]]\n"
     ]
    }
   ],
   "source": [
    "print(arr[0:2,2:])"
   ]
  },
  {
   "cell_type": "markdown",
   "id": "1323a36b-78b7-4346-961c-c03483cabb82",
   "metadata": {},
   "source": [
    "#### Modify Array Elements"
   ]
  },
  {
   "cell_type": "code",
   "execution_count": 63,
   "id": "e671f931-4399-4707-8ce9-0bcd0ce7c8ef",
   "metadata": {},
   "outputs": [
    {
     "name": "stdout",
     "output_type": "stream",
     "text": [
      "[[100   2   3   4]\n",
      " [  5   6   7   8]\n",
      " [  9  10  11  12]]\n"
     ]
    }
   ],
   "source": [
    "arr[0,0] = 100\n",
    "print(arr)"
   ]
  },
  {
   "cell_type": "code",
   "execution_count": 65,
   "id": "2633a8cf-463f-457b-97b2-32fabef26baa",
   "metadata": {},
   "outputs": [
    {
     "name": "stdout",
     "output_type": "stream",
     "text": [
      "[[100   2   3   4]\n",
      " [100 100 100 100]\n",
      " [100 100 100 100]]\n"
     ]
    }
   ],
   "source": [
    "arr[1:] = 100\n",
    "print(arr)"
   ]
  },
  {
   "cell_type": "markdown",
   "id": "c3791826-985a-457a-b817-b48fb826dc9c",
   "metadata": {},
   "source": [
    "#### Statistical Concepts -- Normalization"
   ]
  },
  {
   "cell_type": "code",
   "execution_count": 67,
   "id": "48f5a0b2-531a-46c4-8da4-a291109df3c5",
   "metadata": {},
   "outputs": [
    {
     "name": "stdout",
     "output_type": "stream",
     "text": [
      "Normalized Data: [-1.46385011 -0.87831007 -0.29277002  0.29277002  0.87831007  1.46385011]\n"
     ]
    }
   ],
   "source": [
    "# to have mean of 0 and standard deviation of 1\n",
    "\n",
    "data = np.arange(0,6,1)\n",
    "\n",
    "# mean\n",
    "mean = np.mean(data)\n",
    "std_dev = np.std(data)\n",
    "\n",
    "normalized_data = (data - mean)/ std_dev\n",
    "\n",
    "print(\"Normalized Data:\", normalized_data)"
   ]
  },
  {
   "cell_type": "markdown",
   "id": "dd0bc3a0-a675-4de6-b398-ecff14516cb5",
   "metadata": {},
   "source": [
    "#### Logical Operations"
   ]
  },
  {
   "cell_type": "code",
   "execution_count": 75,
   "id": "ea0adf6b-29a7-4f3d-aa6a-25fae0281fe8",
   "metadata": {},
   "outputs": [
    {
     "data": {
      "text/plain": [
       "array([6, 7])"
      ]
     },
     "execution_count": 75,
     "metadata": {},
     "output_type": "execute_result"
    }
   ],
   "source": [
    "data = np.arange(1,11,1)\n",
    "\n",
    "data[(data >5) & (data < 8)]"
   ]
  },
  {
   "cell_type": "code",
   "execution_count": null,
   "id": "0aa89138-723c-4391-8b3c-e73948db70b3",
   "metadata": {},
   "outputs": [],
   "source": []
  }
 ],
 "metadata": {
  "kernelspec": {
   "display_name": "Machine Learning",
   "language": "python",
   "name": "ml"
  },
  "language_info": {
   "codemirror_mode": {
    "name": "ipython",
    "version": 3
   },
   "file_extension": ".py",
   "mimetype": "text/x-python",
   "name": "python",
   "nbconvert_exporter": "python",
   "pygments_lexer": "ipython3",
   "version": "3.12.6"
  }
 },
 "nbformat": 4,
 "nbformat_minor": 5
}
