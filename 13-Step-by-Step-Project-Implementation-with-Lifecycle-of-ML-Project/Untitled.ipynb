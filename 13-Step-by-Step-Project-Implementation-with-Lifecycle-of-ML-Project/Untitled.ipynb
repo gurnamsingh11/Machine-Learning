{
 "cells": [
  {
   "cell_type": "markdown",
   "id": "a9f31953-7e25-4884-b7b3-8a814ba05fe7",
   "metadata": {},
   "source": [
    "# save Ridge and scaler as pkl from 12/02\n",
    "\n",
    "pickle.dump(scaler, open(\"scaler.pkl\", \"wb\"))\n",
    "\n",
    "pickle.dump(ridge, open(\"ridge.pkl\", \"wb\"))"
   ]
  },
  {
   "cell_type": "code",
   "execution_count": null,
   "id": "31e385f3-a8ab-4f47-947a-e506bc0198cc",
   "metadata": {},
   "outputs": [],
   "source": []
  }
 ],
 "metadata": {
  "kernelspec": {
   "display_name": "Machine Learning",
   "language": "python",
   "name": "ml"
  },
  "language_info": {
   "codemirror_mode": {
    "name": "ipython",
    "version": 3
   },
   "file_extension": ".py",
   "mimetype": "text/x-python",
   "name": "python",
   "nbconvert_exporter": "python",
   "pygments_lexer": "ipython3",
   "version": "3.12.6"
  }
 },
 "nbformat": 4,
 "nbformat_minor": 5
}
