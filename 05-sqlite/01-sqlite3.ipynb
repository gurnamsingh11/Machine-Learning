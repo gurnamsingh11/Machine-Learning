{
 "cells": [
  {
   "cell_type": "markdown",
   "id": "e8f2f883-c6cb-439e-8e8f-e283076746c2",
   "metadata": {},
   "source": [
    "## SQLite3"
   ]
  },
  {
   "cell_type": "code",
   "execution_count": 1,
   "id": "30555da3-f637-4c5e-ac41-4f6692abc1ac",
   "metadata": {},
   "outputs": [],
   "source": [
    "import sqlite3"
   ]
  },
  {
   "cell_type": "markdown",
   "id": "e58a57a5-7f08-41ab-86de-fb1e62dd28e7",
   "metadata": {},
   "source": [
    "### Connect to a database"
   ]
  },
  {
   "cell_type": "code",
   "execution_count": 2,
   "id": "9fbf6069-0abf-4c13-8756-f803a78de70f",
   "metadata": {},
   "outputs": [
    {
     "data": {
      "text/plain": [
       "<sqlite3.Connection at 0x1308ad09120>"
      ]
     },
     "execution_count": 2,
     "metadata": {},
     "output_type": "execute_result"
    }
   ],
   "source": [
    "connection = sqlite3.connect('example.db')\n",
    "connection"
   ]
  },
  {
   "cell_type": "code",
   "execution_count": 3,
   "id": "f3ef6eb6-9445-47e7-9cf6-29c5eb597b4e",
   "metadata": {},
   "outputs": [],
   "source": [
    "cursor = connection.cursor()"
   ]
  },
  {
   "cell_type": "markdown",
   "id": "f14eac6e-4cad-4340-bb06-f31ef6446c9d",
   "metadata": {},
   "source": [
    "### Create a Table"
   ]
  },
  {
   "cell_type": "code",
   "execution_count": 4,
   "id": "0c7936cf-306d-46ad-8c68-b9dd03675d16",
   "metadata": {},
   "outputs": [
    {
     "data": {
      "text/plain": [
       "<sqlite3.Cursor at 0x1308af07040>"
      ]
     },
     "execution_count": 4,
     "metadata": {},
     "output_type": "execute_result"
    }
   ],
   "source": [
    "cursor.execute('''\n",
    "Create Table If Not Exists employees(\n",
    "    id Integer Primary Key,\n",
    "    name Text Not Null,\n",
    "    age Integer,\n",
    "    department text\n",
    ")\n",
    "''')"
   ]
  },
  {
   "cell_type": "markdown",
   "id": "4ebbac3b-8697-4822-a2c4-c1cdfad6ceec",
   "metadata": {},
   "source": [
    "### Commit the changes"
   ]
  },
  {
   "cell_type": "code",
   "execution_count": 5,
   "id": "1015bf67-451b-44e3-aaae-1391c9e16a44",
   "metadata": {},
   "outputs": [],
   "source": [
    "connection.commit()"
   ]
  },
  {
   "cell_type": "code",
   "execution_count": 6,
   "id": "ab0fc96c-62f7-42d3-b422-f0d104582e82",
   "metadata": {},
   "outputs": [
    {
     "data": {
      "text/plain": [
       "<sqlite3.Cursor at 0x1308af07040>"
      ]
     },
     "execution_count": 6,
     "metadata": {},
     "output_type": "execute_result"
    }
   ],
   "source": []
  },
  {
   "cell_type": "markdown",
   "id": "51f9b7a4-d40f-4d61-90a2-cc897539da63",
   "metadata": {},
   "source": [
    "### Insert data"
   ]
  },
  {
   "cell_type": "code",
   "execution_count": 7,
   "id": "ba7ae1ac-8d33-490d-b8f4-1112876884a3",
   "metadata": {},
   "outputs": [],
   "source": [
    "cursor.execute('''\n",
    "Insert Into employees(name, age, department)\n",
    "            values('Guru', 24, 'Data Scientist')\n",
    "''')\n",
    "\n",
    "cursor.execute('''\n",
    "Insert Into employees(name, age, department)\n",
    "            values('Krish', 32, 'Data Engineer')\n",
    "''')\n",
    "\n",
    "cursor.execute('''\n",
    "Insert Into employees(name, age, department)\n",
    "            values('Charlie', 18, 'AI')\n",
    "''')\n",
    "\n",
    "connection.commit()"
   ]
  },
  {
   "cell_type": "markdown",
   "id": "d9210d7c-49a3-4ab4-bfac-f15ff05d876c",
   "metadata": {},
   "source": [
    "### Querying the data from the table"
   ]
  },
  {
   "cell_type": "code",
   "execution_count": 9,
   "id": "ce895ce3-d69c-4346-827f-0eb7b1e8305c",
   "metadata": {},
   "outputs": [
    {
     "name": "stdout",
     "output_type": "stream",
     "text": [
      "(1, 'Guru', 24, 'Data Scientist')\n",
      "(2, 'Krish', 32, 'Data Engineer')\n",
      "(3, 'Charlie', 18, 'AI')\n"
     ]
    }
   ],
   "source": [
    "cursor.execute('''\n",
    "SELECT * FROM employees\n",
    "''')\n",
    "\n",
    "rows = cursor.fetchall()\n",
    "\n",
    "# print the queried data\n",
    "\n",
    "for row in rows:\n",
    "    print(row)"
   ]
  },
  {
   "cell_type": "markdown",
   "id": "cdf38346-6af4-4a78-bd21-416d745d7fbb",
   "metadata": {},
   "source": [
    "### Update the data in the table"
   ]
  },
  {
   "cell_type": "code",
   "execution_count": 10,
   "id": "70d4fff3-6efd-4b41-a0fe-b796434661b6",
   "metadata": {},
   "outputs": [],
   "source": [
    "cursor.execute('''\n",
    "Update employees\n",
    "set age = 34\n",
    "where name='Krish'\n",
    "''')\n",
    "\n",
    "connection.commit()"
   ]
  },
  {
   "cell_type": "code",
   "execution_count": 11,
   "id": "51eab2ef-dce1-4b2a-8e94-7af2854b0135",
   "metadata": {},
   "outputs": [
    {
     "name": "stdout",
     "output_type": "stream",
     "text": [
      "(1, 'Guru', 24, 'Data Scientist')\n",
      "(2, 'Krish', 34, 'Data Engineer')\n",
      "(3, 'Charlie', 18, 'AI')\n"
     ]
    }
   ],
   "source": [
    "cursor.execute('''\n",
    "SELECT * FROM employees\n",
    "''')\n",
    "\n",
    "rows = cursor.fetchall()\n",
    "\n",
    "for row in rows:\n",
    "    print(row)"
   ]
  },
  {
   "cell_type": "markdown",
   "id": "56d3916e-29ef-4639-b1c0-d8794d5a60f0",
   "metadata": {},
   "source": [
    "### Delete the data "
   ]
  },
  {
   "cell_type": "code",
   "execution_count": 14,
   "id": "a55f8d74-5b92-4d31-a425-115f10340558",
   "metadata": {},
   "outputs": [
    {
     "data": {
      "text/plain": [
       "<sqlite3.Cursor at 0x1308af07040>"
      ]
     },
     "execution_count": 14,
     "metadata": {},
     "output_type": "execute_result"
    }
   ],
   "source": [
    "cursor.execute('''\n",
    "DELETE from employees\n",
    "        where name='Charlie'\n",
    "''')"
   ]
  },
  {
   "cell_type": "code",
   "execution_count": 15,
   "id": "e1396f22-844e-4343-9897-7084920ea61c",
   "metadata": {},
   "outputs": [
    {
     "name": "stdout",
     "output_type": "stream",
     "text": [
      "(1, 'Guru', 24, 'Data Scientist')\n",
      "(2, 'Krish', 34, 'Data Engineer')\n"
     ]
    }
   ],
   "source": [
    "cursor.execute('''\n",
    "SELECT * FROM employees\n",
    "''')\n",
    "\n",
    "rows = cursor.fetchall()\n",
    "\n",
    "for row in rows:\n",
    "    print(row)"
   ]
  }
 ],
 "metadata": {
  "kernelspec": {
   "display_name": "Machine Learning",
   "language": "python",
   "name": "ml"
  },
  "language_info": {
   "codemirror_mode": {
    "name": "ipython",
    "version": 3
   },
   "file_extension": ".py",
   "mimetype": "text/x-python",
   "name": "python",
   "nbconvert_exporter": "python",
   "pygments_lexer": "ipython3",
   "version": "3.12.6"
  }
 },
 "nbformat": 4,
 "nbformat_minor": 5
}
