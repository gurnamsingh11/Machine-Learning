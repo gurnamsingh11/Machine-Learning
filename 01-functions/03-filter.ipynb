{
 "cells": [
  {
   "cell_type": "markdown",
   "id": "a54a0b33-6d68-4ef8-9431-cf64a9977c6d",
   "metadata": {},
   "source": [
    "## Filter"
   ]
  },
  {
   "cell_type": "markdown",
   "id": "c15e394f-68a9-480c-8960-46f347111afc",
   "metadata": {},
   "source": [
    "#### The filter() function constructs an iterator from elements of an iterable for which a function returns true. It is used to filter out items from a list (or any other iterable) based on condition."
   ]
  },
  {
   "cell_type": "code",
   "execution_count": 17,
   "id": "f76f8371-14e5-48dd-8790-a8413f93fa22",
   "metadata": {},
   "outputs": [],
   "source": [
    "def even(number):\n",
    "    if number%2==0:\n",
    "        return True"
   ]
  },
  {
   "cell_type": "code",
   "execution_count": 21,
   "id": "f6d3b6e7-8676-4cde-b73c-0055d25ef7b2",
   "metadata": {},
   "outputs": [],
   "source": [
    "lst = [1,2,3,4,5,6,7,8,9]"
   ]
  },
  {
   "cell_type": "code",
   "execution_count": 22,
   "id": "0138a74b-4d40-4b88-9c9a-03786b57ce8a",
   "metadata": {},
   "outputs": [
    {
     "data": {
      "text/plain": [
       "[2, 4, 6, 8]"
      ]
     },
     "execution_count": 22,
     "metadata": {},
     "output_type": "execute_result"
    }
   ],
   "source": [
    "list(filter(even, lst))"
   ]
  },
  {
   "cell_type": "code",
   "execution_count": 19,
   "id": "4a0061d4-af24-4136-9e89-ca7604cff329",
   "metadata": {},
   "outputs": [
    {
     "data": {
      "text/plain": [
       "[6, 7, 8, 9]"
      ]
     },
     "execution_count": 19,
     "metadata": {},
     "output_type": "execute_result"
    }
   ],
   "source": [
    "list(filter(lambda x: x>5, lst))"
   ]
  },
  {
   "cell_type": "markdown",
   "id": "887aa1e0-a48e-4c96-962e-663bbfb5ccdc",
   "metadata": {},
   "source": [
    "###### Filter with lambda and multiple conditions"
   ]
  },
  {
   "cell_type": "code",
   "execution_count": 23,
   "id": "4e29ca7a-6034-4cdb-ae75-ed5bbbedc678",
   "metadata": {},
   "outputs": [
    {
     "data": {
      "text/plain": [
       "[6, 8]"
      ]
     },
     "execution_count": 23,
     "metadata": {},
     "output_type": "execute_result"
    }
   ],
   "source": [
    "list(filter(lambda x: x>5 and x%2==0, lst))"
   ]
  },
  {
   "cell_type": "markdown",
   "id": "74774f61-e603-4ff6-a4eb-c2836ec6b953",
   "metadata": {},
   "source": [
    "###### filter to check if age > 5 in dictionary"
   ]
  },
  {
   "cell_type": "code",
   "execution_count": 25,
   "id": "5e76f2f5-654b-4a2a-b360-e6ac4100033e",
   "metadata": {},
   "outputs": [
    {
     "data": {
      "text/plain": [
       "[{'name': 'Krish', 'age': 32}, {'name': 'Jack', 'age': 33}]"
      ]
     },
     "execution_count": 25,
     "metadata": {},
     "output_type": "execute_result"
    }
   ],
   "source": [
    "people = [\n",
    "    {\n",
    "        'name': 'Krish',\n",
    "        'age': 32\n",
    "    },\n",
    "    {\n",
    "        'name': 'Jack',\n",
    "        'age': 33\n",
    "    },\n",
    "    {\n",
    "        'name': 'John',\n",
    "        'age': 25\n",
    "    }\n",
    "]\n",
    "\n",
    "list(filter(lambda x: x['age'] > 25, people))"
   ]
  },
  {
   "cell_type": "code",
   "execution_count": null,
   "id": "5f4294bc-6c6a-45cb-bd04-14b282ff0c68",
   "metadata": {},
   "outputs": [],
   "source": []
  }
 ],
 "metadata": {
  "kernelspec": {
   "display_name": "Machine Learning",
   "language": "python",
   "name": "ml"
  },
  "language_info": {
   "codemirror_mode": {
    "name": "ipython",
    "version": 3
   },
   "file_extension": ".py",
   "mimetype": "text/x-python",
   "name": "python",
   "nbconvert_exporter": "python",
   "pygments_lexer": "ipython3",
   "version": "3.12.6"
  }
 },
 "nbformat": 4,
 "nbformat_minor": 5
}
