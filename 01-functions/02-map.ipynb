{
 "cells": [
  {
   "cell_type": "markdown",
   "id": "6b45efff-2c8f-4ff8-a20c-d6f53137c884",
   "metadata": {},
   "source": [
    "## Map Function"
   ]
  },
  {
   "cell_type": "markdown",
   "id": "66f0d8ce-3a63-46e0-9b0e-97f4fb0514b9",
   "metadata": {},
   "source": [
    "#### map() applies a given function to all items in an input list or other iterable and returns a map object (an iterator)."
   ]
  },
  {
   "cell_type": "code",
   "execution_count": 3,
   "id": "a015b909-f5a6-4fa7-94cc-e03ffa4b9396",
   "metadata": {},
   "outputs": [
    {
     "data": {
      "text/plain": [
       "[1, 4, 9, 16, 25, 36, 49, 64]"
      ]
     },
     "execution_count": 3,
     "metadata": {},
     "output_type": "execute_result"
    }
   ],
   "source": [
    "list(map(lambda number:number**2, [1,2,3,4,5,6,7,8]))"
   ]
  },
  {
   "cell_type": "markdown",
   "id": "83f0457d-1683-4c88-899b-e4c6890646db",
   "metadata": {},
   "source": [
    "##### Multiple Iterable"
   ]
  },
  {
   "cell_type": "code",
   "execution_count": 5,
   "id": "b4950b1e-169a-4569-8c10-f758b645bd89",
   "metadata": {},
   "outputs": [
    {
     "data": {
      "text/plain": [
       "[5, 7, 9]"
      ]
     },
     "execution_count": 5,
     "metadata": {},
     "output_type": "execute_result"
    }
   ],
   "source": [
    "numbers1 = [1,2,3]\n",
    "numbers2 = [4,5,6]\n",
    "\n",
    "list(map(lambda x,y: x+y, numbers1, numbers2))"
   ]
  },
  {
   "cell_type": "code",
   "execution_count": 7,
   "id": "52452f68-b193-4a48-bf7b-82d4656aa8da",
   "metadata": {},
   "outputs": [
    {
     "data": {
      "text/plain": [
       "[1, 2, 3, 4, 5]"
      ]
     },
     "execution_count": 7,
     "metadata": {},
     "output_type": "execute_result"
    }
   ],
   "source": [
    "str_numbers = ['1', '2', '3', '4', '5']\n",
    "\n",
    "list(map(lambda x: int(x), str_numbers))"
   ]
  },
  {
   "cell_type": "code",
   "execution_count": 9,
   "id": "f4d988e9-b561-4281-916c-81a17263783e",
   "metadata": {},
   "outputs": [
    {
     "data": {
      "text/plain": [
       "['APPLE', 'BANANA', 'CHERRY']"
      ]
     },
     "execution_count": 9,
     "metadata": {},
     "output_type": "execute_result"
    }
   ],
   "source": [
    "words = ['apple', 'banana', 'cherry']\n",
    "\n",
    "list(map(lambda word: word.upper(), words))"
   ]
  },
  {
   "cell_type": "code",
   "execution_count": 11,
   "id": "f4d65fc6-d055-4b23-9d47-8466b279a707",
   "metadata": {},
   "outputs": [
    {
     "data": {
      "text/plain": [
       "['Krish', 'Jack']"
      ]
     },
     "execution_count": 11,
     "metadata": {},
     "output_type": "execute_result"
    }
   ],
   "source": [
    "def get_name(people):\n",
    "    return people['name']\n",
    "\n",
    "people = [\n",
    "    {\n",
    "        'name': 'Krish',\n",
    "        'age': 32\n",
    "    },\n",
    "    {\n",
    "        'name': 'Jack',\n",
    "        'age': 33\n",
    "    }\n",
    "]\n",
    "\n",
    "list(map(get_name, people))"
   ]
  },
  {
   "cell_type": "code",
   "execution_count": null,
   "id": "2791b0ae-bd37-40ae-b914-19a2e61084ea",
   "metadata": {},
   "outputs": [],
   "source": []
  }
 ],
 "metadata": {
  "kernelspec": {
   "display_name": "Machine Learning",
   "language": "python",
   "name": "ml"
  },
  "language_info": {
   "codemirror_mode": {
    "name": "ipython",
    "version": 3
   },
   "file_extension": ".py",
   "mimetype": "text/x-python",
   "name": "python",
   "nbconvert_exporter": "python",
   "pygments_lexer": "ipython3",
   "version": "3.12.6"
  }
 },
 "nbformat": 4,
 "nbformat_minor": 5
}
