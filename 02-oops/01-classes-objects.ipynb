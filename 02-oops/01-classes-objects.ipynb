{
 "cells": [
  {
   "cell_type": "code",
   "execution_count": 4,
   "id": "940d2ac7-25bb-413d-a913-f28860458e18",
   "metadata": {},
   "outputs": [
    {
     "data": {
      "text/plain": [
       "__main__.Car"
      ]
     },
     "execution_count": 4,
     "metadata": {},
     "output_type": "execute_result"
    }
   ],
   "source": [
    "class Car:\n",
    "    pass\n",
    "\n",
    "audi = Car()\n",
    "bmw = Car()\n",
    "\n",
    "type(audi)"
   ]
  },
  {
   "cell_type": "code",
   "execution_count": 5,
   "id": "f8c5f024-329f-4fb6-9962-818cdeb6852d",
   "metadata": {},
   "outputs": [
    {
     "name": "stdout",
     "output_type": "stream",
     "text": [
      "4\n"
     ]
    }
   ],
   "source": [
    "audi.windows = 4\n",
    "print(audi.windows)"
   ]
  },
  {
   "cell_type": "markdown",
   "id": "68e91066-ddee-406d-973d-82250b91e844",
   "metadata": {
    "jp-MarkdownHeadingCollapsed": true
   },
   "source": [
    "### Instance Variable and Methods"
   ]
  },
  {
   "cell_type": "code",
   "execution_count": 9,
   "id": "fb9a39f7-4bfe-449a-a1ec-8f17f0264a62",
   "metadata": {},
   "outputs": [
    {
     "name": "stdout",
     "output_type": "stream",
     "text": [
      "pitbull\n"
     ]
    },
    {
     "data": {
      "text/plain": [
       "'AK'"
      ]
     },
     "execution_count": 9,
     "metadata": {},
     "output_type": "execute_result"
    }
   ],
   "source": [
    "class Dog:\n",
    "    def __init__(self, breed, age):\n",
    "        self.breed = breed\n",
    "        self.age = str(age) + \" Years\"\n",
    "\n",
    "ak = Dog(\"pitbull\", 1)\n",
    "print(ak.breed)\n",
    "ak.age"
   ]
  },
  {
   "cell_type": "markdown",
   "id": "ad30e0cd-856d-4bf8-bede-29a80e82f4c9",
   "metadata": {
    "jp-MarkdownHeadingCollapsed": true
   },
   "source": [
    "### Define a class with instance method"
   ]
  },
  {
   "cell_type": "code",
   "execution_count": 18,
   "id": "f91349f3-e2d9-4862-a459-924e8a3986d6",
   "metadata": {},
   "outputs": [],
   "source": [
    "class Dog:\n",
    "    def __init__(self,name, age):\n",
    "        self.name = name\n",
    "        self.age = age\n",
    "\n",
    "    def bark(self):\n",
    "        return f\"{self.name} says woof\""
   ]
  },
  {
   "cell_type": "code",
   "execution_count": 20,
   "id": "1e1d97fe-0dc0-4c70-9a96-aec4a9a056f1",
   "metadata": {},
   "outputs": [
    {
     "name": "stdout",
     "output_type": "stream",
     "text": [
      "AK says woof\n",
      "Lucy says woof\n"
     ]
    }
   ],
   "source": [
    "dog1 = Dog(\"AK\", 1)\n",
    "print(dog1.bark())\n",
    "dog2 = Dog(\"Lucy\", 2)\n",
    "print(dog2.bark())"
   ]
  },
  {
   "cell_type": "markdown",
   "id": "4452eaa2-6ee1-4b31-99d0-824971482493",
   "metadata": {},
   "source": [
    "### Modeling a Bank Account"
   ]
  },
  {
   "cell_type": "code",
   "execution_count": 21,
   "id": "62c550ca-9e41-49d3-be21-8ba6c15fd256",
   "metadata": {},
   "outputs": [],
   "source": [
    "g"
   ]
  },
  {
   "cell_type": "code",
   "execution_count": 22,
   "id": "ad4042f8-d16f-42b2-8cde-b70b69088f4d",
   "metadata": {},
   "outputs": [
    {
     "name": "stdout",
     "output_type": "stream",
     "text": [
      "5000\n"
     ]
    }
   ],
   "source": [
    "account = BankAccount(\"Guru\", 5000)\n",
    "print(account.balance)"
   ]
  },
  {
   "cell_type": "code",
   "execution_count": 28,
   "id": "84c9262a-28d3-4279-a077-a87f7d04098c",
   "metadata": {},
   "outputs": [
    {
     "name": "stdout",
     "output_type": "stream",
     "text": [
      "100 is deposited. New balance is 5000\n"
     ]
    }
   ],
   "source": [
    "print(account.deposit(100))"
   ]
  },
  {
   "cell_type": "code",
   "execution_count": 29,
   "id": "bd08fa25-028d-494f-89e2-caee0a89e3ab",
   "metadata": {},
   "outputs": [
    {
     "name": "stdout",
     "output_type": "stream",
     "text": [
      "300 is withdrawn. New balance is 4700\n"
     ]
    }
   ],
   "source": [
    "print(account.withdraw(300))"
   ]
  },
  {
   "cell_type": "code",
   "execution_count": 30,
   "id": "143596a5-1c4e-426c-936a-0e74499f9caf",
   "metadata": {},
   "outputs": [
    {
     "name": "stdout",
     "output_type": "stream",
     "text": [
      "Balance is 4700\n"
     ]
    }
   ],
   "source": [
    "print(account.get_balance())"
   ]
  },
  {
   "cell_type": "code",
   "execution_count": null,
   "id": "7a1b8f6b-050d-48a5-9389-c0747213e119",
   "metadata": {},
   "outputs": [],
   "source": []
  }
 ],
 "metadata": {
  "kernelspec": {
   "display_name": "Machine Learning",
   "language": "python",
   "name": "ml"
  },
  "language_info": {
   "codemirror_mode": {
    "name": "ipython",
    "version": 3
   },
   "file_extension": ".py",
   "mimetype": "text/x-python",
   "name": "python",
   "nbconvert_exporter": "python",
   "pygments_lexer": "ipython3",
   "version": "3.12.6"
  }
 },
 "nbformat": 4,
 "nbformat_minor": 5
}
