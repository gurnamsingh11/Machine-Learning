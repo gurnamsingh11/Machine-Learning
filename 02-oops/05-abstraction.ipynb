{
 "cells": [
  {
   "cell_type": "markdown",
   "id": "63c52b69-15ba-46ed-be18-fba8d610ccb1",
   "metadata": {},
   "source": [
    "## Abstraction"
   ]
  },
  {
   "cell_type": "markdown",
   "id": "1c77eb1b-e213-44d4-ae1a-b8b3faac7441",
   "metadata": {},
   "source": [
    "### Concept of hiding the complex implementation details and showing only the necessary features of an object. This helps in reducing programming complexity and effort"
   ]
  },
  {
   "cell_type": "code",
   "execution_count": 3,
   "id": "7177b6df-5f53-4123-9ed5-863226f4b73c",
   "metadata": {},
   "outputs": [
    {
     "name": "stdout",
     "output_type": "stream",
     "text": [
      "Car Engine Started\n"
     ]
    }
   ],
   "source": [
    "from abc import ABC, abstractmethod\n",
    "\n",
    "## Abstract Class\n",
    "\n",
    "class Vehicle(ABC):    \n",
    "    def drive(self):\n",
    "        return \"The Vehicle is used for driving\"\n",
    "\n",
    "    @abstractmethod\n",
    "    def start_engine(self):\n",
    "        pass\n",
    "\n",
    "class Car(Vehicle):\n",
    "    def start_engine(self):\n",
    "        return \"Car Engine Started\"\n",
    "\n",
    "def operate_vehicle(vehicle):\n",
    "    return vehicle.start_engine()\n",
    "\n",
    "car = Car()\n",
    "print(operate_vehicle(car))"
   ]
  }
 ],
 "metadata": {
  "kernelspec": {
   "display_name": "Machine Learning",
   "language": "python",
   "name": "ml"
  },
  "language_info": {
   "codemirror_mode": {
    "name": "ipython",
    "version": 3
   },
   "file_extension": ".py",
   "mimetype": "text/x-python",
   "name": "python",
   "nbconvert_exporter": "python",
   "pygments_lexer": "ipython3",
   "version": "3.12.6"
  }
 },
 "nbformat": 4,
 "nbformat_minor": 5
}
