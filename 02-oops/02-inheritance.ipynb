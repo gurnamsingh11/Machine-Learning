{
 "cells": [
  {
   "cell_type": "markdown",
   "id": "fd6c8b2f-a6c9-4f53-8c9b-b092f953f50d",
   "metadata": {},
   "source": [
    "## Inheritance"
   ]
  },
  {
   "cell_type": "markdown",
   "id": "a93aca9a-6506-4d68-91f4-582bc137146b",
   "metadata": {},
   "source": [
    "#### concept that allows a class to inherit attributes and methods from another class."
   ]
  },
  {
   "cell_type": "code",
   "execution_count": 1,
   "id": "31e566bf-d3bb-49cf-a1c6-788965980a6e",
   "metadata": {},
   "outputs": [],
   "source": [
    "class Car():\n",
    "    def __init__(self, windows, doors, enginetype):\n",
    "        self.windows = windows\n",
    "        self.doors = doors\n",
    "        self.enginetype = enginetype\n",
    "\n",
    "    def drive(self):\n",
    "        return f\"This person will drive {self.enginetype} car.\""
   ]
  },
  {
   "cell_type": "code",
   "execution_count": 3,
   "id": "fd49bd3a-d5de-4424-a059-c9128d39ca68",
   "metadata": {},
   "outputs": [
    {
     "name": "stdout",
     "output_type": "stream",
     "text": [
      "This person will drive Petrol car.\n"
     ]
    }
   ],
   "source": [
    "car1 = Car(4, 5, \"Petrol\")\n",
    "print(car1.drive())"
   ]
  },
  {
   "cell_type": "markdown",
   "id": "14bf413a-112c-40db-8810-284f2b8d2570",
   "metadata": {},
   "source": [
    "##### Single Inheritance"
   ]
  },
  {
   "cell_type": "code",
   "execution_count": 6,
   "id": "185aa08a-01b0-4146-8d16-9299e26f5ced",
   "metadata": {},
   "outputs": [],
   "source": [
    "class Tesla(Car):\n",
    "    def __init__(self, windows, doors, enginetype, is_selfdriving):\n",
    "        super().__init__(windows, doors, enginetype) #initialises attributes of Car class\n",
    "        self.is_selfdriving = is_selfdriving\n",
    "\n",
    "    def selfdriving(self):\n",
    "        return f\"This variant supports self driving: {self.is_selfdriving}\""
   ]
  },
  {
   "cell_type": "code",
   "execution_count": 7,
   "id": "e9881513-a71b-418e-a0a9-212ccc5b3650",
   "metadata": {},
   "outputs": [
    {
     "name": "stdout",
     "output_type": "stream",
     "text": [
      "This variant supports self driving: True\n"
     ]
    }
   ],
   "source": [
    "tesla1 = Tesla(4,5,\"electric\", True)\n",
    "print(tesla1.selfdriving())"
   ]
  },
  {
   "cell_type": "code",
   "execution_count": 8,
   "id": "9120ddee-b0ad-4fea-837d-6c2618f3936d",
   "metadata": {},
   "outputs": [
    {
     "name": "stdout",
     "output_type": "stream",
     "text": [
      "This person will drive electric car.\n"
     ]
    }
   ],
   "source": [
    "print(tesla1.drive())"
   ]
  },
  {
   "cell_type": "markdown",
   "id": "11b1ee2d-0c25-4d05-b264-2948854fa664",
   "metadata": {},
   "source": [
    "##### Multiple Inheritance"
   ]
  },
  {
   "cell_type": "markdown",
   "id": "dbb9d6f6-4516-483f-abda-e4aaefb9e6dd",
   "metadata": {},
   "source": [
    "###### Base Class 1"
   ]
  },
  {
   "cell_type": "code",
   "execution_count": 9,
   "id": "f19b2cc8-9a1e-4e2f-ac79-854e2bcdbe14",
   "metadata": {},
   "outputs": [],
   "source": [
    "class Animal():\n",
    "    def __init__(self, name):\n",
    "        self.name = name\n",
    "\n",
    "    def speak(self):\n",
    "        return \"Subclasses must implement this method\""
   ]
  },
  {
   "cell_type": "markdown",
   "id": "7a4e5da4-14a8-41ac-97e3-10fc1942b1dd",
   "metadata": {},
   "source": [
    "###### Base Class 2"
   ]
  },
  {
   "cell_type": "code",
   "execution_count": 10,
   "id": "828694a3-dd7c-4a3e-a7a6-607388d6bcee",
   "metadata": {},
   "outputs": [],
   "source": [
    "class Pet():\n",
    "    def __init__(self, owner):\n",
    "        self.owner = owner"
   ]
  },
  {
   "cell_type": "markdown",
   "id": "be677481-5f0b-412b-9c09-81af53ff19d7",
   "metadata": {},
   "source": [
    "###### Derived Class"
   ]
  },
  {
   "cell_type": "code",
   "execution_count": 11,
   "id": "15579f11-124c-42dd-9b3d-754ed1be3dfd",
   "metadata": {},
   "outputs": [],
   "source": [
    "class Dog(Animal, Pet):\n",
    "    def __init__(self, name, owner):\n",
    "        Animal.__init__(self, name)\n",
    "        Pet.__init__(self, owner)\n",
    "\n",
    "    def speak(self):\n",
    "        return f\"{self.name} says woof\""
   ]
  },
  {
   "cell_type": "code",
   "execution_count": 17,
   "id": "31dfb85c-977d-413e-a2bd-e755c6ef3777",
   "metadata": {},
   "outputs": [
    {
     "name": "stdout",
     "output_type": "stream",
     "text": [
      "AK says woof\n",
      "Owner: Guru\n"
     ]
    }
   ],
   "source": [
    "dog = Dog(\"AK\", \"Guru\")\n",
    "print(dog.speak())\n",
    "print(f\"Owner: {dog.owner}\")"
   ]
  }
 ],
 "metadata": {
  "kernelspec": {
   "display_name": "Machine Learning",
   "language": "python",
   "name": "ml"
  },
  "language_info": {
   "codemirror_mode": {
    "name": "ipython",
    "version": 3
   },
   "file_extension": ".py",
   "mimetype": "text/x-python",
   "name": "python",
   "nbconvert_exporter": "python",
   "pygments_lexer": "ipython3",
   "version": "3.12.6"
  }
 },
 "nbformat": 4,
 "nbformat_minor": 5
}
