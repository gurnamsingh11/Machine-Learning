{
 "cells": [
  {
   "cell_type": "markdown",
   "id": "90cddf04-a313-4b0e-a955-80a6dc6087a9",
   "metadata": {},
   "source": [
    "<ul>\n",
    "        <li><strong>__add__(self, other):</strong> Adds two objects using the + operator.</li>\n",
    "        <li><strong>__sub__(self, other):</strong> Subtracts two objects using the - operator.</li>\n",
    "        <li><strong>__mul__(self, other):</strong> Multiplies two objects using the * operator.</li>\n",
    "        <li><strong>__truediv__(self, other):</strong> Divides two objects using the / operator.</li>\n",
    "        <li><strong>__eq__(self, other):</strong> Checks if two objects are equal using the == operator.</li>\n",
    "        <li><strong>__lt__(self, other):</strong> Checks if one object is less than another using the < operator.</li>\n",
    "    </ul>"
   ]
  },
  {
   "cell_type": "code",
   "execution_count": 2,
   "id": "fa0fa0a8-4e86-41e1-b3de-6e09400bfe3d",
   "metadata": {},
   "outputs": [
    {
     "name": "stdout",
     "output_type": "stream",
     "text": [
      "Vector(6, 8)\n",
      "Vector(-2, -2)\n",
      "Vector(8, 15)\n"
     ]
    }
   ],
   "source": [
    "class Vector:\n",
    "    def __init__(self, x, y):\n",
    "        self.x = x\n",
    "        self.y = y\n",
    "\n",
    "    def __add__(self, other):\n",
    "        return Vector(self.x + other.x, self.y + other.y)\n",
    "        \n",
    "    def __sub__(self, other):\n",
    "        return Vector(self.x - other.x, self.y - other.y)\n",
    "        \n",
    "    def __mul__(self, other):\n",
    "        return Vector(self.x * other.x, self.y * other.y)\n",
    "    \n",
    "    def __eq__(self, other):\n",
    "        return self.x == other.x, self.y == other.y\n",
    "\n",
    "    def __repr__(self):\n",
    "        return f\"Vector({self.x}, {self.y})\"\n",
    "\n",
    "\n",
    "## Create objects of the vector class\n",
    "\n",
    "v1 = Vector(2,3)\n",
    "v2 = Vector(4,5)\n",
    "\n",
    "print(v1+v2)\n",
    "print(v1-v2)\n",
    "print(v1*v2)"
   ]
  },
  {
   "cell_type": "code",
   "execution_count": null,
   "id": "3283b31b-9609-49f0-af7a-e068e968fa01",
   "metadata": {},
   "outputs": [],
   "source": [
    "### "
   ]
  }
 ],
 "metadata": {
  "kernelspec": {
   "display_name": "Machine Learning",
   "language": "python",
   "name": "ml"
  },
  "language_info": {
   "codemirror_mode": {
    "name": "ipython",
    "version": 3
   },
   "file_extension": ".py",
   "mimetype": "text/x-python",
   "name": "python",
   "nbconvert_exporter": "python",
   "pygments_lexer": "ipython3",
   "version": "3.12.6"
  }
 },
 "nbformat": 4,
 "nbformat_minor": 5
}
