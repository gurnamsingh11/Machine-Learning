{
 "cells": [
  {
   "cell_type": "markdown",
   "id": "2d6e3c31-e963-41ba-bc24-27b2a8b0cd8b",
   "metadata": {},
   "source": [
    "## Magic Methods"
   ]
  },
  {
   "cell_type": "markdown",
   "id": "ace77343-da23-4a2d-98be-fb44d5ac2d34",
   "metadata": {},
   "source": [
    "<ul>\n",
    "        <li><strong>__init__</strong>: Initializes a new instance of a class.</li>\n",
    "        <li><strong>__str__</strong>: Returns a string representation of an object.</li>\n",
    "        <li><strong>__len__</strong>: Returns the length of an object.</li>\n",
    "        <li><strong>__repr__</strong>: Returns an official string representation of an object.</li>\n",
    "        <li><strong>__getitem__</strong>: Gets an item from a container.</li>\n",
    "        <li><strong>__setitem__</strong>: Sets an item in a container.</li>\n",
    "    </ul>"
   ]
  },
  {
   "cell_type": "code",
   "execution_count": 1,
   "id": "d7689311-e2ff-4b88-95ab-c43d80a3d567",
   "metadata": {},
   "outputs": [
    {
     "data": {
      "text/plain": [
       "['__class__',\n",
       " '__delattr__',\n",
       " '__dict__',\n",
       " '__dir__',\n",
       " '__doc__',\n",
       " '__eq__',\n",
       " '__format__',\n",
       " '__ge__',\n",
       " '__getattribute__',\n",
       " '__getstate__',\n",
       " '__gt__',\n",
       " '__hash__',\n",
       " '__init__',\n",
       " '__init_subclass__',\n",
       " '__le__',\n",
       " '__lt__',\n",
       " '__module__',\n",
       " '__ne__',\n",
       " '__new__',\n",
       " '__reduce__',\n",
       " '__reduce_ex__',\n",
       " '__repr__',\n",
       " '__setattr__',\n",
       " '__sizeof__',\n",
       " '__str__',\n",
       " '__subclasshook__',\n",
       " '__weakref__']"
      ]
     },
     "execution_count": 1,
     "metadata": {},
     "output_type": "execute_result"
    }
   ],
   "source": [
    "class Person:\n",
    "    pass\n",
    "\n",
    "person = Person()\n",
    "dir(person)"
   ]
  },
  {
   "cell_type": "code",
   "execution_count": 2,
   "id": "600fc7a7-62e6-4a8d-abfb-f3361baf2ee8",
   "metadata": {},
   "outputs": [
    {
     "name": "stdout",
     "output_type": "stream",
     "text": [
      "<__main__.Person object at 0x0000026FBA0E69C0>\n"
     ]
    }
   ],
   "source": [
    "print(person)"
   ]
  },
  {
   "cell_type": "code",
   "execution_count": 4,
   "id": "ec4577b4-2277-4fce-84a8-b67acabba83d",
   "metadata": {},
   "outputs": [
    {
     "name": "stdout",
     "output_type": "stream",
     "text": [
      "<__main__.Person object at 0x0000026FBA14B410>\n"
     ]
    }
   ],
   "source": [
    "## Basic Methods\n",
    "\n",
    "class Person:\n",
    "    def __init__(self, name, age):\n",
    "        self.name=name\n",
    "        self.age=age\n",
    "\n",
    "person = Person(\"Guru\", 24)\n",
    "print(person)"
   ]
  },
  {
   "cell_type": "markdown",
   "id": "1b2cd2f5-4f7f-4f9b-906b-0da7fd174b81",
   "metadata": {},
   "source": [
    "<li><strong>__str__</strong>: Initializes a new instance of a class.</li>"
   ]
  },
  {
   "cell_type": "code",
   "execution_count": 7,
   "id": "3bb76894-11d6-4b60-bcb1-b286dcdb1d5d",
   "metadata": {},
   "outputs": [
    {
     "name": "stdout",
     "output_type": "stream",
     "text": [
      "Guru, 24 Years Old\n"
     ]
    }
   ],
   "source": [
    "class Person:\n",
    "    def __init__(self, name, age):\n",
    "        self.name=name\n",
    "        self.age=age\n",
    "\n",
    "    def __str__(self):\n",
    "        return f\"{self.name}, {self.age} Years Old\"\n",
    "\n",
    "person = Person(\"Guru\", 24)\n",
    "print(person)"
   ]
  },
  {
   "cell_type": "code",
   "execution_count": 10,
   "id": "44266e06-f56d-49a2-a53f-36796ad1bdc0",
   "metadata": {},
   "outputs": [
    {
     "name": "stdout",
     "output_type": "stream",
     "text": [
      "Person(name=Guru, age=24)\n"
     ]
    }
   ],
   "source": [
    "class Person:\n",
    "    def __init__(self, name, age):\n",
    "        self.name=name\n",
    "        self.age=age\n",
    "\n",
    "    def __repr__(self):\n",
    "        return f\"Person(name={self.name}, age={self.age})\"\n",
    "\n",
    "person = Person(\"Guru\", 24)\n",
    "print(repr(person))"
   ]
  }
 ],
 "metadata": {
  "kernelspec": {
   "display_name": "Machine Learning",
   "language": "python",
   "name": "ml"
  },
  "language_info": {
   "codemirror_mode": {
    "name": "ipython",
    "version": 3
   },
   "file_extension": ".py",
   "mimetype": "text/x-python",
   "name": "python",
   "nbconvert_exporter": "python",
   "pygments_lexer": "ipython3",
   "version": "3.12.6"
  }
 },
 "nbformat": 4,
 "nbformat_minor": 5
}
