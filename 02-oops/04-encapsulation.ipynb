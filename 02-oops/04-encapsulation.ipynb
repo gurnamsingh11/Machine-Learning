{
 "cells": [
  {
   "cell_type": "markdown",
   "id": "65e9deba-6e8e-403d-b27e-d30afbd1be3a",
   "metadata": {},
   "source": [
    "## Encapsulation"
   ]
  },
  {
   "cell_type": "markdown",
   "id": "dc419afc-8a2b-4f69-a3e2-b1a7b4f4aa84",
   "metadata": {},
   "source": [
    "### concept of wrapping data (variables) and methods (functions) together as single unit. It restricts direct access to some of the object's components, which means of preventing accidential interference and misuse of the data"
   ]
  },
  {
   "cell_type": "markdown",
   "id": "21fe1d21-860f-4ab7-9ee9-53e5e21b5689",
   "metadata": {},
   "source": [
    "- Public\n",
    "- Protected\n",
    "- Private\n",
    "- Variables or access modifiers"
   ]
  },
  {
   "cell_type": "markdown",
   "id": "9f21d5fa-d27a-4672-849d-d59fe314d938",
   "metadata": {
    "jp-MarkdownHeadingCollapsed": true
   },
   "source": [
    "#### Public"
   ]
  },
  {
   "cell_type": "code",
   "execution_count": 5,
   "id": "e56ad0dc-ff4c-4b7f-b50e-fb8e474c7cf0",
   "metadata": {},
   "outputs": [
    {
     "data": {
      "text/plain": [
       "'Guru'"
      ]
     },
     "execution_count": 5,
     "metadata": {},
     "output_type": "execute_result"
    }
   ],
   "source": [
    "class Person:\n",
    "    def __init__(self, name, age):\n",
    "        self.name = name  ## public variables\n",
    "        self.age = age    ##public variables\n",
    "\n",
    "def get_name(person):\n",
    "    return person.name\n",
    "    \n",
    "person = Person(\"Guru\", 25)\n",
    "get_name(person) # able to access name from other function"
   ]
  },
  {
   "cell_type": "code",
   "execution_count": 7,
   "id": "caf3b842-c45d-4fcd-bad7-901de1d5377d",
   "metadata": {},
   "outputs": [
    {
     "data": {
      "text/plain": [
       "['__class__',\n",
       " '__delattr__',\n",
       " '__dict__',\n",
       " '__dir__',\n",
       " '__doc__',\n",
       " '__eq__',\n",
       " '__format__',\n",
       " '__ge__',\n",
       " '__getattribute__',\n",
       " '__getstate__',\n",
       " '__gt__',\n",
       " '__hash__',\n",
       " '__init__',\n",
       " '__init_subclass__',\n",
       " '__le__',\n",
       " '__lt__',\n",
       " '__module__',\n",
       " '__ne__',\n",
       " '__new__',\n",
       " '__reduce__',\n",
       " '__reduce_ex__',\n",
       " '__repr__',\n",
       " '__setattr__',\n",
       " '__sizeof__',\n",
       " '__str__',\n",
       " '__subclasshook__',\n",
       " '__weakref__',\n",
       " 'age',\n",
       " 'name']"
      ]
     },
     "execution_count": 7,
     "metadata": {},
     "output_type": "execute_result"
    }
   ],
   "source": [
    "dir(person) # publicly available"
   ]
  },
  {
   "cell_type": "markdown",
   "id": "ef0fc9f1-f043-4bf1-b115-29741dc73457",
   "metadata": {
    "jp-MarkdownHeadingCollapsed": true
   },
   "source": [
    "#### Private class"
   ]
  },
  {
   "cell_type": "code",
   "execution_count": 9,
   "id": "0b1199d1-0fe9-440c-b25b-5c6ff62a4cbf",
   "metadata": {},
   "outputs": [],
   "source": [
    "class Person:\n",
    "    def __init__(self, name, age, gender):\n",
    "        self.__name = name   ## Private variables\n",
    "        self.__age = age     ## Private variables\n",
    "        self.gender = gender ## Public variables"
   ]
  },
  {
   "cell_type": "code",
   "execution_count": 10,
   "id": "5fa95334-9d1d-4394-a917-bbea9dc390af",
   "metadata": {},
   "outputs": [
    {
     "data": {
      "text/plain": [
       "['_Person__age',\n",
       " '_Person__name',\n",
       " '__class__',\n",
       " '__delattr__',\n",
       " '__dict__',\n",
       " '__dir__',\n",
       " '__doc__',\n",
       " '__eq__',\n",
       " '__format__',\n",
       " '__ge__',\n",
       " '__getattribute__',\n",
       " '__getstate__',\n",
       " '__gt__',\n",
       " '__hash__',\n",
       " '__init__',\n",
       " '__init_subclass__',\n",
       " '__le__',\n",
       " '__lt__',\n",
       " '__module__',\n",
       " '__ne__',\n",
       " '__new__',\n",
       " '__reduce__',\n",
       " '__reduce_ex__',\n",
       " '__repr__',\n",
       " '__setattr__',\n",
       " '__sizeof__',\n",
       " '__str__',\n",
       " '__subclasshook__',\n",
       " '__weakref__',\n",
       " 'gender']"
      ]
     },
     "execution_count": 10,
     "metadata": {},
     "output_type": "execute_result"
    }
   ],
   "source": [
    "person = Person(\"Guru\", 25, \"Male\")\n",
    "dir(person)\n",
    "\n",
    "# Private variables\n",
    "# '_Person__age',\n",
    "#  '_Person__name',"
   ]
  },
  {
   "cell_type": "code",
   "execution_count": 11,
   "id": "d4461250-d083-4514-8d2d-0f9ed6d5f77f",
   "metadata": {},
   "outputs": [
    {
     "ename": "AttributeError",
     "evalue": "type object 'Person' has no attribute 'name'",
     "output_type": "error",
     "traceback": [
      "\u001b[1;31m---------------------------------------------------------------------------\u001b[0m",
      "\u001b[1;31mAttributeError\u001b[0m                            Traceback (most recent call last)",
      "Cell \u001b[1;32mIn[11], line 1\u001b[0m\n\u001b[1;32m----> 1\u001b[0m \u001b[43mget_name\u001b[49m\u001b[43m(\u001b[49m\u001b[43mPerson\u001b[49m\u001b[43m)\u001b[49m\n",
      "Cell \u001b[1;32mIn[8], line 7\u001b[0m, in \u001b[0;36mget_name\u001b[1;34m(person)\u001b[0m\n\u001b[0;32m      6\u001b[0m \u001b[38;5;28;01mdef\u001b[39;00m\u001b[38;5;250m \u001b[39m\u001b[38;5;21mget_name\u001b[39m(person):\n\u001b[1;32m----> 7\u001b[0m     \u001b[38;5;28;01mreturn\u001b[39;00m \u001b[43mperson\u001b[49m\u001b[38;5;241;43m.\u001b[39;49m\u001b[43mname\u001b[49m\n",
      "\u001b[1;31mAttributeError\u001b[0m: type object 'Person' has no attribute 'name'"
     ]
    }
   ],
   "source": [
    "get_name(Person) # its private so can't access"
   ]
  },
  {
   "cell_type": "markdown",
   "id": "282cbe99-fbbd-4194-b7e1-e8139c729269",
   "metadata": {
    "jp-MarkdownHeadingCollapsed": true
   },
   "source": [
    "#### Protected: Only derived Class will be able to access"
   ]
  },
  {
   "cell_type": "code",
   "execution_count": 16,
   "id": "3fde0f52-2f71-4b90-bb0f-75091617388a",
   "metadata": {},
   "outputs": [
    {
     "name": "stdout",
     "output_type": "stream",
     "text": [
      "Guru\n"
     ]
    }
   ],
   "source": [
    "class Person:\n",
    "    def __init__(self, name, age, gender):\n",
    "        self._name = name   ## Protected variables\n",
    "        self._age = age     ## Protected variables\n",
    "        self.gender = gender ## Public variables \n",
    "\n",
    "class Employee(Person):\n",
    "    def __init__(self, name, age, gender):\n",
    "        super().__init__(name, age, gender)\n",
    "\n",
    "employee = Employee(\"Guru\", 25, \"Male\")\n",
    "print(employee._name)"
   ]
  },
  {
   "cell_type": "markdown",
   "id": "fccf3141-345b-4446-ad01-7643bbf9d2ea",
   "metadata": {},
   "source": [
    "#### Encapsulation with Getter and Setter Methods"
   ]
  },
  {
   "cell_type": "code",
   "execution_count": 27,
   "id": "77eae643-f1a9-4643-af72-ecd037d87ed7",
   "metadata": {},
   "outputs": [],
   "source": [
    "class Person:\n",
    "    def __init__(self, name, age):\n",
    "        self.__name = name   ## Private variables\n",
    "        self.__age = age     ## Private variables\n",
    "\n",
    "    ## getter method for name\n",
    "    def get_name(self):\n",
    "        return self.__name\n",
    "\n",
    "    ## setter method\n",
    "    def set_name(self,name):\n",
    "        self.__name = name\n",
    "\n",
    "    ## getter method for name\n",
    "    def get_age(self):\n",
    "        return self.__age\n",
    "\n",
    "    ## setter method for age\n",
    "    def set_age(self, age):\n",
    "        if age > 0:\n",
    "            self.__age = age\n",
    "        else:\n",
    "            return \"Age cannot be negative\""
   ]
  },
  {
   "cell_type": "code",
   "execution_count": 30,
   "id": "5b0afc9a-efbc-487c-b08d-a3d9c58a5688",
   "metadata": {},
   "outputs": [
    {
     "name": "stdout",
     "output_type": "stream",
     "text": [
      "Guru\n",
      "34\n",
      "35\n"
     ]
    },
    {
     "data": {
      "text/plain": [
       "'Age cannot be negative'"
      ]
     },
     "execution_count": 30,
     "metadata": {},
     "output_type": "execute_result"
    }
   ],
   "source": [
    "person = Person(\"Guru\", 34)\n",
    "\n",
    "## Access and Modify Private variables using getter and setter\n",
    "\n",
    "print(person.get_name())\n",
    "print(person.get_age())\n",
    "\n",
    "person.set_age(35)\n",
    "print(person.get_age())\n",
    "\n",
    "person.set_age(-5)"
   ]
  },
  {
   "cell_type": "code",
   "execution_count": null,
   "id": "cdcbf5cd-aab5-45ce-9f80-d94453bc8e8f",
   "metadata": {},
   "outputs": [],
   "source": []
  }
 ],
 "metadata": {
  "kernelspec": {
   "display_name": "Machine Learning",
   "language": "python",
   "name": "ml"
  },
  "language_info": {
   "codemirror_mode": {
    "name": "ipython",
    "version": 3
   },
   "file_extension": ".py",
   "mimetype": "text/x-python",
   "name": "python",
   "nbconvert_exporter": "python",
   "pygments_lexer": "ipython3",
   "version": "3.12.6"
  }
 },
 "nbformat": 4,
 "nbformat_minor": 5
}
