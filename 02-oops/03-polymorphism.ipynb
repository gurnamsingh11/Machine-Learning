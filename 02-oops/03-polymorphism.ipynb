{
 "cells": [
  {
   "cell_type": "markdown",
   "id": "26c1bfa4-8e08-43bd-aac4-c63f156e07ad",
   "metadata": {},
   "source": [
    "## Polymorphism"
   ]
  },
  {
   "cell_type": "markdown",
   "id": "fc75fc8e-88ca-4f6b-bc18-a4dd2431ce82",
   "metadata": {},
   "source": [
    "### Means multiple forms. provides a way to perform single action in different forms."
   ]
  },
  {
   "cell_type": "markdown",
   "id": "4c71b0c0-cd71-4126-a489-0426b79e3945",
   "metadata": {},
   "source": [
    "#### Method Overriding\n",
    "- allows child class to provide a specific implementation of a method that is already defined in its parent class."
   ]
  },
  {
   "cell_type": "markdown",
   "id": "9feb1edb-d6b3-4357-a2c7-48a63ed287b3",
   "metadata": {},
   "source": [
    "##### Base Class"
   ]
  },
  {
   "cell_type": "code",
   "execution_count": 1,
   "id": "2b0c667c-f66b-428b-8d15-14a86c57252e",
   "metadata": {},
   "outputs": [],
   "source": [
    "class Animal():\n",
    "    def speak(self):\n",
    "        return \"Sound of the Animal\""
   ]
  },
  {
   "cell_type": "markdown",
   "id": "3966c241-69b1-4b49-9e7d-0864205d4b3e",
   "metadata": {},
   "source": [
    "##### Derived Class "
   ]
  },
  {
   "cell_type": "code",
   "execution_count": 3,
   "id": "e326e11a-4bb0-44fb-a5bd-74cf22288610",
   "metadata": {},
   "outputs": [],
   "source": [
    "class Dog(Animal):\n",
    "    def speak(self):\n",
    "        return \"Woof!\"\n",
    "\n",
    "class Cat(Animal):\n",
    "    def speak(self):\n",
    "        return \"Meow!\""
   ]
  },
  {
   "cell_type": "code",
   "execution_count": 4,
   "id": "e718dd10-73f1-449e-ae30-60d6f9637831",
   "metadata": {},
   "outputs": [
    {
     "name": "stdout",
     "output_type": "stream",
     "text": [
      "Woof!\n",
      "Meow!\n"
     ]
    }
   ],
   "source": [
    "dog = Dog()\n",
    "print(dog.speak())\n",
    "\n",
    "cat = Cat()\n",
    "print(cat.speak())"
   ]
  },
  {
   "cell_type": "markdown",
   "id": "3635321b-1542-4c34-8427-6e59a54afd22",
   "metadata": {},
   "source": [
    "#### Function that demonstrates Polymorphism"
   ]
  },
  {
   "cell_type": "code",
   "execution_count": 6,
   "id": "49cb88f3-4438-4c12-a0df-d6d072026b66",
   "metadata": {},
   "outputs": [
    {
     "data": {
      "text/plain": [
       "'Woof!'"
      ]
     },
     "execution_count": 6,
     "metadata": {},
     "output_type": "execute_result"
    }
   ],
   "source": [
    "def animal_speak(animal):\n",
    "    return animal.speak()\n",
    "\n",
    "animal_speak(dog)"
   ]
  },
  {
   "cell_type": "markdown",
   "id": "a3c1ba09-df4c-4e94-8dd2-e00d78e71bfa",
   "metadata": {},
   "source": [
    "#### Polymorphism with Functions and Methods"
   ]
  },
  {
   "cell_type": "code",
   "execution_count": 10,
   "id": "bb762a88-08e6-4e3a-9231-7c6d09b00fe1",
   "metadata": {},
   "outputs": [],
   "source": [
    "from math import pi\n",
    "\n",
    "class Shape():\n",
    "    def area(self):\n",
    "        return \"The area of the figure\"\n",
    "\n",
    "class Rectangle(Shape):\n",
    "    def __init__(self, width, height):\n",
    "        self.width = width\n",
    "        self.height = height\n",
    "        \n",
    "    def area(self):\n",
    "        return self.width * self.height\n",
    "\n",
    "class Circle(Shape):\n",
    "    def __init__(self, radius):\n",
    "        self.radius = radius\n",
    "\n",
    "    def area(self):\n",
    "        return pi * self.radius ** 2"
   ]
  },
  {
   "cell_type": "markdown",
   "id": "03547516-c858-40df-9b4b-101d11977f6b",
   "metadata": {},
   "source": [
    "###### Function that demonstrates polymorphism"
   ]
  },
  {
   "cell_type": "code",
   "execution_count": 13,
   "id": "597a7bab-e8ff-4001-b279-a1d3940dc9cf",
   "metadata": {},
   "outputs": [],
   "source": [
    "def print_area(shape):\n",
    "    return f\"the area is {shape.area()}\""
   ]
  },
  {
   "cell_type": "code",
   "execution_count": 19,
   "id": "5f5332a7-4181-4499-80d8-537a3c5d1783",
   "metadata": {},
   "outputs": [
    {
     "name": "stdout",
     "output_type": "stream",
     "text": [
      "the area is 20\n",
      "the area is 28.27\n"
     ]
    }
   ],
   "source": [
    "rectangle = Rectangle(4, 5)\n",
    "circle = Circle(3)\n",
    "\n",
    "print(print_area(rectangle))\n",
    "print(print_area(circle))"
   ]
  },
  {
   "cell_type": "markdown",
   "id": "ee3c4de1-0226-4423-96af-5ec052abbf35",
   "metadata": {},
   "source": [
    "#### Polymorphism with Abstract Base Classes"
   ]
  },
  {
   "cell_type": "markdown",
   "id": "b88a071c-366b-48a1-a030-fd2babf48d3b",
   "metadata": {},
   "source": [
    "##### Abstract Base Classes (ABC) are used to define common methods for a group of related objects. They can enforce that derived classes implement particular methods, promoting consistency across different implementations"
   ]
  },
  {
   "cell_type": "code",
   "execution_count": 23,
   "id": "e634c8d2-113b-48c8-89e4-9a85964bc1bc",
   "metadata": {},
   "outputs": [],
   "source": [
    "from abc import ABC, abstractmethod\n",
    "\n",
    "## Define an abstract class\n",
    "class Vehicle(ABC):\n",
    "    @abstractmethod\n",
    "    def start_engine(self):\n",
    "        pass\n",
    "\n",
    "## Derived class 1\n",
    "class Car(Vehicle):\n",
    "    def start_engine(self):\n",
    "        return \"Car engine started\"\n",
    "\n",
    "## Derived Class 2\n",
    "class Motorcycle(Vehicle):\n",
    "    def start_engine(self):\n",
    "        return \"Motorcycle engine started\"\n",
    "\n",
    "## Function that demonstrates polymorphism\n",
    "def start_vehicle(vehicle):\n",
    "    return vehicle.start_engine()"
   ]
  },
  {
   "cell_type": "code",
   "execution_count": 24,
   "id": "6c417f22-3fd0-4a4f-ae4d-3f10a7b389da",
   "metadata": {},
   "outputs": [
    {
     "data": {
      "text/plain": [
       "'Car engine started'"
      ]
     },
     "execution_count": 24,
     "metadata": {},
     "output_type": "execute_result"
    }
   ],
   "source": [
    "## create objects or car and motorcycle\n",
    "\n",
    "car = Car()\n",
    "motorcycle = Motorcycle()\n",
    "\n",
    "start_vehicle(car)"
   ]
  }
 ],
 "metadata": {
  "kernelspec": {
   "display_name": "Machine Learning",
   "language": "python",
   "name": "ml"
  },
  "language_info": {
   "codemirror_mode": {
    "name": "ipython",
    "version": 3
   },
   "file_extension": ".py",
   "mimetype": "text/x-python",
   "name": "python",
   "nbconvert_exporter": "python",
   "pygments_lexer": "ipython3",
   "version": "3.12.6"
  }
 },
 "nbformat": 4,
 "nbformat_minor": 5
}
