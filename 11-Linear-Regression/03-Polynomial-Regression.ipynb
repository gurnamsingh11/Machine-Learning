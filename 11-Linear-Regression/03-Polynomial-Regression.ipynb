{
 "cells": [
  {
   "cell_type": "markdown",
   "id": "465bd73d-5df8-40e7-bef9-d32a0e2bf1a4",
   "metadata": {},
   "source": [
    "## Polynomial Regression"
   ]
  },
  {
   "cell_type": "code",
   "execution_count": 1,
   "id": "fae96df6-3c54-42f5-9216-a2d800e80a20",
   "metadata": {},
   "outputs": [],
   "source": [
    "import numpy as np\n",
    "import pandas as pd\n",
    "import matplotlib.pyplot as plt\n",
    "import seaborn as sns\n",
    "%matplotlib inline"
   ]
  },
  {
   "cell_type": "markdown",
   "id": "00cf8b11-50e4-4b48-887d-1a786db11432",
   "metadata": {},
   "source": [
    "### Preparing Dataset"
   ]
  },
  {
   "cell_type": "code",
   "execution_count": 3,
   "id": "f42af78b-4725-4558-8c40-b2033bb76297",
   "metadata": {},
   "outputs": [
    {
     "data": {
      "text/plain": [
       "Text(0, 0.5, 'Y Dataset')"
      ]
     },
     "execution_count": 3,
     "metadata": {},
     "output_type": "execute_result"
    },
    {
     "data": {
      "image/png": "[encoded data removed]",
      "text/plain": [
       "<Figure size 640x480 with 1 Axes>"
      ]
     },
     "metadata": {},
     "output_type": "display_data"
    }
   ],
   "source": [
    "X = 6 * np.random.rand(100, 1) - 3\n",
    "y = 0.5 * X**2 + 1.5*X + 2 + np.random.randn(100, 1)\n",
    "\n",
    "# quadratic eqn used => y = 0.5x^2 + 1.5x + 2 + outlier\n",
    "plt.scatter(X, y, color='g')\n",
    "plt.xlabel('X Dataset')\n",
    "plt.ylabel('Y Dataset')"
   ]
  },
  {
   "cell_type": "code",
   "execution_count": 4,
   "id": "bd96465d-8755-4b1d-8e6e-5d8ae7e50ffd",
   "metadata": {},
   "outputs": [],
   "source": [
    "from sklearn.model_selection import train_test_split\n",
    "\n",
    "X_train, X_test, y_train, y_test = train_test_split(X,y, test_size=0.2, random_state=42)"
   ]
  },
  {
   "cell_type": "markdown",
   "id": "130363c9-64b9-4285-b208-9958235d8161",
   "metadata": {},
   "source": [
    "### Let's Implement a Simple Linear Regression"
   ]
  },
  {
   "cell_type": "code",
   "execution_count": 5,
   "id": "b33c670a-ed1e-40d2-be81-f391f2c17c39",
   "metadata": {},
   "outputs": [],
   "source": [
    "from sklearn.linear_model import LinearRegression"
   ]
  },
  {
   "cell_type": "code",
   "execution_count": 6,
   "id": "bb00c81c-3037-45f9-978f-f096795b365e",
   "metadata": {},
   "outputs": [],
   "source": [
    "regression_one = LinearRegression()"
   ]
  },
  {
   "cell_type": "markdown",
   "id": "44596c07-6e4a-4f24-894c-04a96c44a779",
   "metadata": {},
   "source": [
    "<p>We had use normalized values only so skipping that step</p>"
   ]
  },
  {
   "cell_type": "code",
   "execution_count": 7,
   "id": "f50d3726-c2b1-4aa7-b7c9-827a64ebe406",
   "metadata": {},
   "outputs": [
    {
     "data": {
      "text/html": [
       "<style>#sk-container-id-1 {\n",
       "  /* Definition of color scheme common for light and dark mode */\n",
       "  --sklearn-color-text: #000;\n",
       "  --sklearn-color-text-muted: #666;\n",
       "  --sklearn-color-line: gray;\n",
       "  /* Definition of color scheme for unfitted estimators */\n",
       "  --sklearn-color-unfitted-level-0: #fff5e6;\n",
       "  --sklearn-color-unfitted-level-1: #f6e4d2;\n",
       "  --sklearn-color-unfitted-level-2: #ffe0b3;\n",
       "  --sklearn-color-unfitted-level-3: chocolate;\n",
       "  /* Definition of color scheme for fitted estimators */\n",
       "  --sklearn-color-fitted-level-0: #f0f8ff;\n",
       "  --sklearn-color-fitted-level-1: #d4ebff;\n",
       "  --sklearn-color-fitted-level-2: #b3dbfd;\n",
       "  --sklearn-color-fitted-level-3: cornflowerblue;\n",
       "\n",
       "  /* Specific color for light theme */\n",
       "  --sklearn-color-text-on-default-background: var(--sg-text-color, var(--theme-code-foreground, var(--jp-content-font-color1, black)));\n",
       "  --sklearn-color-background: var(--sg-background-color, var(--theme-background, var(--jp-layout-color0, white)));\n",
       "  --sklearn-color-border-box: var(--sg-text-color, var(--theme-code-foreground, var(--jp-content-font-color1, black)));\n",
       "  --sklearn-color-icon: #696969;\n",
       "\n",
       "  @media (prefers-color-scheme: dark) {\n",
       "    /* Redefinition of color scheme for dark theme */\n",
       "    --sklearn-color-text-on-default-background: var(--sg-text-color, var(--theme-code-foreground, var(--jp-content-font-color1, white)));\n",
       "    --sklearn-color-background: var(--sg-background-color, var(--theme-background, var(--jp-layout-color0, #111)));\n",
       "    --sklearn-color-border-box: var(--sg-text-color, var(--theme-code-foreground, var(--jp-content-font-color1, white)));\n",
       "    --sklearn-color-icon: #878787;\n",
       "  }\n",
       "}\n",
       "\n",
       "#sk-container-id-1 {\n",
       "  color: var(--sklearn-color-text);\n",
       "}\n",
       "\n",
       "#sk-container-id-1 pre {\n",
       "  padding: 0;\n",
       "}\n",
       "\n",
       "#sk-container-id-1 input.sk-hidden--visually {\n",
       "  border: 0;\n",
       "  clip: rect(1px 1px 1px 1px);\n",
       "  clip: rect(1px, 1px, 1px, 1px);\n",
       "  height: 1px;\n",
       "  margin: -1px;\n",
       "  overflow: hidden;\n",
       "  padding: 0;\n",
       "  position: absolute;\n",
       "  width: 1px;\n",
       "}\n",
       "\n",
       "#sk-container-id-1 div.sk-dashed-wrapped {\n",
       "  border: 1px dashed var(--sklearn-color-line);\n",
       "  margin: 0 0.4em 0.5em 0.4em;\n",
       "  box-sizing: border-box;\n",
       "  padding-bottom: 0.4em;\n",
       "  background-color: var(--sklearn-color-background);\n",
       "}\n",
       "\n",
       "#sk-container-id-1 div.sk-container {\n",
       "  /* jupyter's `normalize.less` sets `[hidden] { display: none; }`\n",
       "     but bootstrap.min.css set `[hidden] { display: none !important; }`\n",
       "     so we also need the `!important` here to be able to override the\n",
       "     default hidden behavior on the sphinx rendered scikit-learn.org.\n",
       "     See: https://github.com/scikit-learn/scikit-learn/issues/21755 */\n",
       "  display: inline-block !important;\n",
       "  position: relative;\n",
       "}\n",
       "\n",
       "#sk-container-id-1 div.sk-text-repr-fallback {\n",
       "  display: none;\n",
       "}\n",
       "\n",
       "div.sk-parallel-item,\n",
       "div.sk-serial,\n",
       "div.sk-item {\n",
       "  /* draw centered vertical line to link estimators */\n",
       "  background-image: linear-gradient(var(--sklearn-color-text-on-default-background), var(--sklearn-color-text-on-default-background));\n",
       "  background-size: 2px 100%;\n",
       "  background-repeat: no-repeat;\n",
       "  background-position: center center;\n",
       "}\n",
       "\n",
       "/* Parallel-specific style estimator block */\n",
       "\n",
       "#sk-container-id-1 div.sk-parallel-item::after {\n",
       "  content: \"\";\n",
       "  width: 100%;\n",
       "  border-bottom: 2px solid var(--sklearn-color-text-on-default-background);\n",
       "  flex-grow: 1;\n",
       "}\n",
       "\n",
       "#sk-container-id-1 div.sk-parallel {\n",
       "  display: flex;\n",
       "  align-items: stretch;\n",
       "  justify-content: center;\n",
       "  background-color: var(--sklearn-color-background);\n",
       "  position: relative;\n",
       "}\n",
       "\n",
       "#sk-container-id-1 div.sk-parallel-item {\n",
       "  display: flex;\n",
       "  flex-direction: column;\n",
       "}\n",
       "\n",
       "#sk-container-id-1 div.sk-parallel-item:first-child::after {\n",
       "  align-self: flex-end;\n",
       "  width: 50%;\n",
       "}\n",
       "\n",
       "#sk-container-id-1 div.sk-parallel-item:last-child::after {\n",
       "  align-self: flex-start;\n",
       "  width: 50%;\n",
       "}\n",
       "\n",
       "#sk-container-id-1 div.sk-parallel-item:only-child::after {\n",
       "  width: 0;\n",
       "}\n",
       "\n",
       "/* Serial-specific style estimator block */\n",
       "\n",
       "#sk-container-id-1 div.sk-serial {\n",
       "  display: flex;\n",
       "  flex-direction: column;\n",
       "  align-items: center;\n",
       "  background-color: var(--sklearn-color-background);\n",
       "  padding-right: 1em;\n",
       "  padding-left: 1em;\n",
       "}\n",
       "\n",
       "\n",
       "/* Toggleable style: style used for estimator/Pipeline/ColumnTransformer box that is\n",
       "clickable and can be expanded/collapsed.\n",
       "- Pipeline and ColumnTransformer use this feature and define the default style\n",
       "- Estimators will overwrite some part of the style using the `sk-estimator` class\n",
       "*/\n",
       "\n",
       "/* Pipeline and ColumnTransformer style (default) */\n",
       "\n",
       "#sk-container-id-1 div.sk-toggleable {\n",
       "  /* Default theme specific background. It is overwritten whether we have a\n",
       "  specific estimator or a Pipeline/ColumnTransformer */\n",
       "  background-color: var(--sklearn-color-background);\n",
       "}\n",
       "\n",
       "/* Toggleable label */\n",
       "#sk-container-id-1 label.sk-toggleable__label {\n",
       "  cursor: pointer;\n",
       "  display: flex;\n",
       "  width: 100%;\n",
       "  margin-bottom: 0;\n",
       "  padding: 0.5em;\n",
       "  box-sizing: border-box;\n",
       "  text-align: center;\n",
       "  align-items: start;\n",
       "  justify-content: space-between;\n",
       "  gap: 0.5em;\n",
       "}\n",
       "\n",
       "#sk-container-id-1 label.sk-toggleable__label .caption {\n",
       "  font-size: 0.6rem;\n",
       "  font-weight: lighter;\n",
       "  color: var(--sklearn-color-text-muted);\n",
       "}\n",
       "\n",
       "#sk-container-id-1 label.sk-toggleable__label-arrow:before {\n",
       "  /* Arrow on the left of the label */\n",
       "  content: \"▸\";\n",
       "  float: left;\n",
       "  margin-right: 0.25em;\n",
       "  color: var(--sklearn-color-icon);\n",
       "}\n",
       "\n",
       "#sk-container-id-1 label.sk-toggleable__label-arrow:hover:before {\n",
       "  color: var(--sklearn-color-text);\n",
       "}\n",
       "\n",
       "/* Toggleable content - dropdown */\n",
       "\n",
       "#sk-container-id-1 div.sk-toggleable__content {\n",
       "  max-height: 0;\n",
       "  max-width: 0;\n",
       "  overflow: hidden;\n",
       "  text-align: left;\n",
       "  /* unfitted */\n",
       "  background-color: var(--sklearn-color-unfitted-level-0);\n",
       "}\n",
       "\n",
       "#sk-container-id-1 div.sk-toggleable__content.fitted {\n",
       "  /* fitted */\n",
       "  background-color: var(--sklearn-color-fitted-level-0);\n",
       "}\n",
       "\n",
       "#sk-container-id-1 div.sk-toggleable__content pre {\n",
       "  margin: 0.2em;\n",
       "  border-radius: 0.25em;\n",
       "  color: var(--sklearn-color-text);\n",
       "  /* unfitted */\n",
       "  background-color: var(--sklearn-color-unfitted-level-0);\n",
       "}\n",
       "\n",
       "#sk-container-id-1 div.sk-toggleable__content.fitted pre {\n",
       "  /* unfitted */\n",
       "  background-color: var(--sklearn-color-fitted-level-0);\n",
       "}\n",
       "\n",
       "#sk-container-id-1 input.sk-toggleable__control:checked~div.sk-toggleable__content {\n",
       "  /* Expand drop-down */\n",
       "  max-height: 200px;\n",
       "  max-width: 100%;\n",
       "  overflow: auto;\n",
       "}\n",
       "\n",
       "#sk-container-id-1 input.sk-toggleable__control:checked~label.sk-toggleable__label-arrow:before {\n",
       "  content: \"▾\";\n",
       "}\n",
       "\n",
       "/* Pipeline/ColumnTransformer-specific style */\n",
       "\n",
       "#sk-container-id-1 div.sk-label input.sk-toggleable__control:checked~label.sk-toggleable__label {\n",
       "  color: var(--sklearn-color-text);\n",
       "  background-color: var(--sklearn-color-unfitted-level-2);\n",
       "}\n",
       "\n",
       "#sk-container-id-1 div.sk-label.fitted input.sk-toggleable__control:checked~label.sk-toggleable__label {\n",
       "  background-color: var(--sklearn-color-fitted-level-2);\n",
       "}\n",
       "\n",
       "/* Estimator-specific style */\n",
       "\n",
       "/* Colorize estimator box */\n",
       "#sk-container-id-1 div.sk-estimator input.sk-toggleable__control:checked~label.sk-toggleable__label {\n",
       "  /* unfitted */\n",
       "  background-color: var(--sklearn-color-unfitted-level-2);\n",
       "}\n",
       "\n",
       "#sk-container-id-1 div.sk-estimator.fitted input.sk-toggleable__control:checked~label.sk-toggleable__label {\n",
       "  /* fitted */\n",
       "  background-color: var(--sklearn-color-fitted-level-2);\n",
       "}\n",
       "\n",
       "#sk-container-id-1 div.sk-label label.sk-toggleable__label,\n",
       "#sk-container-id-1 div.sk-label label {\n",
       "  /* The background is the default theme color */\n",
       "  color: var(--sklearn-color-text-on-default-background);\n",
       "}\n",
       "\n",
       "/* On hover, darken the color of the background */\n",
       "#sk-container-id-1 div.sk-label:hover label.sk-toggleable__label {\n",
       "  color: var(--sklearn-color-text);\n",
       "  background-color: var(--sklearn-color-unfitted-level-2);\n",
       "}\n",
       "\n",
       "/* Label box, darken color on hover, fitted */\n",
       "#sk-container-id-1 div.sk-label.fitted:hover label.sk-toggleable__label.fitted {\n",
       "  color: var(--sklearn-color-text);\n",
       "  background-color: var(--sklearn-color-fitted-level-2);\n",
       "}\n",
       "\n",
       "/* Estimator label */\n",
       "\n",
       "#sk-container-id-1 div.sk-label label {\n",
       "  font-family: monospace;\n",
       "  font-weight: bold;\n",
       "  display: inline-block;\n",
       "  line-height: 1.2em;\n",
       "}\n",
       "\n",
       "#sk-container-id-1 div.sk-label-container {\n",
       "  text-align: center;\n",
       "}\n",
       "\n",
       "/* Estimator-specific */\n",
       "#sk-container-id-1 div.sk-estimator {\n",
       "  font-family: monospace;\n",
       "  border: 1px dotted var(--sklearn-color-border-box);\n",
       "  border-radius: 0.25em;\n",
       "  box-sizing: border-box;\n",
       "  margin-bottom: 0.5em;\n",
       "  /* unfitted */\n",
       "  background-color: var(--sklearn-color-unfitted-level-0);\n",
       "}\n",
       "\n",
       "#sk-container-id-1 div.sk-estimator.fitted {\n",
       "  /* fitted */\n",
       "  background-color: var(--sklearn-color-fitted-level-0);\n",
       "}\n",
       "\n",
       "/* on hover */\n",
       "#sk-container-id-1 div.sk-estimator:hover {\n",
       "  /* unfitted */\n",
       "  background-color: var(--sklearn-color-unfitted-level-2);\n",
       "}\n",
       "\n",
       "#sk-container-id-1 div.sk-estimator.fitted:hover {\n",
       "  /* fitted */\n",
       "  background-color: var(--sklearn-color-fitted-level-2);\n",
       "}\n",
       "\n",
       "/* Specification for estimator info (e.g. \"i\" and \"?\") */\n",
       "\n",
       "/* Common style for \"i\" and \"?\" */\n",
       "\n",
       ".sk-estimator-doc-link,\n",
       "a:link.sk-estimator-doc-link,\n",
       "a:visited.sk-estimator-doc-link {\n",
       "  float: right;\n",
       "  font-size: smaller;\n",
       "  line-height: 1em;\n",
       "  font-family: monospace;\n",
       "  background-color: var(--sklearn-color-background);\n",
       "  border-radius: 1em;\n",
       "  height: 1em;\n",
       "  width: 1em;\n",
       "  text-decoration: none !important;\n",
       "  margin-left: 0.5em;\n",
       "  text-align: center;\n",
       "  /* unfitted */\n",
       "  border: var(--sklearn-color-unfitted-level-1) 1pt solid;\n",
       "  color: var(--sklearn-color-unfitted-level-1);\n",
       "}\n",
       "\n",
       ".sk-estimator-doc-link.fitted,\n",
       "a:link.sk-estimator-doc-link.fitted,\n",
       "a:visited.sk-estimator-doc-link.fitted {\n",
       "  /* fitted */\n",
       "  border: var(--sklearn-color-fitted-level-1) 1pt solid;\n",
       "  color: var(--sklearn-color-fitted-level-1);\n",
       "}\n",
       "\n",
       "/* On hover */\n",
       "div.sk-estimator:hover .sk-estimator-doc-link:hover,\n",
       ".sk-estimator-doc-link:hover,\n",
       "div.sk-label-container:hover .sk-estimator-doc-link:hover,\n",
       ".sk-estimator-doc-link:hover {\n",
       "  /* unfitted */\n",
       "  background-color: var(--sklearn-color-unfitted-level-3);\n",
       "  color: var(--sklearn-color-background);\n",
       "  text-decoration: none;\n",
       "}\n",
       "\n",
       "div.sk-estimator.fitted:hover .sk-estimator-doc-link.fitted:hover,\n",
       ".sk-estimator-doc-link.fitted:hover,\n",
       "div.sk-label-container:hover .sk-estimator-doc-link.fitted:hover,\n",
       ".sk-estimator-doc-link.fitted:hover {\n",
       "  /* fitted */\n",
       "  background-color: var(--sklearn-color-fitted-level-3);\n",
       "  color: var(--sklearn-color-background);\n",
       "  text-decoration: none;\n",
       "}\n",
       "\n",
       "/* Span, style for the box shown on hovering the info icon */\n",
       ".sk-estimator-doc-link span {\n",
       "  display: none;\n",
       "  z-index: 9999;\n",
       "  position: relative;\n",
       "  font-weight: normal;\n",
       "  right: .2ex;\n",
       "  padding: .5ex;\n",
       "  margin: .5ex;\n",
       "  width: min-content;\n",
       "  min-width: 20ex;\n",
       "  max-width: 50ex;\n",
       "  color: var(--sklearn-color-text);\n",
       "  box-shadow: 2pt 2pt 4pt #999;\n",
       "  /* unfitted */\n",
       "  background: var(--sklearn-color-unfitted-level-0);\n",
       "  border: .5pt solid var(--sklearn-color-unfitted-level-3);\n",
       "}\n",
       "\n",
       ".sk-estimator-doc-link.fitted span {\n",
       "  /* fitted */\n",
       "  background: var(--sklearn-color-fitted-level-0);\n",
       "  border: var(--sklearn-color-fitted-level-3);\n",
       "}\n",
       "\n",
       ".sk-estimator-doc-link:hover span {\n",
       "  display: block;\n",
       "}\n",
       "\n",
       "/* \"?\"-specific style due to the `<a>` HTML tag */\n",
       "\n",
       "#sk-container-id-1 a.estimator_doc_link {\n",
       "  float: right;\n",
       "  font-size: 1rem;\n",
       "  line-height: 1em;\n",
       "  font-family: monospace;\n",
       "  background-color: var(--sklearn-color-background);\n",
       "  border-radius: 1rem;\n",
       "  height: 1rem;\n",
       "  width: 1rem;\n",
       "  text-decoration: none;\n",
       "  /* unfitted */\n",
       "  color: var(--sklearn-color-unfitted-level-1);\n",
       "  border: var(--sklearn-color-unfitted-level-1) 1pt solid;\n",
       "}\n",
       "\n",
       "#sk-container-id-1 a.estimator_doc_link.fitted {\n",
       "  /* fitted */\n",
       "  border: var(--sklearn-color-fitted-level-1) 1pt solid;\n",
       "  color: var(--sklearn-color-fitted-level-1);\n",
       "}\n",
       "\n",
       "/* On hover */\n",
       "#sk-container-id-1 a.estimator_doc_link:hover {\n",
       "  /* unfitted */\n",
       "  background-color: var(--sklearn-color-unfitted-level-3);\n",
       "  color: var(--sklearn-color-background);\n",
       "  text-decoration: none;\n",
       "}\n",
       "\n",
       "#sk-container-id-1 a.estimator_doc_link.fitted:hover {\n",
       "  /* fitted */\n",
       "  background-color: var(--sklearn-color-fitted-level-3);\n",
       "}\n",
       "</style><div id=\"sk-container-id-1\" class=\"sk-top-container\"><div class=\"sk-text-repr-fallback\"><pre>LinearRegression()</pre><b>In a Jupyter environment, please rerun this cell to show the HTML representation or trust the notebook. <br />On GitHub, the HTML representation is unable to render, please try loading this page with nbviewer.org.</b></div><div class=\"sk-container\" hidden><div class=\"sk-item\"><div class=\"sk-estimator fitted sk-toggleable\"><input class=\"sk-toggleable__control sk-hidden--visually\" id=\"sk-estimator-id-1\" type=\"checkbox\" checked><label for=\"sk-estimator-id-1\" class=\"sk-toggleable__label fitted sk-toggleable__label-arrow\"><div><div>LinearRegression</div></div><div><a class=\"sk-estimator-doc-link fitted\" rel=\"noreferrer\" target=\"_blank\" href=\"https://scikit-learn.org/1.6/modules/generated/sklearn.linear_model.LinearRegression.html\">?<span>Documentation for LinearRegression</span></a><span class=\"sk-estimator-doc-link fitted\">i<span>Fitted</span></span></div></label><div class=\"sk-toggleable__content fitted\"><pre>LinearRegression()</pre></div> </div></div></div></div>"
      ],
      "text/plain": [
       "LinearRegression()"
      ]
     },
     "execution_count": 7,
     "metadata": {},
     "output_type": "execute_result"
    }
   ],
   "source": [
    "regression_one.fit(X_train, y_train)"
   ]
  },
  {
   "cell_type": "code",
   "execution_count": 9,
   "id": "2edea7ea-ef4b-4159-bdcd-6d3b2d3d54a6",
   "metadata": {},
   "outputs": [
    {
     "name": "stdout",
     "output_type": "stream",
     "text": [
      "0.6585160885612811\n"
     ]
    }
   ],
   "source": [
    "from sklearn.metrics import r2_score\n",
    "\n",
    "score = r2_score(y_test, regression_one.predict(X_test))\n",
    "print(score)\n",
    "\n",
    "# Less accuracy"
   ]
  },
  {
   "cell_type": "markdown",
   "id": "2edfd1c1-c8e8-4c7b-ac68-3596c65f76c8",
   "metadata": {},
   "source": [
    "### Lets visualize"
   ]
  },
  {
   "cell_type": "code",
   "execution_count": 11,
   "id": "ca26b17c-8f0c-46e3-b7e9-a0292e69ff92",
   "metadata": {},
   "outputs": [
    {
     "data": {
      "text/plain": [
       "Text(0, 0.5, 'Y')"
      ]
     },
     "execution_count": 11,
     "metadata": {},
     "output_type": "execute_result"
    },
    {
     "data": {
      "image/png": "[encoded data removed]",
      "text/plain": [
       "<Figure size 640x480 with 1 Axes>"
      ]
     },
     "metadata": {},
     "output_type": "display_data"
    }
   ],
   "source": [
    "plt.plot(X_train, regression_one.predict(X_train), color='r')\n",
    "plt.scatter(X_train, y_train)\n",
    "plt.xlabel(\"X Dataset\")\n",
    "plt.ylabel(\"Y\")"
   ]
  },
  {
   "cell_type": "markdown",
   "id": "d89f39e0-a261-45e1-809a-945f4532cb3c",
   "metadata": {},
   "source": [
    "### Solving with Polynomial "
   ]
  },
  {
   "cell_type": "markdown",
   "id": "7505ba37-0e79-4802-994f-089413954a3b",
   "metadata": {},
   "source": [
    "<p> Lets apply polynomial transformation</p>"
   ]
  },
  {
   "cell_type": "code",
   "execution_count": 13,
   "id": "535af56b-6a74-4e96-90c9-316bd0b07373",
   "metadata": {},
   "outputs": [],
   "source": [
    "from sklearn.preprocessing import PolynomialFeatures"
   ]
  },
  {
   "cell_type": "markdown",
   "id": "5c439ed3-7668-443f-ae2a-a9b999e6152e",
   "metadata": {},
   "source": [
    "<p>check the h thetha eqn in notes</p>\n",
    "<p>degree 2 means we are writing degree 2 eqn</p>\n",
    "<p>include bias means we are going to multiply 1 by Beta 0</p>"
   ]
  },
  {
   "cell_type": "code",
   "execution_count": 14,
   "id": "fdd1a8b0-4275-4510-9d68-958e5103d1eb",
   "metadata": {},
   "outputs": [],
   "source": [
    "poly = PolynomialFeatures(degree=2, include_bias=True)\n",
    "\n",
    "X_train_poly = poly.fit_transform(X_train)\n",
    "X_test_poly = poly.transform(X_test)"
   ]
  },
  {
   "cell_type": "code",
   "execution_count": 16,
   "id": "7d0b6177-0256-4ecd-bbb2-e25a439187dd",
   "metadata": {},
   "outputs": [
    {
     "data": {
      "text/plain": [
       "array([[ 1.00000000e+00, -2.72989560e+00,  7.45232999e+00],\n",
       "       [ 1.00000000e+00, -2.81969643e+00,  7.95068796e+00],\n",
       "       [ 1.00000000e+00,  1.17651088e+00,  1.38417785e+00],\n",
       "       [ 1.00000000e+00, -4.81523012e-01,  2.31864411e-01],\n",
       "       [ 1.00000000e+00, -2.80007121e+00,  7.84039876e+00],\n",
       "       [ 1.00000000e+00,  8.41537457e-01,  7.08185291e-01],\n",
       "       [ 1.00000000e+00,  1.79634284e+00,  3.22684759e+00],\n",
       "       [ 1.00000000e+00, -2.90709604e+00,  8.45120741e+00],\n",
       "       [ 1.00000000e+00, -2.41886407e+00,  5.85090338e+00],\n",
       "       [ 1.00000000e+00, -2.97089082e+00,  8.82619229e+00],\n",
       "       [ 1.00000000e+00,  1.90429414e+00,  3.62633618e+00],\n",
       "       [ 1.00000000e+00, -1.27055701e+00,  1.61431510e+00],\n",
       "       [ 1.00000000e+00,  1.75385316e-01,  3.07600091e-02],\n",
       "       [ 1.00000000e+00, -3.62581466e-01,  1.31465320e-01],\n",
       "       [ 1.00000000e+00,  1.95055324e+00,  3.80465794e+00],\n",
       "       [ 1.00000000e+00,  2.15787750e+00,  4.65643530e+00],\n",
       "       [ 1.00000000e+00,  2.13222614e+00,  4.54638833e+00],\n",
       "       [ 1.00000000e+00, -1.05287550e+00,  1.10854682e+00],\n",
       "       [ 1.00000000e+00, -2.88804529e+00,  8.34080557e+00],\n",
       "       [ 1.00000000e+00,  2.36697951e+00,  5.60259202e+00],\n",
       "       [ 1.00000000e+00,  1.57763356e+00,  2.48892764e+00],\n",
       "       [ 1.00000000e+00, -9.93156900e-01,  9.86360627e-01],\n",
       "       [ 1.00000000e+00, -1.26118111e+00,  1.59057779e+00],\n",
       "       [ 1.00000000e+00, -3.66256131e-01,  1.34143553e-01],\n",
       "       [ 1.00000000e+00,  1.36961246e+00,  1.87583828e+00],\n",
       "       [ 1.00000000e+00,  1.97953742e+00,  3.91856839e+00],\n",
       "       [ 1.00000000e+00, -1.39520521e+00,  1.94659759e+00],\n",
       "       [ 1.00000000e+00, -8.90079943e-01,  7.92242306e-01],\n",
       "       [ 1.00000000e+00, -1.33919067e+00,  1.79343166e+00],\n",
       "       [ 1.00000000e+00, -2.01551721e+00,  4.06230963e+00],\n",
       "       [ 1.00000000e+00,  2.98729255e+00,  8.92391676e+00],\n",
       "       [ 1.00000000e+00, -1.32506258e-01,  1.75579085e-02],\n",
       "       [ 1.00000000e+00,  2.11575993e+00,  4.47644006e+00],\n",
       "       [ 1.00000000e+00, -2.46216982e+00,  6.06228021e+00],\n",
       "       [ 1.00000000e+00, -1.76122742e+00,  3.10192203e+00],\n",
       "       [ 1.00000000e+00,  9.16344633e-01,  8.39687486e-01],\n",
       "       [ 1.00000000e+00,  3.04070017e-01,  9.24585755e-02],\n",
       "       [ 1.00000000e+00, -2.93987974e+00,  8.64289287e+00],\n",
       "       [ 1.00000000e+00, -1.87682035e+00,  3.52245462e+00],\n",
       "       [ 1.00000000e+00, -2.65190123e+00,  7.03258014e+00],\n",
       "       [ 1.00000000e+00, -2.32859904e+00,  5.42237351e+00],\n",
       "       [ 1.00000000e+00,  2.22633469e+00,  4.95656617e+00],\n",
       "       [ 1.00000000e+00,  1.81234962e+00,  3.28461115e+00],\n",
       "       [ 1.00000000e+00,  2.10523824e+00,  4.43202804e+00],\n",
       "       [ 1.00000000e+00,  8.32023748e-01,  6.92263518e-01],\n",
       "       [ 1.00000000e+00,  3.10849482e-02,  9.66274002e-04],\n",
       "       [ 1.00000000e+00, -2.68953111e+00,  7.23357759e+00],\n",
       "       [ 1.00000000e+00,  2.29754930e+00,  5.27873281e+00],\n",
       "       [ 1.00000000e+00, -1.09211312e+00,  1.19271108e+00],\n",
       "       [ 1.00000000e+00,  1.98304557e+00,  3.93246973e+00],\n",
       "       [ 1.00000000e+00, -3.45322159e-01,  1.19247393e-01],\n",
       "       [ 1.00000000e+00,  2.13514258e+00,  4.55883383e+00],\n",
       "       [ 1.00000000e+00, -7.20631026e-01,  5.19309076e-01],\n",
       "       [ 1.00000000e+00, -9.31960130e-01,  8.68549683e-01],\n",
       "       [ 1.00000000e+00, -1.95073829e+00,  3.80537987e+00],\n",
       "       [ 1.00000000e+00,  9.04719388e-01,  8.18517171e-01],\n",
       "       [ 1.00000000e+00,  4.22985518e-01,  1.78916748e-01],\n",
       "       [ 1.00000000e+00, -1.67041019e+00,  2.79027022e+00],\n",
       "       [ 1.00000000e+00, -5.61766860e-01,  3.15582005e-01],\n",
       "       [ 1.00000000e+00,  1.79055434e+00,  3.20608486e+00],\n",
       "       [ 1.00000000e+00,  1.95883916e+00,  3.83705086e+00],\n",
       "       [ 1.00000000e+00,  7.63760731e-01,  5.83330455e-01],\n",
       "       [ 1.00000000e+00, -2.22658850e+00,  4.95769634e+00],\n",
       "       [ 1.00000000e+00,  1.48249030e+00,  2.19777750e+00],\n",
       "       [ 1.00000000e+00, -1.06046489e+00,  1.12458577e+00],\n",
       "       [ 1.00000000e+00, -4.98260006e-01,  2.48263033e-01],\n",
       "       [ 1.00000000e+00,  2.49231678e+00,  6.21164295e+00],\n",
       "       [ 1.00000000e+00, -2.82728017e+00,  7.99351317e+00],\n",
       "       [ 1.00000000e+00, -2.55864453e+00,  6.54666181e+00],\n",
       "       [ 1.00000000e+00,  1.67462217e+00,  2.80435941e+00],\n",
       "       [ 1.00000000e+00,  8.17845088e-01,  6.68870588e-01],\n",
       "       [ 1.00000000e+00,  1.70704493e-01,  2.91400240e-02],\n",
       "       [ 1.00000000e+00, -2.52322928e+00,  6.36668599e+00],\n",
       "       [ 1.00000000e+00,  2.33087498e+00,  5.43297817e+00],\n",
       "       [ 1.00000000e+00,  2.56700731e+00,  6.58952655e+00],\n",
       "       [ 1.00000000e+00, -2.13656560e+00,  4.56491255e+00],\n",
       "       [ 1.00000000e+00,  2.93605372e+00,  8.62041147e+00],\n",
       "       [ 1.00000000e+00,  4.77674340e-02,  2.28172775e-03],\n",
       "       [ 1.00000000e+00, -1.87795805e+00,  3.52672642e+00],\n",
       "       [ 1.00000000e+00,  3.28062346e-01,  1.07624903e-01]])"
      ]
     },
     "execution_count": 16,
     "metadata": {},
     "output_type": "execute_result"
    }
   ],
   "source": [
    "X_train_poly"
   ]
  },
  {
   "cell_type": "markdown",
   "id": "bedc3469-2c82-4ebf-ad83-3c53ed6e4c81",
   "metadata": {},
   "source": [
    "<p>verifying with the first line above</p>\n",
    "<p>1.00000000e+00, -2.72989560e+00,  7.45232999</p>\n",
    "<p>This became 1   This became x1   This became x1^2</p>"
   ]
  },
  {
   "cell_type": "code",
   "execution_count": 17,
   "id": "6ce4d15d-2022-45f9-9aef-a4aca3a97612",
   "metadata": {},
   "outputs": [
    {
     "data": {
      "text/plain": [
       "array([[ 1.00000000e+00, -2.36188542e+00,  5.57850274e+00],\n",
       "       [ 1.00000000e+00,  4.66525140e-01,  2.17645707e-01],\n",
       "       [ 1.00000000e+00,  2.53408330e+00,  6.42157816e+00],\n",
       "       [ 1.00000000e+00, -1.85577259e+00,  3.44389191e+00],\n",
       "       [ 1.00000000e+00,  1.22754347e+00,  1.50686297e+00],\n",
       "       [ 1.00000000e+00, -2.02670321e+00,  4.10752592e+00],\n",
       "       [ 1.00000000e+00,  8.35971569e-01,  6.98848465e-01],\n",
       "       [ 1.00000000e+00,  2.49809555e+00,  6.24048139e+00],\n",
       "       [ 1.00000000e+00,  2.57187412e+00,  6.61453649e+00],\n",
       "       [ 1.00000000e+00, -1.81692944e+00,  3.30123260e+00],\n",
       "       [ 1.00000000e+00,  2.65471369e+00,  7.04750479e+00],\n",
       "       [ 1.00000000e+00, -2.07543052e+00,  4.30741186e+00],\n",
       "       [ 1.00000000e+00, -5.09715451e-01,  2.59809841e-01],\n",
       "       [ 1.00000000e+00, -1.76247960e+00,  3.10633435e+00],\n",
       "       [ 1.00000000e+00, -2.93148221e+00,  8.59358794e+00],\n",
       "       [ 1.00000000e+00,  3.50022939e-02,  1.22516058e-03],\n",
       "       [ 1.00000000e+00,  6.99782876e-01,  4.89696074e-01],\n",
       "       [ 1.00000000e+00, -2.94420621e+00,  8.66835023e+00],\n",
       "       [ 1.00000000e+00,  2.89128703e+00,  8.35954068e+00],\n",
       "       [ 1.00000000e+00,  2.47858856e+00,  6.14340127e+00]])"
      ]
     },
     "execution_count": 17,
     "metadata": {},
     "output_type": "execute_result"
    }
   ],
   "source": [
    "X_test_poly"
   ]
  },
  {
   "cell_type": "code",
   "execution_count": 19,
   "id": "2f182f96-c401-4dde-ab88-848d0f06faa7",
   "metadata": {},
   "outputs": [
    {
     "name": "stdout",
     "output_type": "stream",
     "text": [
      "0.891441401362015\n"
     ]
    }
   ],
   "source": [
    "from sklearn.metrics import r2_score\n",
    "\n",
    "regression = LinearRegression()\n",
    "regression.fit(X_train_poly, y_train)\n",
    "y_pred = regression.predict(X_test_poly)\n",
    "score = r2_score(y_test, y_pred)\n",
    "print(score)"
   ]
  },
  {
   "cell_type": "code",
   "execution_count": 20,
   "id": "468f953f-6543-4aa3-bc79-84a104730fb5",
   "metadata": {},
   "outputs": [
    {
     "data": {
      "text/plain": [
       "array([[0.        , 1.50810361, 0.50250596]])"
      ]
     },
     "execution_count": 20,
     "metadata": {},
     "output_type": "execute_result"
    }
   ],
   "source": [
    "regression.coef_\n",
    "# 3 values because we have 3 features those 3 points"
   ]
  },
  {
   "cell_type": "code",
   "execution_count": 21,
   "id": "e2954015-b369-4381-a927-1da77d9f4e53",
   "metadata": {},
   "outputs": [
    {
     "data": {
      "text/plain": [
       "array([1.81736567])"
      ]
     },
     "execution_count": 21,
     "metadata": {},
     "output_type": "execute_result"
    }
   ],
   "source": [
    "regression.intercept_"
   ]
  },
  {
   "cell_type": "code",
   "execution_count": 27,
   "id": "6f2a3488-5e57-4b7a-8364-62c083998501",
   "metadata": {},
   "outputs": [
    {
     "data": {
      "text/plain": [
       "<matplotlib.collections.PathCollection at 0x1d295ffb6e0>"
      ]
     },
     "execution_count": 27,
     "metadata": {},
     "output_type": "execute_result"
    },
    {
     "data": {
      "image/png": "[encoded data removed]",
      "text/plain": [
       "<Figure size 640x480 with 1 Axes>"
      ]
     },
     "metadata": {},
     "output_type": "display_data"
    }
   ],
   "source": [
    "plt.scatter(X_train, regression.predict(X_train_poly))\n",
    "plt.scatter(X_train, y_train)"
   ]
  },
  {
   "cell_type": "markdown",
   "id": "7355bb0a-0f87-405e-a62b-2154df5e1fa1",
   "metadata": {},
   "source": [
    "### Trying with degree 3"
   ]
  },
  {
   "cell_type": "code",
   "execution_count": 29,
   "id": "02b56ee1-31ed-4152-9ec9-833dc7ae9543",
   "metadata": {},
   "outputs": [
    {
     "name": "stdout",
     "output_type": "stream",
     "text": [
      "0.8866833219701025\n"
     ]
    }
   ],
   "source": [
    "poly = PolynomialFeatures(degree=3, include_bias=True)\n",
    "\n",
    "X_train_poly = poly.fit_transform(X_train)\n",
    "X_test_poly = poly.transform(X_test)\n",
    "\n",
    "\n",
    "regression = LinearRegression()\n",
    "regression.fit(X_train_poly, y_train)\n",
    "y_pred = regression.predict(X_test_poly)\n",
    "score = r2_score(y_test, y_pred)\n",
    "\n",
    "print(score) # accuracy down"
   ]
  },
  {
   "cell_type": "markdown",
   "id": "e400c327-233d-4c59-a65b-87782e5c364c",
   "metadata": {},
   "source": [
    "### Prediction of New Data"
   ]
  },
  {
   "cell_type": "code",
   "execution_count": 30,
   "id": "f48231bf-f05d-4b56-9de6-76f9a1a47c22",
   "metadata": {},
   "outputs": [
    {
     "data": {
      "text/plain": [
       "array([[ 1.00000000e+00, -3.00000000e+00,  9.00000000e+00,\n",
       "        -2.70000000e+01],\n",
       "       [ 1.00000000e+00, -2.96984925e+00,  8.82000455e+00,\n",
       "        -2.61940839e+01],\n",
       "       [ 1.00000000e+00, -2.93969849e+00,  8.64182723e+00,\n",
       "        -2.54043665e+01],\n",
       "       [ 1.00000000e+00, -2.90954774e+00,  8.46546804e+00,\n",
       "        -2.46306834e+01],\n",
       "       [ 1.00000000e+00, -2.87939698e+00,  8.29092700e+00,\n",
       "        -2.38728702e+01],\n",
       "       [ 1.00000000e+00, -2.84924623e+00,  8.11820409e+00,\n",
       "        -2.31307624e+01],\n",
       "       [ 1.00000000e+00, -2.81909548e+00,  7.94729931e+00,\n",
       "        -2.24041955e+01],\n",
       "       [ 1.00000000e+00, -2.78894472e+00,  7.77821267e+00,\n",
       "        -2.16930052e+01],\n",
       "       [ 1.00000000e+00, -2.75879397e+00,  7.61094417e+00,\n",
       "        -2.09970269e+01],\n",
       "       [ 1.00000000e+00, -2.72864322e+00,  7.44549380e+00,\n",
       "        -2.03160961e+01],\n",
       "       [ 1.00000000e+00, -2.69849246e+00,  7.28186157e+00,\n",
       "        -1.96500486e+01],\n",
       "       [ 1.00000000e+00, -2.66834171e+00,  7.12004747e+00,\n",
       "        -1.89987196e+01],\n",
       "       [ 1.00000000e+00, -2.63819095e+00,  6.96005151e+00,\n",
       "        -1.83619449e+01],\n",
       "       [ 1.00000000e+00, -2.60804020e+00,  6.80187369e+00,\n",
       "        -1.77395600e+01],\n",
       "       [ 1.00000000e+00, -2.57788945e+00,  6.64551400e+00,\n",
       "        -1.71314004e+01],\n",
       "       [ 1.00000000e+00, -2.54773869e+00,  6.49097245e+00,\n",
       "        -1.65373017e+01],\n",
       "       [ 1.00000000e+00, -2.51758794e+00,  6.33824903e+00,\n",
       "        -1.59570993e+01],\n",
       "       [ 1.00000000e+00, -2.48743719e+00,  6.18734375e+00,\n",
       "        -1.53906289e+01],\n",
       "       [ 1.00000000e+00, -2.45728643e+00,  6.03825661e+00,\n",
       "        -1.48377260e+01],\n",
       "       [ 1.00000000e+00, -2.42713568e+00,  5.89098760e+00,\n",
       "        -1.42982262e+01],\n",
       "       [ 1.00000000e+00, -2.39698492e+00,  5.74553673e+00,\n",
       "        -1.37719649e+01],\n",
       "       [ 1.00000000e+00, -2.36683417e+00,  5.60190399e+00,\n",
       "        -1.32587778e+01],\n",
       "       [ 1.00000000e+00, -2.33668342e+00,  5.46008939e+00,\n",
       "        -1.27585003e+01],\n",
       "       [ 1.00000000e+00, -2.30653266e+00,  5.32009293e+00,\n",
       "        -1.22709681e+01],\n",
       "       [ 1.00000000e+00, -2.27638191e+00,  5.18191460e+00,\n",
       "        -1.17960166e+01],\n",
       "       [ 1.00000000e+00, -2.24623116e+00,  5.04555441e+00,\n",
       "        -1.13334815e+01],\n",
       "       [ 1.00000000e+00, -2.21608040e+00,  4.91101235e+00,\n",
       "        -1.08831982e+01],\n",
       "       [ 1.00000000e+00, -2.18592965e+00,  4.77828843e+00,\n",
       "        -1.04450023e+01],\n",
       "       [ 1.00000000e+00, -2.15577889e+00,  4.64738264e+00,\n",
       "        -1.00187294e+01],\n",
       "       [ 1.00000000e+00, -2.12562814e+00,  4.51829499e+00,\n",
       "        -9.60421498e+00],\n",
       "       [ 1.00000000e+00, -2.09547739e+00,  4.39102548e+00,\n",
       "        -9.20129460e+00],\n",
       "       [ 1.00000000e+00, -2.06532663e+00,  4.26557410e+00,\n",
       "        -8.80980380e+00],\n",
       "       [ 1.00000000e+00, -2.03517588e+00,  4.14194086e+00,\n",
       "        -8.42957813e+00],\n",
       "       [ 1.00000000e+00, -2.00502513e+00,  4.02012575e+00,\n",
       "        -8.06045315e+00],\n",
       "       [ 1.00000000e+00, -1.97487437e+00,  3.90012878e+00,\n",
       "        -7.70226438e+00],\n",
       "       [ 1.00000000e+00, -1.94472362e+00,  3.78194995e+00,\n",
       "        -7.35484739e+00],\n",
       "       [ 1.00000000e+00, -1.91457286e+00,  3.66558925e+00,\n",
       "        -7.01803772e+00],\n",
       "       [ 1.00000000e+00, -1.88442211e+00,  3.55104669e+00,\n",
       "        -6.69167090e+00],\n",
       "       [ 1.00000000e+00, -1.85427136e+00,  3.43832226e+00,\n",
       "        -6.37558249e+00],\n",
       "       [ 1.00000000e+00, -1.82412060e+00,  3.32741597e+00,\n",
       "        -6.06960803e+00],\n",
       "       [ 1.00000000e+00, -1.79396985e+00,  3.21832782e+00,\n",
       "        -5.77358307e+00],\n",
       "       [ 1.00000000e+00, -1.76381910e+00,  3.11105780e+00,\n",
       "        -5.48734316e+00],\n",
       "       [ 1.00000000e+00, -1.73366834e+00,  3.00560592e+00,\n",
       "        -5.21072383e+00],\n",
       "       [ 1.00000000e+00, -1.70351759e+00,  2.90197217e+00,\n",
       "        -4.94356064e+00],\n",
       "       [ 1.00000000e+00, -1.67336683e+00,  2.80015656e+00,\n",
       "        -4.68568912e+00],\n",
       "       [ 1.00000000e+00, -1.64321608e+00,  2.70015909e+00,\n",
       "        -4.43694483e+00],\n",
       "       [ 1.00000000e+00, -1.61306533e+00,  2.60197975e+00,\n",
       "        -4.19716331e+00],\n",
       "       [ 1.00000000e+00, -1.58291457e+00,  2.50561854e+00,\n",
       "        -3.96618011e+00],\n",
       "       [ 1.00000000e+00, -1.55276382e+00,  2.41107548e+00,\n",
       "        -3.74383077e+00],\n",
       "       [ 1.00000000e+00, -1.52261307e+00,  2.31835055e+00,\n",
       "        -3.52995083e+00],\n",
       "       [ 1.00000000e+00, -1.49246231e+00,  2.22744375e+00,\n",
       "        -3.32437585e+00],\n",
       "       [ 1.00000000e+00, -1.46231156e+00,  2.13835509e+00,\n",
       "        -3.12694137e+00],\n",
       "       [ 1.00000000e+00, -1.43216080e+00,  2.05108457e+00,\n",
       "        -2.93748292e+00],\n",
       "       [ 1.00000000e+00, -1.40201005e+00,  1.96563218e+00,\n",
       "        -2.75583607e+00],\n",
       "       [ 1.00000000e+00, -1.37185930e+00,  1.88199793e+00,\n",
       "        -2.58183636e+00],\n",
       "       [ 1.00000000e+00, -1.34170854e+00,  1.80018181e+00,\n",
       "        -2.41531932e+00],\n",
       "       [ 1.00000000e+00, -1.31155779e+00,  1.72018383e+00,\n",
       "        -2.25612051e+00],\n",
       "       [ 1.00000000e+00, -1.28140704e+00,  1.64200399e+00,\n",
       "        -2.10407546e+00],\n",
       "       [ 1.00000000e+00, -1.25125628e+00,  1.56564228e+00,\n",
       "        -1.95901974e+00],\n",
       "       [ 1.00000000e+00, -1.22110553e+00,  1.49109871e+00,\n",
       "        -1.82078888e+00],\n",
       "       [ 1.00000000e+00, -1.19095477e+00,  1.41837327e+00,\n",
       "        -1.68921842e+00],\n",
       "       [ 1.00000000e+00, -1.16080402e+00,  1.34746597e+00,\n",
       "        -1.56414392e+00],\n",
       "       [ 1.00000000e+00, -1.13065327e+00,  1.27837681e+00,\n",
       "        -1.44540091e+00],\n",
       "       [ 1.00000000e+00, -1.10050251e+00,  1.21110578e+00,\n",
       "        -1.33282495e+00],\n",
       "       [ 1.00000000e+00, -1.07035176e+00,  1.14565289e+00,\n",
       "        -1.22625158e+00],\n",
       "       [ 1.00000000e+00, -1.04020101e+00,  1.08201813e+00,\n",
       "        -1.12551635e+00],\n",
       "       [ 1.00000000e+00, -1.01005025e+00,  1.02020151e+00,\n",
       "        -1.03045479e+00],\n",
       "       [ 1.00000000e+00, -9.79899497e-01,  9.60203025e-01,\n",
       "        -9.40902462e-01],\n",
       "       [ 1.00000000e+00, -9.49748744e-01,  9.02022676e-01,\n",
       "        -8.56694904e-01],\n",
       "       [ 1.00000000e+00, -9.19597990e-01,  8.45660463e-01,\n",
       "        -7.77667662e-01],\n",
       "       [ 1.00000000e+00, -8.89447236e-01,  7.91116386e-01,\n",
       "        -7.03656283e-01],\n",
       "       [ 1.00000000e+00, -8.59296482e-01,  7.38390445e-01,\n",
       "        -6.34496312e-01],\n",
       "       [ 1.00000000e+00, -8.29145729e-01,  6.87482639e-01,\n",
       "        -5.70023294e-01],\n",
       "       [ 1.00000000e+00, -7.98994975e-01,  6.38392970e-01,\n",
       "        -5.10072775e-01],\n",
       "       [ 1.00000000e+00, -7.68844221e-01,  5.91121436e-01,\n",
       "        -4.54480300e-01],\n",
       "       [ 1.00000000e+00, -7.38693467e-01,  5.45668039e-01,\n",
       "        -4.03081416e-01],\n",
       "       [ 1.00000000e+00, -7.08542714e-01,  5.02032777e-01,\n",
       "        -3.55711666e-01],\n",
       "       [ 1.00000000e+00, -6.78391960e-01,  4.60215651e-01,\n",
       "        -3.12206597e-01],\n",
       "       [ 1.00000000e+00, -6.48241206e-01,  4.20216661e-01,\n",
       "        -2.72401755e-01],\n",
       "       [ 1.00000000e+00, -6.18090452e-01,  3.82035807e-01,\n",
       "        -2.36132685e-01],\n",
       "       [ 1.00000000e+00, -5.87939698e-01,  3.45673089e-01,\n",
       "        -2.03234932e-01],\n",
       "       [ 1.00000000e+00, -5.57788945e-01,  3.11128507e-01,\n",
       "        -1.73544042e-01],\n",
       "       [ 1.00000000e+00, -5.27638191e-01,  2.78402061e-01,\n",
       "        -1.46895560e-01],\n",
       "       [ 1.00000000e+00, -4.97487437e-01,  2.47493750e-01,\n",
       "        -1.23125031e-01],\n",
       "       [ 1.00000000e+00, -4.67336683e-01,  2.18403576e-01,\n",
       "        -1.02068003e-01],\n",
       "       [ 1.00000000e+00, -4.37185930e-01,  1.91131537e-01,\n",
       "        -8.35600187e-02],\n",
       "       [ 1.00000000e+00, -4.07035176e-01,  1.65677634e-01,\n",
       "        -6.74366251e-02],\n",
       "       [ 1.00000000e+00, -3.76884422e-01,  1.42041868e-01,\n",
       "        -5.35333672e-02],\n",
       "       [ 1.00000000e+00, -3.46733668e-01,  1.20224237e-01,\n",
       "        -4.16857906e-02],\n",
       "       [ 1.00000000e+00, -3.16582915e-01,  1.00224742e-01,\n",
       "        -3.17294409e-02],\n",
       "       [ 1.00000000e+00, -2.86432161e-01,  8.20433827e-02,\n",
       "        -2.34998634e-02],\n",
       "       [ 1.00000000e+00, -2.56281407e-01,  6.56801596e-02,\n",
       "        -1.68326037e-02],\n",
       "       [ 1.00000000e+00, -2.26130653e-01,  5.11350723e-02,\n",
       "        -1.15632073e-02],\n",
       "       [ 1.00000000e+00, -1.95979899e-01,  3.84081210e-02,\n",
       "        -7.52721969e-03],\n",
       "       [ 1.00000000e+00, -1.65829146e-01,  2.74993056e-02,\n",
       "        -4.56018635e-03],\n",
       "       [ 1.00000000e+00, -1.35678392e-01,  1.84086260e-02,\n",
       "        -2.49765278e-03],\n",
       "       [ 1.00000000e+00, -1.05527638e-01,  1.11360824e-02,\n",
       "        -1.17516448e-03],\n",
       "       [ 1.00000000e+00, -7.53768844e-02,  5.68167471e-03,\n",
       "        -4.28266938e-04],\n",
       "       [ 1.00000000e+00, -4.52261307e-02,  2.04540289e-03,\n",
       "        -9.25056585e-05],\n",
       "       [ 1.00000000e+00, -1.50753769e-02,  2.27266988e-04,\n",
       "        -3.42613550e-06],\n",
       "       [ 1.00000000e+00,  1.50753769e-02,  2.27266988e-04,\n",
       "         3.42613550e-06],\n",
       "       [ 1.00000000e+00,  4.52261307e-02,  2.04540289e-03,\n",
       "         9.25056585e-05],\n",
       "       [ 1.00000000e+00,  7.53768844e-02,  5.68167471e-03,\n",
       "         4.28266938e-04],\n",
       "       [ 1.00000000e+00,  1.05527638e-01,  1.11360824e-02,\n",
       "         1.17516448e-03],\n",
       "       [ 1.00000000e+00,  1.35678392e-01,  1.84086260e-02,\n",
       "         2.49765278e-03],\n",
       "       [ 1.00000000e+00,  1.65829146e-01,  2.74993056e-02,\n",
       "         4.56018635e-03],\n",
       "       [ 1.00000000e+00,  1.95979899e-01,  3.84081210e-02,\n",
       "         7.52721969e-03],\n",
       "       [ 1.00000000e+00,  2.26130653e-01,  5.11350723e-02,\n",
       "         1.15632073e-02],\n",
       "       [ 1.00000000e+00,  2.56281407e-01,  6.56801596e-02,\n",
       "         1.68326037e-02],\n",
       "       [ 1.00000000e+00,  2.86432161e-01,  8.20433827e-02,\n",
       "         2.34998634e-02],\n",
       "       [ 1.00000000e+00,  3.16582915e-01,  1.00224742e-01,\n",
       "         3.17294409e-02],\n",
       "       [ 1.00000000e+00,  3.46733668e-01,  1.20224237e-01,\n",
       "         4.16857906e-02],\n",
       "       [ 1.00000000e+00,  3.76884422e-01,  1.42041868e-01,\n",
       "         5.35333672e-02],\n",
       "       [ 1.00000000e+00,  4.07035176e-01,  1.65677634e-01,\n",
       "         6.74366251e-02],\n",
       "       [ 1.00000000e+00,  4.37185930e-01,  1.91131537e-01,\n",
       "         8.35600187e-02],\n",
       "       [ 1.00000000e+00,  4.67336683e-01,  2.18403576e-01,\n",
       "         1.02068003e-01],\n",
       "       [ 1.00000000e+00,  4.97487437e-01,  2.47493750e-01,\n",
       "         1.23125031e-01],\n",
       "       [ 1.00000000e+00,  5.27638191e-01,  2.78402061e-01,\n",
       "         1.46895560e-01],\n",
       "       [ 1.00000000e+00,  5.57788945e-01,  3.11128507e-01,\n",
       "         1.73544042e-01],\n",
       "       [ 1.00000000e+00,  5.87939698e-01,  3.45673089e-01,\n",
       "         2.03234932e-01],\n",
       "       [ 1.00000000e+00,  6.18090452e-01,  3.82035807e-01,\n",
       "         2.36132685e-01],\n",
       "       [ 1.00000000e+00,  6.48241206e-01,  4.20216661e-01,\n",
       "         2.72401755e-01],\n",
       "       [ 1.00000000e+00,  6.78391960e-01,  4.60215651e-01,\n",
       "         3.12206597e-01],\n",
       "       [ 1.00000000e+00,  7.08542714e-01,  5.02032777e-01,\n",
       "         3.55711666e-01],\n",
       "       [ 1.00000000e+00,  7.38693467e-01,  5.45668039e-01,\n",
       "         4.03081416e-01],\n",
       "       [ 1.00000000e+00,  7.68844221e-01,  5.91121436e-01,\n",
       "         4.54480300e-01],\n",
       "       [ 1.00000000e+00,  7.98994975e-01,  6.38392970e-01,\n",
       "         5.10072775e-01],\n",
       "       [ 1.00000000e+00,  8.29145729e-01,  6.87482639e-01,\n",
       "         5.70023294e-01],\n",
       "       [ 1.00000000e+00,  8.59296482e-01,  7.38390445e-01,\n",
       "         6.34496312e-01],\n",
       "       [ 1.00000000e+00,  8.89447236e-01,  7.91116386e-01,\n",
       "         7.03656283e-01],\n",
       "       [ 1.00000000e+00,  9.19597990e-01,  8.45660463e-01,\n",
       "         7.77667662e-01],\n",
       "       [ 1.00000000e+00,  9.49748744e-01,  9.02022676e-01,\n",
       "         8.56694904e-01],\n",
       "       [ 1.00000000e+00,  9.79899497e-01,  9.60203025e-01,\n",
       "         9.40902462e-01],\n",
       "       [ 1.00000000e+00,  1.01005025e+00,  1.02020151e+00,\n",
       "         1.03045479e+00],\n",
       "       [ 1.00000000e+00,  1.04020101e+00,  1.08201813e+00,\n",
       "         1.12551635e+00],\n",
       "       [ 1.00000000e+00,  1.07035176e+00,  1.14565289e+00,\n",
       "         1.22625158e+00],\n",
       "       [ 1.00000000e+00,  1.10050251e+00,  1.21110578e+00,\n",
       "         1.33282495e+00],\n",
       "       [ 1.00000000e+00,  1.13065327e+00,  1.27837681e+00,\n",
       "         1.44540091e+00],\n",
       "       [ 1.00000000e+00,  1.16080402e+00,  1.34746597e+00,\n",
       "         1.56414392e+00],\n",
       "       [ 1.00000000e+00,  1.19095477e+00,  1.41837327e+00,\n",
       "         1.68921842e+00],\n",
       "       [ 1.00000000e+00,  1.22110553e+00,  1.49109871e+00,\n",
       "         1.82078888e+00],\n",
       "       [ 1.00000000e+00,  1.25125628e+00,  1.56564228e+00,\n",
       "         1.95901974e+00],\n",
       "       [ 1.00000000e+00,  1.28140704e+00,  1.64200399e+00,\n",
       "         2.10407546e+00],\n",
       "       [ 1.00000000e+00,  1.31155779e+00,  1.72018383e+00,\n",
       "         2.25612051e+00],\n",
       "       [ 1.00000000e+00,  1.34170854e+00,  1.80018181e+00,\n",
       "         2.41531932e+00],\n",
       "       [ 1.00000000e+00,  1.37185930e+00,  1.88199793e+00,\n",
       "         2.58183636e+00],\n",
       "       [ 1.00000000e+00,  1.40201005e+00,  1.96563218e+00,\n",
       "         2.75583607e+00],\n",
       "       [ 1.00000000e+00,  1.43216080e+00,  2.05108457e+00,\n",
       "         2.93748292e+00],\n",
       "       [ 1.00000000e+00,  1.46231156e+00,  2.13835509e+00,\n",
       "         3.12694137e+00],\n",
       "       [ 1.00000000e+00,  1.49246231e+00,  2.22744375e+00,\n",
       "         3.32437585e+00],\n",
       "       [ 1.00000000e+00,  1.52261307e+00,  2.31835055e+00,\n",
       "         3.52995083e+00],\n",
       "       [ 1.00000000e+00,  1.55276382e+00,  2.41107548e+00,\n",
       "         3.74383077e+00],\n",
       "       [ 1.00000000e+00,  1.58291457e+00,  2.50561854e+00,\n",
       "         3.96618011e+00],\n",
       "       [ 1.00000000e+00,  1.61306533e+00,  2.60197975e+00,\n",
       "         4.19716331e+00],\n",
       "       [ 1.00000000e+00,  1.64321608e+00,  2.70015909e+00,\n",
       "         4.43694483e+00],\n",
       "       [ 1.00000000e+00,  1.67336683e+00,  2.80015656e+00,\n",
       "         4.68568912e+00],\n",
       "       [ 1.00000000e+00,  1.70351759e+00,  2.90197217e+00,\n",
       "         4.94356064e+00],\n",
       "       [ 1.00000000e+00,  1.73366834e+00,  3.00560592e+00,\n",
       "         5.21072383e+00],\n",
       "       [ 1.00000000e+00,  1.76381910e+00,  3.11105780e+00,\n",
       "         5.48734316e+00],\n",
       "       [ 1.00000000e+00,  1.79396985e+00,  3.21832782e+00,\n",
       "         5.77358307e+00],\n",
       "       [ 1.00000000e+00,  1.82412060e+00,  3.32741597e+00,\n",
       "         6.06960803e+00],\n",
       "       [ 1.00000000e+00,  1.85427136e+00,  3.43832226e+00,\n",
       "         6.37558249e+00],\n",
       "       [ 1.00000000e+00,  1.88442211e+00,  3.55104669e+00,\n",
       "         6.69167090e+00],\n",
       "       [ 1.00000000e+00,  1.91457286e+00,  3.66558925e+00,\n",
       "         7.01803772e+00],\n",
       "       [ 1.00000000e+00,  1.94472362e+00,  3.78194995e+00,\n",
       "         7.35484739e+00],\n",
       "       [ 1.00000000e+00,  1.97487437e+00,  3.90012878e+00,\n",
       "         7.70226438e+00],\n",
       "       [ 1.00000000e+00,  2.00502513e+00,  4.02012575e+00,\n",
       "         8.06045315e+00],\n",
       "       [ 1.00000000e+00,  2.03517588e+00,  4.14194086e+00,\n",
       "         8.42957813e+00],\n",
       "       [ 1.00000000e+00,  2.06532663e+00,  4.26557410e+00,\n",
       "         8.80980380e+00],\n",
       "       [ 1.00000000e+00,  2.09547739e+00,  4.39102548e+00,\n",
       "         9.20129460e+00],\n",
       "       [ 1.00000000e+00,  2.12562814e+00,  4.51829499e+00,\n",
       "         9.60421498e+00],\n",
       "       [ 1.00000000e+00,  2.15577889e+00,  4.64738264e+00,\n",
       "         1.00187294e+01],\n",
       "       [ 1.00000000e+00,  2.18592965e+00,  4.77828843e+00,\n",
       "         1.04450023e+01],\n",
       "       [ 1.00000000e+00,  2.21608040e+00,  4.91101235e+00,\n",
       "         1.08831982e+01],\n",
       "       [ 1.00000000e+00,  2.24623116e+00,  5.04555441e+00,\n",
       "         1.13334815e+01],\n",
       "       [ 1.00000000e+00,  2.27638191e+00,  5.18191460e+00,\n",
       "         1.17960166e+01],\n",
       "       [ 1.00000000e+00,  2.30653266e+00,  5.32009293e+00,\n",
       "         1.22709681e+01],\n",
       "       [ 1.00000000e+00,  2.33668342e+00,  5.46008939e+00,\n",
       "         1.27585003e+01],\n",
       "       [ 1.00000000e+00,  2.36683417e+00,  5.60190399e+00,\n",
       "         1.32587778e+01],\n",
       "       [ 1.00000000e+00,  2.39698492e+00,  5.74553673e+00,\n",
       "         1.37719649e+01],\n",
       "       [ 1.00000000e+00,  2.42713568e+00,  5.89098760e+00,\n",
       "         1.42982262e+01],\n",
       "       [ 1.00000000e+00,  2.45728643e+00,  6.03825661e+00,\n",
       "         1.48377260e+01],\n",
       "       [ 1.00000000e+00,  2.48743719e+00,  6.18734375e+00,\n",
       "         1.53906289e+01],\n",
       "       [ 1.00000000e+00,  2.51758794e+00,  6.33824903e+00,\n",
       "         1.59570993e+01],\n",
       "       [ 1.00000000e+00,  2.54773869e+00,  6.49097245e+00,\n",
       "         1.65373017e+01],\n",
       "       [ 1.00000000e+00,  2.57788945e+00,  6.64551400e+00,\n",
       "         1.71314004e+01],\n",
       "       [ 1.00000000e+00,  2.60804020e+00,  6.80187369e+00,\n",
       "         1.77395600e+01],\n",
       "       [ 1.00000000e+00,  2.63819095e+00,  6.96005151e+00,\n",
       "         1.83619449e+01],\n",
       "       [ 1.00000000e+00,  2.66834171e+00,  7.12004747e+00,\n",
       "         1.89987196e+01],\n",
       "       [ 1.00000000e+00,  2.69849246e+00,  7.28186157e+00,\n",
       "         1.96500486e+01],\n",
       "       [ 1.00000000e+00,  2.72864322e+00,  7.44549380e+00,\n",
       "         2.03160961e+01],\n",
       "       [ 1.00000000e+00,  2.75879397e+00,  7.61094417e+00,\n",
       "         2.09970269e+01],\n",
       "       [ 1.00000000e+00,  2.78894472e+00,  7.77821267e+00,\n",
       "         2.16930052e+01],\n",
       "       [ 1.00000000e+00,  2.81909548e+00,  7.94729931e+00,\n",
       "         2.24041955e+01],\n",
       "       [ 1.00000000e+00,  2.84924623e+00,  8.11820409e+00,\n",
       "         2.31307624e+01],\n",
       "       [ 1.00000000e+00,  2.87939698e+00,  8.29092700e+00,\n",
       "         2.38728702e+01],\n",
       "       [ 1.00000000e+00,  2.90954774e+00,  8.46546804e+00,\n",
       "         2.46306834e+01],\n",
       "       [ 1.00000000e+00,  2.93969849e+00,  8.64182723e+00,\n",
       "         2.54043665e+01],\n",
       "       [ 1.00000000e+00,  2.96984925e+00,  8.82000455e+00,\n",
       "         2.61940839e+01],\n",
       "       [ 1.00000000e+00,  3.00000000e+00,  9.00000000e+00,\n",
       "         2.70000000e+01]])"
      ]
     },
     "execution_count": 30,
     "metadata": {},
     "output_type": "execute_result"
    }
   ],
   "source": [
    "X_new = np.linspace(-3, 3, 200).reshape(200, 1)\n",
    "X_new_poly = poly.transform(X_new)\n",
    "X_new_poly"
   ]
  },
  {
   "cell_type": "code",
   "execution_count": 35,
   "id": "73c24a11-2ea8-4f9e-8558-b81a2ab07b2a",
   "metadata": {},
   "outputs": [
    {
     "data": {
      "image/png": "[encoded data removed]",
      "text/plain": [
       "<Figure size 640x480 with 1 Axes>"
      ]
     },
     "metadata": {},
     "output_type": "display_data"
    }
   ],
   "source": [
    "y_new = regression.predict(X_new_poly)\n",
    "plt.plot(X_new, y_new, \"r-\", linewidth=2, label=\"New Predictions\")\n",
    "plt.plot(X_train, y_train, \"b.\", linewidth=2, label=\"Training Points\")\n",
    "plt.plot(X_test, y_test, \"g.\", label = \"Testing Points\")\n",
    "plt.xlabel(\"X\")\n",
    "plt.ylabel(\"y\")\n",
    "plt.legend()\n",
    "plt.show()"
   ]
  },
  {
   "cell_type": "markdown",
   "id": "fe2208af-9adb-4716-8eaa-31f6f735913a",
   "metadata": {},
   "source": [
    "### Pipeline Concepts"
   ]
  },
  {
   "cell_type": "code",
   "execution_count": 36,
   "id": "a5be3980-93da-4316-be61-4ecbc618e2e8",
   "metadata": {},
   "outputs": [],
   "source": [
    "from sklearn.pipeline import Pipeline"
   ]
  },
  {
   "cell_type": "code",
   "execution_count": 37,
   "id": "d980394d-c39b-4c7b-aeb1-ddd3291a4650",
   "metadata": {},
   "outputs": [],
   "source": [
    "def poly_regression(degree):\n",
    "    X_new = np.linspace(-3, 3, 200).reshape(200, 1)\n",
    "\n",
    "    poly_features = PolynomialFeatures(degree=degree, include_bias=True)\n",
    "    lin_reg = LinearRegression()\n",
    "    poly_regression = Pipeline([\n",
    "        (\"poly_features\", poly_features),\n",
    "        (\"lin_reg\", lin_reg)\n",
    "    ])\n",
    "    poly_regression.fit(X_train, y_train) # first creating polynomial and then fit of linear regression\n",
    "    y_pred_new = poly_regression.predict(X_new)\n",
    "\n",
    "    #plotting prediction line\n",
    "    plt.plot(X_new, y_pred_new, 'r', label=\"Degree \" + str(degree))\n",
    "    plt.plot(X_train, y_train, 'b.', linewidth=3)\n",
    "    plt.plot(X_test, y_test, 'g.', linewidth=3)\n",
    "    plt.legend(loc=\"upper left\")\n",
    "    plt.xlabel(\"X\")\n",
    "    plt.ylabel(\"y\")\n",
    "    plt.axis([-4,4,0,10])"
   ]
  },
  {
   "cell_type": "code",
   "execution_count": 39,
   "id": "3eb77c87-6232-4b85-8c8e-0fbc3860fd98",
   "metadata": {},
   "outputs": [
    {
     "data": {
      "image/png": "[encoded data removed]",
      "text/plain": [
       "<Figure size 640x480 with 1 Axes>"
      ]
     },
     "metadata": {},
     "output_type": "display_data"
    }
   ],
   "source": [
    "poly_regression(1)"
   ]
  },
  {
   "cell_type": "code",
   "execution_count": 40,
   "id": "4bc1ee4f-7e3d-4312-86e4-9162e86e8473",
   "metadata": {},
   "outputs": [
    {
     "data": {
      "image/png": "[encoded data removed]",
      "text/plain": [
       "<Figure size 640x480 with 1 Axes>"
      ]
     },
     "metadata": {},
     "output_type": "display_data"
    }
   ],
   "source": [
    "poly_regression(2)"
   ]
  },
  {
   "cell_type": "code",
   "execution_count": 41,
   "id": "2ce9a8cc-83cf-4859-aaa6-e639159388b9",
   "metadata": {},
   "outputs": [
    {
     "data": {
      "image/png": "[encoded data removed]",
      "text/plain": [
       "<Figure size 640x480 with 1 Axes>"
      ]
     },
     "metadata": {},
     "output_type": "display_data"
    }
   ],
   "source": [
    "poly_regression(3)"
   ]
  },
  {
   "cell_type": "code",
   "execution_count": 42,
   "id": "aa3eebb0-8250-496e-b9ce-b6e37ea07a57",
   "metadata": {},
   "outputs": [
    {
     "data": {
      "image/png": "[encoded data removed]",
      "text/plain": [
       "<Figure size 640x480 with 1 Axes>"
      ]
     },
     "metadata": {},
     "output_type": "display_data"
    }
   ],
   "source": [
    "poly_regression(4)"
   ]
  },
  {
   "cell_type": "code",
   "execution_count": 43,
   "id": "1349dee9-8fe4-46e7-a01e-bad311ac16cb",
   "metadata": {},
   "outputs": [
    {
     "data": {
      "image/png": "[encoded data removed]",
      "text/plain": [
       "<Figure size 640x480 with 1 Axes>"
      ]
     },
     "metadata": {},
     "output_type": "display_data"
    }
   ],
   "source": [
    "poly_regression(10) # trying to overfit all points\n",
    "# green are test data points \n",
    "# blue are training"
   ]
  },
  {
   "cell_type": "code",
   "execution_count": 47,
   "id": "f5f5c89b-7a1d-4291-ad0f-f19168e207ed",
   "metadata": {},
   "outputs": [
    {
     "data": {
      "image/png": "[encoded data removed]",
      "text/plain": [
       "<Figure size 640x480 with 1 Axes>"
      ]
     },
     "metadata": {},
     "output_type": "display_data"
    }
   ],
   "source": [
    "poly_regression(6)"
   ]
  }
 ],
 "metadata": {
  "kernelspec": {
   "display_name": "Machine Learning",
   "language": "python",
   "name": "ml"
  },
  "language_info": {
   "codemirror_mode": {
    "name": "ipython",
    "version": 3
   },
   "file_extension": ".py",
   "mimetype": "text/x-python",
   "name": "python",
   "nbconvert_exporter": "python",
   "pygments_lexer": "ipython3",
   "version": "3.12.6"
  }
 },
 "nbformat": 4,
 "nbformat_minor": 5
}
