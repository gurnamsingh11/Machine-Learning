{
 "cells": [
  {
   "cell_type": "markdown",
   "id": "c60b7247-8f56-4cc9-aba3-0abbcc582d26",
   "metadata": {},
   "source": [
    "## Multi threading"
   ]
  },
  {
   "cell_type": "markdown",
   "id": "32d5deb8-4ff5-4a6e-bd1d-03d09d9fffa0",
   "metadata": {},
   "source": [
    "### When to use\n",
    "- I/O Bound Tasks: tasks that spend more time for IO operations (e.g. file operations)\n",
    "- Concurrent Execution: improve throughput of the application by performing multiple operations concurrently."
   ]
  },
  {
   "cell_type": "code",
   "execution_count": 10,
   "id": "098bc8d7-d8df-4d4b-8942-080539e4745d",
   "metadata": {},
   "outputs": [],
   "source": [
    "import threading\n",
    "import time"
   ]
  },
  {
   "cell_type": "code",
   "execution_count": 34,
   "id": "41d907a5-caeb-4d6d-8550-be19fdbee678",
   "metadata": {},
   "outputs": [],
   "source": [
    "def print_numbers():\n",
    "    for i in range(5):\n",
    "        time.sleep(2)\n",
    "        print(f\"Number: {i}\")\n",
    "\n",
    "def print_letter():\n",
    "    for letter in \"abcde\":\n",
    "        time.sleep(2)\n",
    "        print(f\"Letter: {letter}\")"
   ]
  },
  {
   "cell_type": "code",
   "execution_count": 35,
   "id": "99f112f6-ccb6-408f-9bbf-7f0921ac828d",
   "metadata": {},
   "outputs": [
    {
     "name": "stdout",
     "output_type": "stream",
     "text": [
      "Number: 0\n",
      "Number: 1\n",
      "Number: 2\n",
      "Number: 3\n",
      "Number: 4\n",
      "Letter: a\n",
      "Letter: b\n",
      "Letter: c\n",
      "Letter: d\n",
      "Letter: e\n",
      "20.01304054260254\n"
     ]
    }
   ],
   "source": [
    "t = time.time()\n",
    "print_numbers()\n",
    "print_letter()\n",
    "finished_time = time.time() - t\n",
    "print(finished_time) "
   ]
  },
  {
   "cell_type": "markdown",
   "id": "92579013-f400-4282-a504-76b87394a2ab",
   "metadata": {},
   "source": [
    "#### Create two threads"
   ]
  },
  {
   "cell_type": "code",
   "execution_count": 36,
   "id": "fa0df747-01ff-4bfe-973c-6d8d91cee91d",
   "metadata": {},
   "outputs": [],
   "source": [
    "t1 = threading.Thread(target=print_numbers)\n",
    "t2 = threading.Thread(target=print_letter)"
   ]
  },
  {
   "cell_type": "code",
   "execution_count": 37,
   "id": "7af7e6b8-fc42-4b17-b034-f49272473c68",
   "metadata": {},
   "outputs": [
    {
     "name": "stdout",
     "output_type": "stream",
     "text": [
      "Number: 0Letter: a\n",
      "\n",
      "Letter: b\n",
      "Number: 1\n",
      "Letter: cNumber: 2\n",
      "\n",
      "Number: 3Letter: d\n",
      "\n",
      "Letter: eNumber: 4\n",
      "\n",
      "10.020922422409058\n"
     ]
    }
   ],
   "source": [
    "t = time.time()\n",
    "\n",
    "# Start Thread\n",
    "t1.start()\n",
    "t2.start()\n",
    "\n",
    "#wait for the threads to complete\n",
    "t1.join()\n",
    "t2.join()\n",
    "\n",
    "finished_time = time.time() - t\n",
    "print(finished_time) "
   ]
  }
 ],
 "metadata": {
  "kernelspec": {
   "display_name": "Machine Learning",
   "language": "python",
   "name": "ml"
  },
  "language_info": {
   "codemirror_mode": {
    "name": "ipython",
    "version": 3
   },
   "file_extension": ".py",
   "mimetype": "text/x-python",
   "name": "python",
   "nbconvert_exporter": "python",
   "pygments_lexer": "ipython3",
   "version": "3.12.6"
  }
 },
 "nbformat": 4,
 "nbformat_minor": 5
}
