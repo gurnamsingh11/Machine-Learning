{
 "cells": [
  {
   "cell_type": "code",
   "execution_count": 16,
   "id": "313bbb16-cb98-43c6-9e5b-92565d5f38c7",
   "metadata": {},
   "outputs": [],
   "source": [
    "urls = '''https://python.langchain.com/docs/introduction/\n",
    "https://python.langchain.com/docs/concepts/\n",
    "https://python.langchain.com/docs/tutorials/'''.splitlines()"
   ]
  },
  {
   "cell_type": "code",
   "execution_count": 9,
   "id": "3aeeb6c9-6a95-4f53-b8a6-cf9663c782ce",
   "metadata": {},
   "outputs": [],
   "source": [
    "import threading\n",
    "import requests\n",
    "from bs4 import BeautifulSoup"
   ]
  },
  {
   "cell_type": "code",
   "execution_count": 19,
   "id": "3a4dc338-ade9-4eff-ab22-9c25f763bf90",
   "metadata": {},
   "outputs": [],
   "source": [
    "def fetch_content(url):\n",
    "    response = requests.get(url)\n",
    "    soup = BeautifulSoup(response.content, 'html.parser')\n",
    "    print(f'Fetched {len(soup.text)} Characters from {url}')"
   ]
  },
  {
   "cell_type": "code",
   "execution_count": 21,
   "id": "38087fba-fb90-4857-9ec8-509759253721",
   "metadata": {},
   "outputs": [],
   "source": [
    "threads = []"
   ]
  },
  {
   "cell_type": "code",
   "execution_count": 22,
   "id": "b6b6ab8b-14f4-4fcd-9bb0-7aef3cfea44d",
   "metadata": {},
   "outputs": [
    {
     "name": "stdout",
     "output_type": "stream",
     "text": [
      "Fetched 12060 Characters from https://python.langchain.com/docs/introduction/\n",
      "Fetched 16236 Characters from https://python.langchain.com/docs/concepts/\n",
      "Fetched 9774 Characters from https://python.langchain.com/docs/tutorials/\n",
      "All web pages fetched\n"
     ]
    }
   ],
   "source": [
    "for url in urls:\n",
    "    thread = threading.Thread(target=fetch_content, args=(url,))\n",
    "    threads.append(thread)\n",
    "    thread.start()\n",
    "\n",
    "for thread in threads:\n",
    "    thread.join()\n",
    "\n",
    "print(\"All web pages fetched\")"
   ]
  }
 ],
 "metadata": {
  "kernelspec": {
   "display_name": "Machine Learning",
   "language": "python",
   "name": "ml"
  },
  "language_info": {
   "codemirror_mode": {
    "name": "ipython",
    "version": 3
   },
   "file_extension": ".py",
   "mimetype": "text/x-python",
   "name": "python",
   "nbconvert_exporter": "python",
   "pygments_lexer": "ipython3",
   "version": "3.12.6"
  }
 },
 "nbformat": 4,
 "nbformat_minor": 5
}
