{
 "cells": [
  {
   "cell_type": "markdown",
   "id": "a28a9b88-74d8-47b6-a6dc-a4af1eb2cb6a",
   "metadata": {},
   "source": [
    "## Multi Processing"
   ]
  },
  {
   "cell_type": "markdown",
   "id": "4e22c7d0-bf3a-4d7a-8948-59a709d26060",
   "metadata": {},
   "source": [
    "### Allows to create processes that run in parallel"
   ]
  },
  {
   "cell_type": "markdown",
   "id": "737854c0-d764-4cf1-a25c-bbcf9720a792",
   "metadata": {},
   "source": [
    "### When to use\n",
    "- CPU Bound Tasks (data processing, mathematical computations)\n",
    "- Parallel execution - Multiple cores of the CPU"
   ]
  },
  {
   "cell_type": "code",
   "execution_count": 1,
   "id": "928a2505-bd3e-4576-961e-3a7440c692ee",
   "metadata": {},
   "outputs": [],
   "source": [
    "import multiprocessing\n",
    "import time"
   ]
  },
  {
   "cell_type": "code",
   "execution_count": 2,
   "id": "6dce5e93-6c20-403e-bf16-8f2e2d4134d4",
   "metadata": {},
   "outputs": [],
   "source": [
    "def square_numbers():\n",
    "    for i in range(5):\n",
    "        time.sleep(1)\n",
    "        print(f\"Square: {i**2}\")\n",
    "        \n",
    "def cube_numbers():\n",
    "    for i in range(5):\n",
    "        time.sleep(1.5)\n",
    "        print(f\"Cube: {i**3}\")"
   ]
  },
  {
   "cell_type": "code",
   "execution_count": 3,
   "id": "0f3d47ec-1bcf-4486-bf9e-a6c3d6383445",
   "metadata": {},
   "outputs": [
    {
     "name": "stdout",
     "output_type": "stream",
     "text": [
      "0.3176238536834717\n"
     ]
    }
   ],
   "source": [
    "p1 = multiprocessing.Process(target=square_numbers)\n",
    "p2 = multiprocessing.Process(target=cube_numbers)\n",
    "\n",
    "t = time.time()\n",
    "    \n",
    "## start the processes\n",
    "    \n",
    "p1.start()\n",
    "p2.start()\n",
    "    \n",
    "## wait for the process to complete\n",
    "p1.join()\n",
    "p2.join()\n",
    "\n",
    "finished_time = time.time() - t \n",
    "print(finished_time)"
   ]
  },
  {
   "cell_type": "code",
   "execution_count": 5,
   "id": "81dea078-01e4-4095-9f3f-41782d0f5aa1",
   "metadata": {},
   "outputs": [],
   "source": []
  },
  {
   "cell_type": "code",
   "execution_count": 6,
   "id": "c0f37129-0f3d-46e7-b0bc-a552be416a68",
   "metadata": {},
   "outputs": [],
   "source": []
  },
  {
   "cell_type": "code",
   "execution_count": null,
   "id": "35d998d6-e6bc-4d86-9601-f91fd890017e",
   "metadata": {},
   "outputs": [],
   "source": []
  }
 ],
 "metadata": {
  "kernelspec": {
   "display_name": "Machine Learning",
   "language": "python",
   "name": "ml"
  },
  "language_info": {
   "codemirror_mode": {
    "name": "ipython",
    "version": 3
   },
   "file_extension": ".py",
   "mimetype": "text/x-python",
   "name": "python",
   "nbconvert_exporter": "python",
   "pygments_lexer": "ipython3",
   "version": "3.12.6"
  }
 },
 "nbformat": 4,
 "nbformat_minor": 5
}
