{
 "cells": [
  {
   "cell_type": "markdown",
   "id": "4737e672-ff58-4e56-874d-8f296d32a6ab",
   "metadata": {},
   "source": [
    "## Multi Processing for CPU bound tasks"
   ]
  },
  {
   "cell_type": "code",
   "execution_count": 1,
   "id": "639f11af-9927-44ac-a1e1-1f249fb8feb0",
   "metadata": {},
   "outputs": [],
   "source": [
    "import multiprocessing\n",
    "import math\n",
    "import sys\n",
    "import time"
   ]
  },
  {
   "cell_type": "code",
   "execution_count": 2,
   "id": "b98cbf4c-cad1-489a-bb7a-fd7cd3168401",
   "metadata": {},
   "outputs": [],
   "source": [
    "# increase the max number of digits for integer conversion\n",
    "sys.set_int_max_str_digits(100000)"
   ]
  },
  {
   "cell_type": "code",
   "execution_count": 3,
   "id": "36ccf952-3a4d-46a0-8af1-ba1684d67ec4",
   "metadata": {},
   "outputs": [],
   "source": [
    "# function to compute factorials of a given number\n",
    "\n",
    "def compute_factorial(number):\n",
    "    print(f\"Computing factorials of a {number}\")\n",
    "    result = math.factorial(number)\n",
    "    return result"
   ]
  },
  {
   "cell_type": "code",
   "execution_count": null,
   "id": "87aba9c1-3881-449a-bcbc-eceb74180011",
   "metadata": {},
   "outputs": [],
   "source": [
    "if __name__ == \"__main__\":\n",
    "    numbers = [50, 60, 70, 80]\n",
    "\n",
    "    start_time = time.time()\n",
    "\n",
    "    # create a pool of worker processes\n",
    "    with multiprocessing.Pool() as pool:\n",
    "        results = pool.map(compute_factorial, numbers)\n",
    "\n",
    "    final_time = time.time() - start_time\n",
    "\n",
    "    print(f\"Results: {results}\")\n",
    "    print(f\"Time: {final_time}\")"
   ]
  }
 ],
 "metadata": {
  "kernelspec": {
   "display_name": "Machine Learning",
   "language": "python",
   "name": "ml"
  },
  "language_info": {
   "codemirror_mode": {
    "name": "ipython",
    "version": 3
   },
   "file_extension": ".py",
   "mimetype": "text/x-python",
   "name": "python",
   "nbconvert_exporter": "python",
   "pygments_lexer": "ipython3",
   "version": "3.12.6"
  }
 },
 "nbformat": 4,
 "nbformat_minor": 5
}
